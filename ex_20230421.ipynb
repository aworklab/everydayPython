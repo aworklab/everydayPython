{
  "nbformat": 4,
  "nbformat_minor": 0,
  "metadata": {
    "colab": {
      "provenance": [],
      "authorship_tag": "ABX9TyPvtfplx/J3q+XZX3yiT/de",
      "include_colab_link": true
    },
    "kernelspec": {
      "name": "python3",
      "display_name": "Python 3"
    },
    "language_info": {
      "name": "python"
    }
  },
  "cells": [
    {
      "cell_type": "markdown",
      "metadata": {
        "id": "view-in-github",
        "colab_type": "text"
      },
      "source": [
        "<a href=\"https://colab.research.google.com/github/aworklab/everydayPython/blob/main/ex_20230421.ipynb\" target=\"_parent\"><img src=\"https://colab.research.google.com/assets/colab-badge.svg\" alt=\"Open In Colab\"/></a>"
      ]
    },
    {
      "cell_type": "markdown",
      "source": [
        "# 오늘의 목표\n",
        "* Customer Analysis\n",
        "* Iterators"
      ],
      "metadata": {
        "id": "6T7j7wSN5Xn1"
      }
    },
    {
      "cell_type": "code",
      "execution_count": 2,
      "metadata": {
        "id": "S_euh9_D4z-Q"
      },
      "outputs": [],
      "source": [
        "import pandas as pd\n",
        "import numpy as np\n",
        "import plotnine as gg\n",
        "from plotnine import ggplot, aes\n",
        "import matplotlib.pyplot as plt\n",
        "import seaborn as sns\n",
        "from datetime import datetime, date, time, timezone, timedelta\n",
        "import os\n",
        "import re\n",
        "from functools import reduce\n",
        "from collections import defaultdict\n",
        "from scipy import stats\n",
        "from scipy.stats import norm"
      ]
    },
    {
      "cell_type": "markdown",
      "source": [
        "# Customer Analysis"
      ],
      "metadata": {
        "id": "Uo026RYv5X1d"
      }
    },
    {
      "cell_type": "code",
      "source": [
        "os.listdir()"
      ],
      "metadata": {
        "colab": {
          "base_uri": "https://localhost:8080/"
        },
        "id": "GkQyLQ7k5YCM",
        "outputId": "5a0ca1e9-c153-47bb-a9e1-45952d21311e"
      },
      "execution_count": 3,
      "outputs": [
        {
          "output_type": "execute_result",
          "data": {
            "text/plain": [
              "['.config',\n",
              " 'mall_customers.csv',\n",
              " 'sales_vs_discount.csv',\n",
              " 'app_wau.csv',\n",
              " 'online_retail_II.xlsx',\n",
              " 'WA_Fn-UseC_-Marketing-Customer-Value-Analysis.csv',\n",
              " 'KPMG_VI_New_raw_data_update_final.csv',\n",
              " 'KPMG_VI_New_raw_data_update_final.xlsx',\n",
              " 'bz_data_analyis.csv',\n",
              " 'ecommerce-data.csv',\n",
              " 'test.csv',\n",
              " 'sample-sales-data.csv',\n",
              " 'lead_conversion.csv',\n",
              " 'match_result_test.csv',\n",
              " '1_orders_dataset.csv',\n",
              " 'scanner_data.csv',\n",
              " 'WA_Fn-UseC_-Telco-Customer-Churn.csv',\n",
              " 'groceries.csv',\n",
              " 'cookie_cats.csv',\n",
              " 'sales.csv',\n",
              " '1_customers_dataset.csv',\n",
              " '1_order_payments_dataset.csv',\n",
              " 'mock_sales_data.csv',\n",
              " 'ab_experiment.csv',\n",
              " 'sales_data_with_stores.csv',\n",
              " 'online_retail.xlsx',\n",
              " 'sample_data']"
            ]
          },
          "metadata": {},
          "execution_count": 3
        }
      ]
    },
    {
      "cell_type": "code",
      "source": [
        "df = pd.read_csv('KPMG_VI_New_raw_data_update_final.csv')\n",
        "df['date'] = pd.to_datetime(df['transaction_date'], format = '%d-%m-%Y')\n",
        "df['week'] = df['date'] - df['date'].dt.weekday.astype('timedelta64[D]')\n",
        "df.drop(['transaction_date'], axis = 1, inplace = True)\n",
        "df.head()"
      ],
      "metadata": {
        "colab": {
          "base_uri": "https://localhost:8080/",
          "height": 357
        },
        "id": "XI5exY_U7wPF",
        "outputId": "9141f38d-416f-4696-f5c7-cb0cc9d9bbb4"
      },
      "execution_count": 5,
      "outputs": [
        {
          "output_type": "execute_result",
          "data": {
            "text/plain": [
              "   transaction_id  product_id  ...       date       week\n",
              "0               1           2  ... 2017-02-25 2017-02-20\n",
              "1               2           3  ... 2017-05-21 2017-05-15\n",
              "2               3          37  ... 2017-10-16 2017-10-16\n",
              "3               4          88  ... 2017-08-31 2017-08-28\n",
              "4               5          78  ... 2017-10-01 2017-09-25\n",
              "\n",
              "[5 rows x 14 columns]"
            ],
            "text/html": [
              "\n",
              "  <div id=\"df-5c833dd7-039e-498e-8f0a-b23b5d17837b\">\n",
              "    <div class=\"colab-df-container\">\n",
              "      <div>\n",
              "<style scoped>\n",
              "    .dataframe tbody tr th:only-of-type {\n",
              "        vertical-align: middle;\n",
              "    }\n",
              "\n",
              "    .dataframe tbody tr th {\n",
              "        vertical-align: top;\n",
              "    }\n",
              "\n",
              "    .dataframe thead th {\n",
              "        text-align: right;\n",
              "    }\n",
              "</style>\n",
              "<table border=\"1\" class=\"dataframe\">\n",
              "  <thead>\n",
              "    <tr style=\"text-align: right;\">\n",
              "      <th></th>\n",
              "      <th>transaction_id</th>\n",
              "      <th>product_id</th>\n",
              "      <th>customer_id</th>\n",
              "      <th>online_order</th>\n",
              "      <th>order_status</th>\n",
              "      <th>brand</th>\n",
              "      <th>product_line</th>\n",
              "      <th>product_class</th>\n",
              "      <th>product_size</th>\n",
              "      <th>list_price</th>\n",
              "      <th>standard_cost</th>\n",
              "      <th>product_first_sold_date</th>\n",
              "      <th>date</th>\n",
              "      <th>week</th>\n",
              "    </tr>\n",
              "  </thead>\n",
              "  <tbody>\n",
              "    <tr>\n",
              "      <th>0</th>\n",
              "      <td>1</td>\n",
              "      <td>2</td>\n",
              "      <td>2950</td>\n",
              "      <td>False</td>\n",
              "      <td>Approved</td>\n",
              "      <td>Solex</td>\n",
              "      <td>Standard</td>\n",
              "      <td>medium</td>\n",
              "      <td>medium</td>\n",
              "      <td>71.49</td>\n",
              "      <td>53.62</td>\n",
              "      <td>41245.0</td>\n",
              "      <td>2017-02-25</td>\n",
              "      <td>2017-02-20</td>\n",
              "    </tr>\n",
              "    <tr>\n",
              "      <th>1</th>\n",
              "      <td>2</td>\n",
              "      <td>3</td>\n",
              "      <td>3120</td>\n",
              "      <td>True</td>\n",
              "      <td>Approved</td>\n",
              "      <td>Trek Bicycles</td>\n",
              "      <td>Standard</td>\n",
              "      <td>medium</td>\n",
              "      <td>large</td>\n",
              "      <td>2091.47</td>\n",
              "      <td>388.92</td>\n",
              "      <td>41701.0</td>\n",
              "      <td>2017-05-21</td>\n",
              "      <td>2017-05-15</td>\n",
              "    </tr>\n",
              "    <tr>\n",
              "      <th>2</th>\n",
              "      <td>3</td>\n",
              "      <td>37</td>\n",
              "      <td>402</td>\n",
              "      <td>False</td>\n",
              "      <td>Approved</td>\n",
              "      <td>OHM Cycles</td>\n",
              "      <td>Standard</td>\n",
              "      <td>low</td>\n",
              "      <td>medium</td>\n",
              "      <td>1793.43</td>\n",
              "      <td>248.82</td>\n",
              "      <td>36361.0</td>\n",
              "      <td>2017-10-16</td>\n",
              "      <td>2017-10-16</td>\n",
              "    </tr>\n",
              "    <tr>\n",
              "      <th>3</th>\n",
              "      <td>4</td>\n",
              "      <td>88</td>\n",
              "      <td>3135</td>\n",
              "      <td>False</td>\n",
              "      <td>Approved</td>\n",
              "      <td>Norco Bicycles</td>\n",
              "      <td>Standard</td>\n",
              "      <td>medium</td>\n",
              "      <td>medium</td>\n",
              "      <td>1198.46</td>\n",
              "      <td>381.10</td>\n",
              "      <td>36145.0</td>\n",
              "      <td>2017-08-31</td>\n",
              "      <td>2017-08-28</td>\n",
              "    </tr>\n",
              "    <tr>\n",
              "      <th>4</th>\n",
              "      <td>5</td>\n",
              "      <td>78</td>\n",
              "      <td>787</td>\n",
              "      <td>True</td>\n",
              "      <td>Approved</td>\n",
              "      <td>Giant Bicycles</td>\n",
              "      <td>Standard</td>\n",
              "      <td>medium</td>\n",
              "      <td>large</td>\n",
              "      <td>1765.30</td>\n",
              "      <td>709.48</td>\n",
              "      <td>42226.0</td>\n",
              "      <td>2017-10-01</td>\n",
              "      <td>2017-09-25</td>\n",
              "    </tr>\n",
              "  </tbody>\n",
              "</table>\n",
              "</div>\n",
              "      <button class=\"colab-df-convert\" onclick=\"convertToInteractive('df-5c833dd7-039e-498e-8f0a-b23b5d17837b')\"\n",
              "              title=\"Convert this dataframe to an interactive table.\"\n",
              "              style=\"display:none;\">\n",
              "        \n",
              "  <svg xmlns=\"http://www.w3.org/2000/svg\" height=\"24px\"viewBox=\"0 0 24 24\"\n",
              "       width=\"24px\">\n",
              "    <path d=\"M0 0h24v24H0V0z\" fill=\"none\"/>\n",
              "    <path d=\"M18.56 5.44l.94 2.06.94-2.06 2.06-.94-2.06-.94-.94-2.06-.94 2.06-2.06.94zm-11 1L8.5 8.5l.94-2.06 2.06-.94-2.06-.94L8.5 2.5l-.94 2.06-2.06.94zm10 10l.94 2.06.94-2.06 2.06-.94-2.06-.94-.94-2.06-.94 2.06-2.06.94z\"/><path d=\"M17.41 7.96l-1.37-1.37c-.4-.4-.92-.59-1.43-.59-.52 0-1.04.2-1.43.59L10.3 9.45l-7.72 7.72c-.78.78-.78 2.05 0 2.83L4 21.41c.39.39.9.59 1.41.59.51 0 1.02-.2 1.41-.59l7.78-7.78 2.81-2.81c.8-.78.8-2.07 0-2.86zM5.41 20L4 18.59l7.72-7.72 1.47 1.35L5.41 20z\"/>\n",
              "  </svg>\n",
              "      </button>\n",
              "      \n",
              "  <style>\n",
              "    .colab-df-container {\n",
              "      display:flex;\n",
              "      flex-wrap:wrap;\n",
              "      gap: 12px;\n",
              "    }\n",
              "\n",
              "    .colab-df-convert {\n",
              "      background-color: #E8F0FE;\n",
              "      border: none;\n",
              "      border-radius: 50%;\n",
              "      cursor: pointer;\n",
              "      display: none;\n",
              "      fill: #1967D2;\n",
              "      height: 32px;\n",
              "      padding: 0 0 0 0;\n",
              "      width: 32px;\n",
              "    }\n",
              "\n",
              "    .colab-df-convert:hover {\n",
              "      background-color: #E2EBFA;\n",
              "      box-shadow: 0px 1px 2px rgba(60, 64, 67, 0.3), 0px 1px 3px 1px rgba(60, 64, 67, 0.15);\n",
              "      fill: #174EA6;\n",
              "    }\n",
              "\n",
              "    [theme=dark] .colab-df-convert {\n",
              "      background-color: #3B4455;\n",
              "      fill: #D2E3FC;\n",
              "    }\n",
              "\n",
              "    [theme=dark] .colab-df-convert:hover {\n",
              "      background-color: #434B5C;\n",
              "      box-shadow: 0px 1px 3px 1px rgba(0, 0, 0, 0.15);\n",
              "      filter: drop-shadow(0px 1px 2px rgba(0, 0, 0, 0.3));\n",
              "      fill: #FFFFFF;\n",
              "    }\n",
              "  </style>\n",
              "\n",
              "      <script>\n",
              "        const buttonEl =\n",
              "          document.querySelector('#df-5c833dd7-039e-498e-8f0a-b23b5d17837b button.colab-df-convert');\n",
              "        buttonEl.style.display =\n",
              "          google.colab.kernel.accessAllowed ? 'block' : 'none';\n",
              "\n",
              "        async function convertToInteractive(key) {\n",
              "          const element = document.querySelector('#df-5c833dd7-039e-498e-8f0a-b23b5d17837b');\n",
              "          const dataTable =\n",
              "            await google.colab.kernel.invokeFunction('convertToInteractive',\n",
              "                                                     [key], {});\n",
              "          if (!dataTable) return;\n",
              "\n",
              "          const docLinkHtml = 'Like what you see? Visit the ' +\n",
              "            '<a target=\"_blank\" href=https://colab.research.google.com/notebooks/data_table.ipynb>data table notebook</a>'\n",
              "            + ' to learn more about interactive tables.';\n",
              "          element.innerHTML = '';\n",
              "          dataTable['output_type'] = 'display_data';\n",
              "          await google.colab.output.renderOutput(dataTable, element);\n",
              "          const docLink = document.createElement('div');\n",
              "          docLink.innerHTML = docLinkHtml;\n",
              "          element.appendChild(docLink);\n",
              "        }\n",
              "      </script>\n",
              "    </div>\n",
              "  </div>\n",
              "  "
            ]
          },
          "metadata": {},
          "execution_count": 5
        }
      ]
    },
    {
      "cell_type": "code",
      "source": [
        "cnt_rev = df.groupby(['online_order', 'order_status'])['list_price'].agg(['sum', 'count']).reset_index().rename(columns = {'sum':'rev','count':'cnt'})\n",
        "cnt_rev['ratio_rev'] = cnt_rev.groupby(['online_order'], group_keys = False)['rev'].apply(lambda x : round(x/sum(x)*100,2))\n",
        "cnt_rev['ratio_cnt'] = cnt_rev.groupby(['online_order'], group_keys = False)['cnt'].apply(lambda x : round(x/sum(x)*100,2))\n",
        "cnt_rev"
      ],
      "metadata": {
        "colab": {
          "base_uri": "https://localhost:8080/",
          "height": 174
        },
        "id": "ApXFHVu973lB",
        "outputId": "227fc67d-5657-48e0-e160-9cecf65c6776"
      },
      "execution_count": 17,
      "outputs": [
        {
          "output_type": "execute_result",
          "data": {
            "text/plain": [
              "   online_order order_status          rev   cnt  ratio_rev  ratio_cnt\n",
              "0         False     Approved  10776568.41  9735       99.2      99.23\n",
              "1         False    Cancelled     87043.72    76        0.8       0.77\n",
              "2          True     Approved  10771244.16  9732       99.0      99.01\n",
              "3          True    Cancelled    108924.20    97        1.0       0.99"
            ],
            "text/html": [
              "\n",
              "  <div id=\"df-e3e71db1-2f6b-4bf7-9aac-4bf22121d27c\">\n",
              "    <div class=\"colab-df-container\">\n",
              "      <div>\n",
              "<style scoped>\n",
              "    .dataframe tbody tr th:only-of-type {\n",
              "        vertical-align: middle;\n",
              "    }\n",
              "\n",
              "    .dataframe tbody tr th {\n",
              "        vertical-align: top;\n",
              "    }\n",
              "\n",
              "    .dataframe thead th {\n",
              "        text-align: right;\n",
              "    }\n",
              "</style>\n",
              "<table border=\"1\" class=\"dataframe\">\n",
              "  <thead>\n",
              "    <tr style=\"text-align: right;\">\n",
              "      <th></th>\n",
              "      <th>online_order</th>\n",
              "      <th>order_status</th>\n",
              "      <th>rev</th>\n",
              "      <th>cnt</th>\n",
              "      <th>ratio_rev</th>\n",
              "      <th>ratio_cnt</th>\n",
              "    </tr>\n",
              "  </thead>\n",
              "  <tbody>\n",
              "    <tr>\n",
              "      <th>0</th>\n",
              "      <td>False</td>\n",
              "      <td>Approved</td>\n",
              "      <td>10776568.41</td>\n",
              "      <td>9735</td>\n",
              "      <td>99.2</td>\n",
              "      <td>99.23</td>\n",
              "    </tr>\n",
              "    <tr>\n",
              "      <th>1</th>\n",
              "      <td>False</td>\n",
              "      <td>Cancelled</td>\n",
              "      <td>87043.72</td>\n",
              "      <td>76</td>\n",
              "      <td>0.8</td>\n",
              "      <td>0.77</td>\n",
              "    </tr>\n",
              "    <tr>\n",
              "      <th>2</th>\n",
              "      <td>True</td>\n",
              "      <td>Approved</td>\n",
              "      <td>10771244.16</td>\n",
              "      <td>9732</td>\n",
              "      <td>99.0</td>\n",
              "      <td>99.01</td>\n",
              "    </tr>\n",
              "    <tr>\n",
              "      <th>3</th>\n",
              "      <td>True</td>\n",
              "      <td>Cancelled</td>\n",
              "      <td>108924.20</td>\n",
              "      <td>97</td>\n",
              "      <td>1.0</td>\n",
              "      <td>0.99</td>\n",
              "    </tr>\n",
              "  </tbody>\n",
              "</table>\n",
              "</div>\n",
              "      <button class=\"colab-df-convert\" onclick=\"convertToInteractive('df-e3e71db1-2f6b-4bf7-9aac-4bf22121d27c')\"\n",
              "              title=\"Convert this dataframe to an interactive table.\"\n",
              "              style=\"display:none;\">\n",
              "        \n",
              "  <svg xmlns=\"http://www.w3.org/2000/svg\" height=\"24px\"viewBox=\"0 0 24 24\"\n",
              "       width=\"24px\">\n",
              "    <path d=\"M0 0h24v24H0V0z\" fill=\"none\"/>\n",
              "    <path d=\"M18.56 5.44l.94 2.06.94-2.06 2.06-.94-2.06-.94-.94-2.06-.94 2.06-2.06.94zm-11 1L8.5 8.5l.94-2.06 2.06-.94-2.06-.94L8.5 2.5l-.94 2.06-2.06.94zm10 10l.94 2.06.94-2.06 2.06-.94-2.06-.94-.94-2.06-.94 2.06-2.06.94z\"/><path d=\"M17.41 7.96l-1.37-1.37c-.4-.4-.92-.59-1.43-.59-.52 0-1.04.2-1.43.59L10.3 9.45l-7.72 7.72c-.78.78-.78 2.05 0 2.83L4 21.41c.39.39.9.59 1.41.59.51 0 1.02-.2 1.41-.59l7.78-7.78 2.81-2.81c.8-.78.8-2.07 0-2.86zM5.41 20L4 18.59l7.72-7.72 1.47 1.35L5.41 20z\"/>\n",
              "  </svg>\n",
              "      </button>\n",
              "      \n",
              "  <style>\n",
              "    .colab-df-container {\n",
              "      display:flex;\n",
              "      flex-wrap:wrap;\n",
              "      gap: 12px;\n",
              "    }\n",
              "\n",
              "    .colab-df-convert {\n",
              "      background-color: #E8F0FE;\n",
              "      border: none;\n",
              "      border-radius: 50%;\n",
              "      cursor: pointer;\n",
              "      display: none;\n",
              "      fill: #1967D2;\n",
              "      height: 32px;\n",
              "      padding: 0 0 0 0;\n",
              "      width: 32px;\n",
              "    }\n",
              "\n",
              "    .colab-df-convert:hover {\n",
              "      background-color: #E2EBFA;\n",
              "      box-shadow: 0px 1px 2px rgba(60, 64, 67, 0.3), 0px 1px 3px 1px rgba(60, 64, 67, 0.15);\n",
              "      fill: #174EA6;\n",
              "    }\n",
              "\n",
              "    [theme=dark] .colab-df-convert {\n",
              "      background-color: #3B4455;\n",
              "      fill: #D2E3FC;\n",
              "    }\n",
              "\n",
              "    [theme=dark] .colab-df-convert:hover {\n",
              "      background-color: #434B5C;\n",
              "      box-shadow: 0px 1px 3px 1px rgba(0, 0, 0, 0.15);\n",
              "      filter: drop-shadow(0px 1px 2px rgba(0, 0, 0, 0.3));\n",
              "      fill: #FFFFFF;\n",
              "    }\n",
              "  </style>\n",
              "\n",
              "      <script>\n",
              "        const buttonEl =\n",
              "          document.querySelector('#df-e3e71db1-2f6b-4bf7-9aac-4bf22121d27c button.colab-df-convert');\n",
              "        buttonEl.style.display =\n",
              "          google.colab.kernel.accessAllowed ? 'block' : 'none';\n",
              "\n",
              "        async function convertToInteractive(key) {\n",
              "          const element = document.querySelector('#df-e3e71db1-2f6b-4bf7-9aac-4bf22121d27c');\n",
              "          const dataTable =\n",
              "            await google.colab.kernel.invokeFunction('convertToInteractive',\n",
              "                                                     [key], {});\n",
              "          if (!dataTable) return;\n",
              "\n",
              "          const docLinkHtml = 'Like what you see? Visit the ' +\n",
              "            '<a target=\"_blank\" href=https://colab.research.google.com/notebooks/data_table.ipynb>data table notebook</a>'\n",
              "            + ' to learn more about interactive tables.';\n",
              "          element.innerHTML = '';\n",
              "          dataTable['output_type'] = 'display_data';\n",
              "          await google.colab.output.renderOutput(dataTable, element);\n",
              "          const docLink = document.createElement('div');\n",
              "          docLink.innerHTML = docLinkHtml;\n",
              "          element.appendChild(docLink);\n",
              "        }\n",
              "      </script>\n",
              "    </div>\n",
              "  </div>\n",
              "  "
            ]
          },
          "metadata": {},
          "execution_count": 17
        }
      ]
    },
    {
      "cell_type": "markdown",
      "source": [
        "# Iterators"
      ],
      "metadata": {
        "id": "K1uwCTyp5YM4"
      }
    },
    {
      "cell_type": "code",
      "source": [
        "users = [{'mail': 'gregorythomas@gmail.com', 'name': 'Brett Holland', 'sex': 'M', 'age': 73},\n",
        " {'mail': 'hintoncynthia@hotmail.com', 'name': 'Madison Martinez', 'sex': 'F', 'age': 29},\n",
        " {'mail': 'wwagner@gmail.com', 'name': 'Michael Jenkins', 'sex': 'M', 'age': 51},\n",
        " {'mail': 'daniel79@gmail.com', 'name': 'Karen Rodriguez', 'sex': 'F', 'age': 32},\n",
        " {'mail': 'ujackson@gmail.com', 'name': 'Amber Rhodes', 'sex': 'F', 'age': 42}]\n",
        "users"
      ],
      "metadata": {
        "colab": {
          "base_uri": "https://localhost:8080/"
        },
        "id": "OeX6bnvr5YaV",
        "outputId": "54df7323-7c18-49eb-c0e5-2dab669f06b8"
      },
      "execution_count": 18,
      "outputs": [
        {
          "output_type": "execute_result",
          "data": {
            "text/plain": [
              "[{'mail': 'gregorythomas@gmail.com',\n",
              "  'name': 'Brett Holland',\n",
              "  'sex': 'M',\n",
              "  'age': 73},\n",
              " {'mail': 'hintoncynthia@hotmail.com',\n",
              "  'name': 'Madison Martinez',\n",
              "  'sex': 'F',\n",
              "  'age': 29},\n",
              " {'mail': 'wwagner@gmail.com',\n",
              "  'name': 'Michael Jenkins',\n",
              "  'sex': 'M',\n",
              "  'age': 51},\n",
              " {'mail': 'daniel79@gmail.com',\n",
              "  'name': 'Karen Rodriguez',\n",
              "  'sex': 'F',\n",
              "  'age': 32},\n",
              " {'mail': 'ujackson@gmail.com', 'name': 'Amber Rhodes', 'sex': 'F', 'age': 42}]"
            ]
          },
          "metadata": {},
          "execution_count": 18
        }
      ]
    },
    {
      "cell_type": "code",
      "source": [
        "{k : eval(f'reduce(lambda acc, cur : acc + [cur[\"{k}\"]], users, [])') for k in users[0].keys()}"
      ],
      "metadata": {
        "colab": {
          "base_uri": "https://localhost:8080/"
        },
        "id": "SLtlSqWz99GP",
        "outputId": "95a9d008-080a-4687-ec46-28ff47112e08"
      },
      "execution_count": 20,
      "outputs": [
        {
          "output_type": "execute_result",
          "data": {
            "text/plain": [
              "{'mail': ['gregorythomas@gmail.com',\n",
              "  'hintoncynthia@hotmail.com',\n",
              "  'wwagner@gmail.com',\n",
              "  'daniel79@gmail.com',\n",
              "  'ujackson@gmail.com'],\n",
              " 'name': ['Brett Holland',\n",
              "  'Madison Martinez',\n",
              "  'Michael Jenkins',\n",
              "  'Karen Rodriguez',\n",
              "  'Amber Rhodes'],\n",
              " 'sex': ['M', 'F', 'M', 'F', 'F'],\n",
              " 'age': [73, 29, 51, 32, 42]}"
            ]
          },
          "metadata": {},
          "execution_count": 20
        }
      ]
    },
    {
      "cell_type": "code",
      "source": [
        "{k : [user[k] for user in users] for k in users[0].keys()}"
      ],
      "metadata": {
        "colab": {
          "base_uri": "https://localhost:8080/"
        },
        "id": "ACJPjzjP-DKn",
        "outputId": "4c3de56a-806c-4043-ad28-90ebdaaf1270"
      },
      "execution_count": 21,
      "outputs": [
        {
          "output_type": "execute_result",
          "data": {
            "text/plain": [
              "{'mail': ['gregorythomas@gmail.com',\n",
              "  'hintoncynthia@hotmail.com',\n",
              "  'wwagner@gmail.com',\n",
              "  'daniel79@gmail.com',\n",
              "  'ujackson@gmail.com'],\n",
              " 'name': ['Brett Holland',\n",
              "  'Madison Martinez',\n",
              "  'Michael Jenkins',\n",
              "  'Karen Rodriguez',\n",
              "  'Amber Rhodes'],\n",
              " 'sex': ['M', 'F', 'M', 'F', 'F'],\n",
              " 'age': [73, 29, 51, 32, 42]}"
            ]
          },
          "metadata": {},
          "execution_count": 21
        }
      ]
    },
    {
      "cell_type": "code",
      "source": [],
      "metadata": {
        "id": "lIZhaXRA-KmL"
      },
      "execution_count": null,
      "outputs": []
    }
  ]
}