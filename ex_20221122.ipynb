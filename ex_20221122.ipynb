{
  "nbformat": 4,
  "nbformat_minor": 0,
  "metadata": {
    "colab": {
      "provenance": [],
      "authorship_tag": "ABX9TyNNlx5gog7xyVz14OEeZWL0",
      "include_colab_link": true
    },
    "kernelspec": {
      "name": "python3",
      "display_name": "Python 3"
    },
    "language_info": {
      "name": "python"
    }
  },
  "cells": [
    {
      "cell_type": "markdown",
      "metadata": {
        "id": "view-in-github",
        "colab_type": "text"
      },
      "source": [
        "<a href=\"https://colab.research.google.com/github/aworklab/everydayPython/blob/main/ex_20221122.ipynb\" target=\"_parent\"><img src=\"https://colab.research.google.com/assets/colab-badge.svg\" alt=\"Open In Colab\"/></a>"
      ]
    },
    {
      "cell_type": "markdown",
      "source": [
        "# 오늘의 목표\n",
        "* Customer Analysis\n",
        "* Iterators"
      ],
      "metadata": {
        "id": "K5b05W5jA8Bt"
      }
    },
    {
      "cell_type": "code",
      "execution_count": 1,
      "metadata": {
        "id": "BcGEszc4_r03"
      },
      "outputs": [],
      "source": [
        "import pandas as pd\n",
        "import numpy as np\n",
        "import plotnine as gg\n",
        "from plotnine import ggplot, aes\n",
        "import matplotlib.pyplot as plt\n",
        "import seaborn as sns \n",
        "from datetime import datetime, date, time, timezone, timedelta \n",
        "\n",
        "import os\n",
        "import re\n",
        "\n",
        "from functools import reduce\n",
        "from collections import defaultdict \n",
        "\n",
        "import prophet as pr"
      ]
    },
    {
      "cell_type": "markdown",
      "source": [
        "# Customer Analysis"
      ],
      "metadata": {
        "id": "Vk2el2WGA8Mr"
      }
    },
    {
      "cell_type": "code",
      "source": [
        "os.listdir()"
      ],
      "metadata": {
        "colab": {
          "base_uri": "https://localhost:8080/"
        },
        "id": "PfaZv-C6A8ZC",
        "outputId": "af06df5a-03b6-4257-b035-9986ab205f54"
      },
      "execution_count": 2,
      "outputs": [
        {
          "output_type": "execute_result",
          "data": {
            "text/plain": [
              "['.config',\n",
              " 'sales.csv',\n",
              " 'scanner_data.csv',\n",
              " 'mall_customers.csv',\n",
              " 'online_retail_II.xlsx',\n",
              " 'ecommerce-data.csv',\n",
              " 'match_result_test.csv',\n",
              " 'groceries.csv',\n",
              " 'sales_vs_discount.csv',\n",
              " 'online_retail.xlsx',\n",
              " 'sample-sales-data.csv',\n",
              " '1_customers_dataset.csv',\n",
              " 'mock_sales_data.csv',\n",
              " 'KPMG_VI_New_raw_data_update_final.xlsx',\n",
              " 'KPMG_VI_New_raw_data_update_final.csv',\n",
              " '1_order_payments_dataset.csv',\n",
              " 'bz_data_analyis.csv',\n",
              " '1_orders_dataset.csv',\n",
              " 'sales_data_with_stores.csv',\n",
              " 'test.csv',\n",
              " 'sample_data']"
            ]
          },
          "metadata": {},
          "execution_count": 2
        }
      ]
    },
    {
      "cell_type": "code",
      "source": [
        "df = pd.read_csv('sales.csv')\n",
        "df.head()"
      ],
      "metadata": {
        "colab": {
          "base_uri": "https://localhost:8080/",
          "height": 206
        },
        "id": "unMKxxIyBP1u",
        "outputId": "2d6ff9ef-0f67-4814-a133-4ae89873b129"
      },
      "execution_count": 3,
      "outputs": [
        {
          "output_type": "execute_result",
          "data": {
            "text/plain": [
              "   id  product_code product_group  ...    price  last_week_sales  last_month_sales\n",
              "0   1          4187           PG2  ...   569.91               13                58\n",
              "1   2          4195           PG2  ...   712.41               16                58\n",
              "2   3          4204           PG2  ...   854.91               22                88\n",
              "3   4          4219           PG2  ...  1034.55               14                45\n",
              "4   5          4718           PG2  ...    26.59               50               285\n",
              "\n",
              "[5 rows x 8 columns]"
            ],
            "text/html": [
              "\n",
              "  <div id=\"df-97a15aae-2883-43bc-b925-2749d9b6accb\">\n",
              "    <div class=\"colab-df-container\">\n",
              "      <div>\n",
              "<style scoped>\n",
              "    .dataframe tbody tr th:only-of-type {\n",
              "        vertical-align: middle;\n",
              "    }\n",
              "\n",
              "    .dataframe tbody tr th {\n",
              "        vertical-align: top;\n",
              "    }\n",
              "\n",
              "    .dataframe thead th {\n",
              "        text-align: right;\n",
              "    }\n",
              "</style>\n",
              "<table border=\"1\" class=\"dataframe\">\n",
              "  <thead>\n",
              "    <tr style=\"text-align: right;\">\n",
              "      <th></th>\n",
              "      <th>id</th>\n",
              "      <th>product_code</th>\n",
              "      <th>product_group</th>\n",
              "      <th>stock_qty</th>\n",
              "      <th>cost</th>\n",
              "      <th>price</th>\n",
              "      <th>last_week_sales</th>\n",
              "      <th>last_month_sales</th>\n",
              "    </tr>\n",
              "  </thead>\n",
              "  <tbody>\n",
              "    <tr>\n",
              "      <th>0</th>\n",
              "      <td>1</td>\n",
              "      <td>4187</td>\n",
              "      <td>PG2</td>\n",
              "      <td>498</td>\n",
              "      <td>420.76</td>\n",
              "      <td>569.91</td>\n",
              "      <td>13</td>\n",
              "      <td>58</td>\n",
              "    </tr>\n",
              "    <tr>\n",
              "      <th>1</th>\n",
              "      <td>2</td>\n",
              "      <td>4195</td>\n",
              "      <td>PG2</td>\n",
              "      <td>473</td>\n",
              "      <td>545.64</td>\n",
              "      <td>712.41</td>\n",
              "      <td>16</td>\n",
              "      <td>58</td>\n",
              "    </tr>\n",
              "    <tr>\n",
              "      <th>2</th>\n",
              "      <td>3</td>\n",
              "      <td>4204</td>\n",
              "      <td>PG2</td>\n",
              "      <td>968</td>\n",
              "      <td>640.42</td>\n",
              "      <td>854.91</td>\n",
              "      <td>22</td>\n",
              "      <td>88</td>\n",
              "    </tr>\n",
              "    <tr>\n",
              "      <th>3</th>\n",
              "      <td>4</td>\n",
              "      <td>4219</td>\n",
              "      <td>PG2</td>\n",
              "      <td>241</td>\n",
              "      <td>869.69</td>\n",
              "      <td>1034.55</td>\n",
              "      <td>14</td>\n",
              "      <td>45</td>\n",
              "    </tr>\n",
              "    <tr>\n",
              "      <th>4</th>\n",
              "      <td>5</td>\n",
              "      <td>4718</td>\n",
              "      <td>PG2</td>\n",
              "      <td>1401</td>\n",
              "      <td>12.54</td>\n",
              "      <td>26.59</td>\n",
              "      <td>50</td>\n",
              "      <td>285</td>\n",
              "    </tr>\n",
              "  </tbody>\n",
              "</table>\n",
              "</div>\n",
              "      <button class=\"colab-df-convert\" onclick=\"convertToInteractive('df-97a15aae-2883-43bc-b925-2749d9b6accb')\"\n",
              "              title=\"Convert this dataframe to an interactive table.\"\n",
              "              style=\"display:none;\">\n",
              "        \n",
              "  <svg xmlns=\"http://www.w3.org/2000/svg\" height=\"24px\"viewBox=\"0 0 24 24\"\n",
              "       width=\"24px\">\n",
              "    <path d=\"M0 0h24v24H0V0z\" fill=\"none\"/>\n",
              "    <path d=\"M18.56 5.44l.94 2.06.94-2.06 2.06-.94-2.06-.94-.94-2.06-.94 2.06-2.06.94zm-11 1L8.5 8.5l.94-2.06 2.06-.94-2.06-.94L8.5 2.5l-.94 2.06-2.06.94zm10 10l.94 2.06.94-2.06 2.06-.94-2.06-.94-.94-2.06-.94 2.06-2.06.94z\"/><path d=\"M17.41 7.96l-1.37-1.37c-.4-.4-.92-.59-1.43-.59-.52 0-1.04.2-1.43.59L10.3 9.45l-7.72 7.72c-.78.78-.78 2.05 0 2.83L4 21.41c.39.39.9.59 1.41.59.51 0 1.02-.2 1.41-.59l7.78-7.78 2.81-2.81c.8-.78.8-2.07 0-2.86zM5.41 20L4 18.59l7.72-7.72 1.47 1.35L5.41 20z\"/>\n",
              "  </svg>\n",
              "      </button>\n",
              "      \n",
              "  <style>\n",
              "    .colab-df-container {\n",
              "      display:flex;\n",
              "      flex-wrap:wrap;\n",
              "      gap: 12px;\n",
              "    }\n",
              "\n",
              "    .colab-df-convert {\n",
              "      background-color: #E8F0FE;\n",
              "      border: none;\n",
              "      border-radius: 50%;\n",
              "      cursor: pointer;\n",
              "      display: none;\n",
              "      fill: #1967D2;\n",
              "      height: 32px;\n",
              "      padding: 0 0 0 0;\n",
              "      width: 32px;\n",
              "    }\n",
              "\n",
              "    .colab-df-convert:hover {\n",
              "      background-color: #E2EBFA;\n",
              "      box-shadow: 0px 1px 2px rgba(60, 64, 67, 0.3), 0px 1px 3px 1px rgba(60, 64, 67, 0.15);\n",
              "      fill: #174EA6;\n",
              "    }\n",
              "\n",
              "    [theme=dark] .colab-df-convert {\n",
              "      background-color: #3B4455;\n",
              "      fill: #D2E3FC;\n",
              "    }\n",
              "\n",
              "    [theme=dark] .colab-df-convert:hover {\n",
              "      background-color: #434B5C;\n",
              "      box-shadow: 0px 1px 3px 1px rgba(0, 0, 0, 0.15);\n",
              "      filter: drop-shadow(0px 1px 2px rgba(0, 0, 0, 0.3));\n",
              "      fill: #FFFFFF;\n",
              "    }\n",
              "  </style>\n",
              "\n",
              "      <script>\n",
              "        const buttonEl =\n",
              "          document.querySelector('#df-97a15aae-2883-43bc-b925-2749d9b6accb button.colab-df-convert');\n",
              "        buttonEl.style.display =\n",
              "          google.colab.kernel.accessAllowed ? 'block' : 'none';\n",
              "\n",
              "        async function convertToInteractive(key) {\n",
              "          const element = document.querySelector('#df-97a15aae-2883-43bc-b925-2749d9b6accb');\n",
              "          const dataTable =\n",
              "            await google.colab.kernel.invokeFunction('convertToInteractive',\n",
              "                                                     [key], {});\n",
              "          if (!dataTable) return;\n",
              "\n",
              "          const docLinkHtml = 'Like what you see? Visit the ' +\n",
              "            '<a target=\"_blank\" href=https://colab.research.google.com/notebooks/data_table.ipynb>data table notebook</a>'\n",
              "            + ' to learn more about interactive tables.';\n",
              "          element.innerHTML = '';\n",
              "          dataTable['output_type'] = 'display_data';\n",
              "          await google.colab.output.renderOutput(dataTable, element);\n",
              "          const docLink = document.createElement('div');\n",
              "          docLink.innerHTML = docLinkHtml;\n",
              "          element.appendChild(docLink);\n",
              "        }\n",
              "      </script>\n",
              "    </div>\n",
              "  </div>\n",
              "  "
            ]
          },
          "metadata": {},
          "execution_count": 3
        }
      ]
    },
    {
      "cell_type": "code",
      "source": [
        "cnt = df.groupby(['product_group'])['stock_qty', 'last_week_sales',\t'last_month_sales'].sum().reset_index()\n",
        "cnt['week_ratio'] = cnt['last_week_sales']/(cnt['stock_qty'] + cnt['last_week_sales']) * 100\n",
        "cnt['month_ratio'] = cnt['last_month_sales']/(cnt['stock_qty'] + cnt['last_week_sales']) * 100\n",
        "cnt.head()"
      ],
      "metadata": {
        "colab": {
          "base_uri": "https://localhost:8080/",
          "height": 244
        },
        "id": "LfPNnvM0BVl2",
        "outputId": "4b42c235-7693-4370-ab82-d6a428c5101e"
      },
      "execution_count": 37,
      "outputs": [
        {
          "output_type": "stream",
          "name": "stderr",
          "text": [
            "/usr/local/lib/python3.7/dist-packages/ipykernel_launcher.py:1: FutureWarning: Indexing with multiple keys (implicitly converted to a tuple of keys) will be deprecated, use a list instead.\n"
          ]
        },
        {
          "output_type": "execute_result",
          "data": {
            "text/plain": [
              "  product_group  stock_qty  ...  week_ratio  month_ratio\n",
              "0           PG1      25766  ...    5.090614    17.658759\n",
              "1           PG2     160651  ...    3.677211    14.293937\n",
              "2           PG3      95941  ...    3.878291    14.957119\n",
              "3           PG4     465054  ...    3.338890    11.712719\n",
              "4           PG5    4545082  ...    0.467390     1.732756\n",
              "\n",
              "[5 rows x 6 columns]"
            ],
            "text/html": [
              "\n",
              "  <div id=\"df-bfce786a-1cd2-43fa-9096-db6d87aa2711\">\n",
              "    <div class=\"colab-df-container\">\n",
              "      <div>\n",
              "<style scoped>\n",
              "    .dataframe tbody tr th:only-of-type {\n",
              "        vertical-align: middle;\n",
              "    }\n",
              "\n",
              "    .dataframe tbody tr th {\n",
              "        vertical-align: top;\n",
              "    }\n",
              "\n",
              "    .dataframe thead th {\n",
              "        text-align: right;\n",
              "    }\n",
              "</style>\n",
              "<table border=\"1\" class=\"dataframe\">\n",
              "  <thead>\n",
              "    <tr style=\"text-align: right;\">\n",
              "      <th></th>\n",
              "      <th>product_group</th>\n",
              "      <th>stock_qty</th>\n",
              "      <th>last_week_sales</th>\n",
              "      <th>last_month_sales</th>\n",
              "      <th>week_ratio</th>\n",
              "      <th>month_ratio</th>\n",
              "    </tr>\n",
              "  </thead>\n",
              "  <tbody>\n",
              "    <tr>\n",
              "      <th>0</th>\n",
              "      <td>PG1</td>\n",
              "      <td>25766</td>\n",
              "      <td>1382</td>\n",
              "      <td>4794</td>\n",
              "      <td>5.090614</td>\n",
              "      <td>17.658759</td>\n",
              "    </tr>\n",
              "    <tr>\n",
              "      <th>1</th>\n",
              "      <td>PG2</td>\n",
              "      <td>160651</td>\n",
              "      <td>6133</td>\n",
              "      <td>23840</td>\n",
              "      <td>3.677211</td>\n",
              "      <td>14.293937</td>\n",
              "    </tr>\n",
              "    <tr>\n",
              "      <th>2</th>\n",
              "      <td>PG3</td>\n",
              "      <td>95941</td>\n",
              "      <td>3871</td>\n",
              "      <td>14929</td>\n",
              "      <td>3.878291</td>\n",
              "      <td>14.957119</td>\n",
              "    </tr>\n",
              "    <tr>\n",
              "      <th>3</th>\n",
              "      <td>PG4</td>\n",
              "      <td>465054</td>\n",
              "      <td>16064</td>\n",
              "      <td>56352</td>\n",
              "      <td>3.338890</td>\n",
              "      <td>11.712719</td>\n",
              "    </tr>\n",
              "    <tr>\n",
              "      <th>4</th>\n",
              "      <td>PG5</td>\n",
              "      <td>4545082</td>\n",
              "      <td>21343</td>\n",
              "      <td>79125</td>\n",
              "      <td>0.467390</td>\n",
              "      <td>1.732756</td>\n",
              "    </tr>\n",
              "  </tbody>\n",
              "</table>\n",
              "</div>\n",
              "      <button class=\"colab-df-convert\" onclick=\"convertToInteractive('df-bfce786a-1cd2-43fa-9096-db6d87aa2711')\"\n",
              "              title=\"Convert this dataframe to an interactive table.\"\n",
              "              style=\"display:none;\">\n",
              "        \n",
              "  <svg xmlns=\"http://www.w3.org/2000/svg\" height=\"24px\"viewBox=\"0 0 24 24\"\n",
              "       width=\"24px\">\n",
              "    <path d=\"M0 0h24v24H0V0z\" fill=\"none\"/>\n",
              "    <path d=\"M18.56 5.44l.94 2.06.94-2.06 2.06-.94-2.06-.94-.94-2.06-.94 2.06-2.06.94zm-11 1L8.5 8.5l.94-2.06 2.06-.94-2.06-.94L8.5 2.5l-.94 2.06-2.06.94zm10 10l.94 2.06.94-2.06 2.06-.94-2.06-.94-.94-2.06-.94 2.06-2.06.94z\"/><path d=\"M17.41 7.96l-1.37-1.37c-.4-.4-.92-.59-1.43-.59-.52 0-1.04.2-1.43.59L10.3 9.45l-7.72 7.72c-.78.78-.78 2.05 0 2.83L4 21.41c.39.39.9.59 1.41.59.51 0 1.02-.2 1.41-.59l7.78-7.78 2.81-2.81c.8-.78.8-2.07 0-2.86zM5.41 20L4 18.59l7.72-7.72 1.47 1.35L5.41 20z\"/>\n",
              "  </svg>\n",
              "      </button>\n",
              "      \n",
              "  <style>\n",
              "    .colab-df-container {\n",
              "      display:flex;\n",
              "      flex-wrap:wrap;\n",
              "      gap: 12px;\n",
              "    }\n",
              "\n",
              "    .colab-df-convert {\n",
              "      background-color: #E8F0FE;\n",
              "      border: none;\n",
              "      border-radius: 50%;\n",
              "      cursor: pointer;\n",
              "      display: none;\n",
              "      fill: #1967D2;\n",
              "      height: 32px;\n",
              "      padding: 0 0 0 0;\n",
              "      width: 32px;\n",
              "    }\n",
              "\n",
              "    .colab-df-convert:hover {\n",
              "      background-color: #E2EBFA;\n",
              "      box-shadow: 0px 1px 2px rgba(60, 64, 67, 0.3), 0px 1px 3px 1px rgba(60, 64, 67, 0.15);\n",
              "      fill: #174EA6;\n",
              "    }\n",
              "\n",
              "    [theme=dark] .colab-df-convert {\n",
              "      background-color: #3B4455;\n",
              "      fill: #D2E3FC;\n",
              "    }\n",
              "\n",
              "    [theme=dark] .colab-df-convert:hover {\n",
              "      background-color: #434B5C;\n",
              "      box-shadow: 0px 1px 3px 1px rgba(0, 0, 0, 0.15);\n",
              "      filter: drop-shadow(0px 1px 2px rgba(0, 0, 0, 0.3));\n",
              "      fill: #FFFFFF;\n",
              "    }\n",
              "  </style>\n",
              "\n",
              "      <script>\n",
              "        const buttonEl =\n",
              "          document.querySelector('#df-bfce786a-1cd2-43fa-9096-db6d87aa2711 button.colab-df-convert');\n",
              "        buttonEl.style.display =\n",
              "          google.colab.kernel.accessAllowed ? 'block' : 'none';\n",
              "\n",
              "        async function convertToInteractive(key) {\n",
              "          const element = document.querySelector('#df-bfce786a-1cd2-43fa-9096-db6d87aa2711');\n",
              "          const dataTable =\n",
              "            await google.colab.kernel.invokeFunction('convertToInteractive',\n",
              "                                                     [key], {});\n",
              "          if (!dataTable) return;\n",
              "\n",
              "          const docLinkHtml = 'Like what you see? Visit the ' +\n",
              "            '<a target=\"_blank\" href=https://colab.research.google.com/notebooks/data_table.ipynb>data table notebook</a>'\n",
              "            + ' to learn more about interactive tables.';\n",
              "          element.innerHTML = '';\n",
              "          dataTable['output_type'] = 'display_data';\n",
              "          await google.colab.output.renderOutput(dataTable, element);\n",
              "          const docLink = document.createElement('div');\n",
              "          docLink.innerHTML = docLinkHtml;\n",
              "          element.appendChild(docLink);\n",
              "        }\n",
              "      </script>\n",
              "    </div>\n",
              "  </div>\n",
              "  "
            ]
          },
          "metadata": {},
          "execution_count": 37
        }
      ]
    },
    {
      "cell_type": "code",
      "source": [
        "cnt2 = pd.melt(cnt[['product_group','week_ratio','month_ratio']], id_vars = ['product_group'])\n",
        "cnt2"
      ],
      "metadata": {
        "colab": {
          "base_uri": "https://localhost:8080/",
          "height": 425
        },
        "id": "fNkw3e_vC_Ne",
        "outputId": "2dc44349-980b-4368-b5ef-950cb3b6d923"
      },
      "execution_count": 39,
      "outputs": [
        {
          "output_type": "execute_result",
          "data": {
            "text/plain": [
              "   product_group     variable      value\n",
              "0            PG1   week_ratio   5.090614\n",
              "1            PG2   week_ratio   3.677211\n",
              "2            PG3   week_ratio   3.878291\n",
              "3            PG4   week_ratio   3.338890\n",
              "4            PG5   week_ratio   0.467390\n",
              "5            PG6   week_ratio   3.759343\n",
              "6            PG1  month_ratio  17.658759\n",
              "7            PG2  month_ratio  14.293937\n",
              "8            PG3  month_ratio  14.957119\n",
              "9            PG4  month_ratio  11.712719\n",
              "10           PG5  month_ratio   1.732756\n",
              "11           PG6  month_ratio  13.762204"
            ],
            "text/html": [
              "\n",
              "  <div id=\"df-9b1b5dad-6bf2-4897-9d02-3516f66355ad\">\n",
              "    <div class=\"colab-df-container\">\n",
              "      <div>\n",
              "<style scoped>\n",
              "    .dataframe tbody tr th:only-of-type {\n",
              "        vertical-align: middle;\n",
              "    }\n",
              "\n",
              "    .dataframe tbody tr th {\n",
              "        vertical-align: top;\n",
              "    }\n",
              "\n",
              "    .dataframe thead th {\n",
              "        text-align: right;\n",
              "    }\n",
              "</style>\n",
              "<table border=\"1\" class=\"dataframe\">\n",
              "  <thead>\n",
              "    <tr style=\"text-align: right;\">\n",
              "      <th></th>\n",
              "      <th>product_group</th>\n",
              "      <th>variable</th>\n",
              "      <th>value</th>\n",
              "    </tr>\n",
              "  </thead>\n",
              "  <tbody>\n",
              "    <tr>\n",
              "      <th>0</th>\n",
              "      <td>PG1</td>\n",
              "      <td>week_ratio</td>\n",
              "      <td>5.090614</td>\n",
              "    </tr>\n",
              "    <tr>\n",
              "      <th>1</th>\n",
              "      <td>PG2</td>\n",
              "      <td>week_ratio</td>\n",
              "      <td>3.677211</td>\n",
              "    </tr>\n",
              "    <tr>\n",
              "      <th>2</th>\n",
              "      <td>PG3</td>\n",
              "      <td>week_ratio</td>\n",
              "      <td>3.878291</td>\n",
              "    </tr>\n",
              "    <tr>\n",
              "      <th>3</th>\n",
              "      <td>PG4</td>\n",
              "      <td>week_ratio</td>\n",
              "      <td>3.338890</td>\n",
              "    </tr>\n",
              "    <tr>\n",
              "      <th>4</th>\n",
              "      <td>PG5</td>\n",
              "      <td>week_ratio</td>\n",
              "      <td>0.467390</td>\n",
              "    </tr>\n",
              "    <tr>\n",
              "      <th>5</th>\n",
              "      <td>PG6</td>\n",
              "      <td>week_ratio</td>\n",
              "      <td>3.759343</td>\n",
              "    </tr>\n",
              "    <tr>\n",
              "      <th>6</th>\n",
              "      <td>PG1</td>\n",
              "      <td>month_ratio</td>\n",
              "      <td>17.658759</td>\n",
              "    </tr>\n",
              "    <tr>\n",
              "      <th>7</th>\n",
              "      <td>PG2</td>\n",
              "      <td>month_ratio</td>\n",
              "      <td>14.293937</td>\n",
              "    </tr>\n",
              "    <tr>\n",
              "      <th>8</th>\n",
              "      <td>PG3</td>\n",
              "      <td>month_ratio</td>\n",
              "      <td>14.957119</td>\n",
              "    </tr>\n",
              "    <tr>\n",
              "      <th>9</th>\n",
              "      <td>PG4</td>\n",
              "      <td>month_ratio</td>\n",
              "      <td>11.712719</td>\n",
              "    </tr>\n",
              "    <tr>\n",
              "      <th>10</th>\n",
              "      <td>PG5</td>\n",
              "      <td>month_ratio</td>\n",
              "      <td>1.732756</td>\n",
              "    </tr>\n",
              "    <tr>\n",
              "      <th>11</th>\n",
              "      <td>PG6</td>\n",
              "      <td>month_ratio</td>\n",
              "      <td>13.762204</td>\n",
              "    </tr>\n",
              "  </tbody>\n",
              "</table>\n",
              "</div>\n",
              "      <button class=\"colab-df-convert\" onclick=\"convertToInteractive('df-9b1b5dad-6bf2-4897-9d02-3516f66355ad')\"\n",
              "              title=\"Convert this dataframe to an interactive table.\"\n",
              "              style=\"display:none;\">\n",
              "        \n",
              "  <svg xmlns=\"http://www.w3.org/2000/svg\" height=\"24px\"viewBox=\"0 0 24 24\"\n",
              "       width=\"24px\">\n",
              "    <path d=\"M0 0h24v24H0V0z\" fill=\"none\"/>\n",
              "    <path d=\"M18.56 5.44l.94 2.06.94-2.06 2.06-.94-2.06-.94-.94-2.06-.94 2.06-2.06.94zm-11 1L8.5 8.5l.94-2.06 2.06-.94-2.06-.94L8.5 2.5l-.94 2.06-2.06.94zm10 10l.94 2.06.94-2.06 2.06-.94-2.06-.94-.94-2.06-.94 2.06-2.06.94z\"/><path d=\"M17.41 7.96l-1.37-1.37c-.4-.4-.92-.59-1.43-.59-.52 0-1.04.2-1.43.59L10.3 9.45l-7.72 7.72c-.78.78-.78 2.05 0 2.83L4 21.41c.39.39.9.59 1.41.59.51 0 1.02-.2 1.41-.59l7.78-7.78 2.81-2.81c.8-.78.8-2.07 0-2.86zM5.41 20L4 18.59l7.72-7.72 1.47 1.35L5.41 20z\"/>\n",
              "  </svg>\n",
              "      </button>\n",
              "      \n",
              "  <style>\n",
              "    .colab-df-container {\n",
              "      display:flex;\n",
              "      flex-wrap:wrap;\n",
              "      gap: 12px;\n",
              "    }\n",
              "\n",
              "    .colab-df-convert {\n",
              "      background-color: #E8F0FE;\n",
              "      border: none;\n",
              "      border-radius: 50%;\n",
              "      cursor: pointer;\n",
              "      display: none;\n",
              "      fill: #1967D2;\n",
              "      height: 32px;\n",
              "      padding: 0 0 0 0;\n",
              "      width: 32px;\n",
              "    }\n",
              "\n",
              "    .colab-df-convert:hover {\n",
              "      background-color: #E2EBFA;\n",
              "      box-shadow: 0px 1px 2px rgba(60, 64, 67, 0.3), 0px 1px 3px 1px rgba(60, 64, 67, 0.15);\n",
              "      fill: #174EA6;\n",
              "    }\n",
              "\n",
              "    [theme=dark] .colab-df-convert {\n",
              "      background-color: #3B4455;\n",
              "      fill: #D2E3FC;\n",
              "    }\n",
              "\n",
              "    [theme=dark] .colab-df-convert:hover {\n",
              "      background-color: #434B5C;\n",
              "      box-shadow: 0px 1px 3px 1px rgba(0, 0, 0, 0.15);\n",
              "      filter: drop-shadow(0px 1px 2px rgba(0, 0, 0, 0.3));\n",
              "      fill: #FFFFFF;\n",
              "    }\n",
              "  </style>\n",
              "\n",
              "      <script>\n",
              "        const buttonEl =\n",
              "          document.querySelector('#df-9b1b5dad-6bf2-4897-9d02-3516f66355ad button.colab-df-convert');\n",
              "        buttonEl.style.display =\n",
              "          google.colab.kernel.accessAllowed ? 'block' : 'none';\n",
              "\n",
              "        async function convertToInteractive(key) {\n",
              "          const element = document.querySelector('#df-9b1b5dad-6bf2-4897-9d02-3516f66355ad');\n",
              "          const dataTable =\n",
              "            await google.colab.kernel.invokeFunction('convertToInteractive',\n",
              "                                                     [key], {});\n",
              "          if (!dataTable) return;\n",
              "\n",
              "          const docLinkHtml = 'Like what you see? Visit the ' +\n",
              "            '<a target=\"_blank\" href=https://colab.research.google.com/notebooks/data_table.ipynb>data table notebook</a>'\n",
              "            + ' to learn more about interactive tables.';\n",
              "          element.innerHTML = '';\n",
              "          dataTable['output_type'] = 'display_data';\n",
              "          await google.colab.output.renderOutput(dataTable, element);\n",
              "          const docLink = document.createElement('div');\n",
              "          docLink.innerHTML = docLinkHtml;\n",
              "          element.appendChild(docLink);\n",
              "        }\n",
              "      </script>\n",
              "    </div>\n",
              "  </div>\n",
              "  "
            ]
          },
          "metadata": {},
          "execution_count": 39
        }
      ]
    },
    {
      "cell_type": "code",
      "source": [
        "\n",
        "g = sns.FacetGrid(data = cnt2, col = 'variable', size = 5) \n",
        "g.map(sns.barplot, 'product_group', 'value')"
      ],
      "metadata": {
        "colab": {
          "base_uri": "https://localhost:8080/",
          "height": 443
        },
        "id": "tRBQUSuXD7S2",
        "outputId": "b4c9010d-4a00-4792-d622-7f62875ea073"
      },
      "execution_count": 42,
      "outputs": [
        {
          "output_type": "stream",
          "name": "stderr",
          "text": [
            "/usr/local/lib/python3.7/dist-packages/seaborn/axisgrid.py:337: UserWarning: The `size` parameter has been renamed to `height`; please update your code.\n",
            "/usr/local/lib/python3.7/dist-packages/seaborn/axisgrid.py:670: UserWarning: Using the barplot function without specifying `order` is likely to produce an incorrect plot.\n"
          ]
        },
        {
          "output_type": "execute_result",
          "data": {
            "text/plain": [
              "<seaborn.axisgrid.FacetGrid at 0x7f9bbb198a90>"
            ]
          },
          "metadata": {},
          "execution_count": 42
        },
        {
          "output_type": "display_data",
          "data": {
            "text/plain": [
              "<Figure size 720x360 with 2 Axes>"
            ],
            "image/png": "[encoded data removed]"
          },
          "metadata": {
            "needs_background": "light"
          }
        }
      ]
    },
    {
      "cell_type": "markdown",
      "source": [
        "# Iterators"
      ],
      "metadata": {
        "id": "JffwPFC2A8hL"
      }
    },
    {
      "cell_type": "code",
      "source": [
        "users = [{'mail': 'gregorythomas@gmail.com', 'name': 'Brett Holland', 'sex': 'M', 'age': 73},\n",
        " {'mail': 'hintoncynthia@hotmail.com', 'name': 'Madison Martinez', 'sex': 'F', 'age': 29},\n",
        " {'mail': 'wwagner@gmail.com', 'name': 'Michael Jenkins', 'sex': 'M', 'age': 51},\n",
        " {'mail': 'daniel79@gmail.com', 'name': 'Karen Rodriguez', 'sex': 'F', 'age': 32},\n",
        " {'mail': 'ujackson@gmail.com', 'name': 'Amber Rhodes', 'sex': 'F', 'age': 42}]\n",
        "users"
      ],
      "metadata": {
        "colab": {
          "base_uri": "https://localhost:8080/"
        },
        "id": "AwA2A9onA8t-",
        "outputId": "1ee4a8bb-4551-46cd-d75a-42c3c535fbfc"
      },
      "execution_count": 43,
      "outputs": [
        {
          "output_type": "execute_result",
          "data": {
            "text/plain": [
              "[{'mail': 'gregorythomas@gmail.com',\n",
              "  'name': 'Brett Holland',\n",
              "  'sex': 'M',\n",
              "  'age': 73},\n",
              " {'mail': 'hintoncynthia@hotmail.com',\n",
              "  'name': 'Madison Martinez',\n",
              "  'sex': 'F',\n",
              "  'age': 29},\n",
              " {'mail': 'wwagner@gmail.com',\n",
              "  'name': 'Michael Jenkins',\n",
              "  'sex': 'M',\n",
              "  'age': 51},\n",
              " {'mail': 'daniel79@gmail.com',\n",
              "  'name': 'Karen Rodriguez',\n",
              "  'sex': 'F',\n",
              "  'age': 32},\n",
              " {'mail': 'ujackson@gmail.com', 'name': 'Amber Rhodes', 'sex': 'F', 'age': 42}]"
            ]
          },
          "metadata": {},
          "execution_count": 43
        }
      ]
    },
    {
      "cell_type": "code",
      "source": [
        "{k : eval(f'reduce(lambda acc, cur : acc + [cur[\"{k}\"]], users, [])') for k in list(users[0].keys())}"
      ],
      "metadata": {
        "colab": {
          "base_uri": "https://localhost:8080/"
        },
        "id": "Fne0_xu8Gk_a",
        "outputId": "7888fe47-5d69-4bb0-cdd4-9793d46bf48c"
      },
      "execution_count": 47,
      "outputs": [
        {
          "output_type": "execute_result",
          "data": {
            "text/plain": [
              "{'mail': ['gregorythomas@gmail.com',\n",
              "  'hintoncynthia@hotmail.com',\n",
              "  'wwagner@gmail.com',\n",
              "  'daniel79@gmail.com',\n",
              "  'ujackson@gmail.com'],\n",
              " 'name': ['Brett Holland',\n",
              "  'Madison Martinez',\n",
              "  'Michael Jenkins',\n",
              "  'Karen Rodriguez',\n",
              "  'Amber Rhodes'],\n",
              " 'sex': ['M', 'F', 'M', 'F', 'F'],\n",
              " 'age': [73, 29, 51, 32, 42]}"
            ]
          },
          "metadata": {},
          "execution_count": 47
        }
      ]
    },
    {
      "cell_type": "code",
      "source": [
        "a = (a*np.random.randint(2, 10, 1) for a in range(100))\n",
        "a"
      ],
      "metadata": {
        "colab": {
          "base_uri": "https://localhost:8080/"
        },
        "id": "8QgyCx2GGtkf",
        "outputId": "7ac946d9-1b73-47ec-dd91-d92f4490d006"
      },
      "execution_count": 54,
      "outputs": [
        {
          "output_type": "execute_result",
          "data": {
            "text/plain": [
              "<generator object <genexpr> at 0x7f9bbaeebad0>"
            ]
          },
          "metadata": {},
          "execution_count": 54
        }
      ]
    },
    {
      "cell_type": "code",
      "source": [
        "for _ in range(10) :\n",
        "  print(next(a)[0])"
      ],
      "metadata": {
        "colab": {
          "base_uri": "https://localhost:8080/"
        },
        "id": "3zL0NGhvG9Iq",
        "outputId": "703989ff-5455-44b0-d82f-87576b855867"
      },
      "execution_count": 55,
      "outputs": [
        {
          "output_type": "stream",
          "name": "stdout",
          "text": [
            "0\n",
            "6\n",
            "4\n",
            "15\n",
            "24\n",
            "45\n",
            "18\n",
            "49\n",
            "64\n",
            "45\n"
          ]
        }
      ]
    },
    {
      "cell_type": "code",
      "source": [
        "for _ in range(10) :\n",
        "  print(next(a)[0])"
      ],
      "metadata": {
        "colab": {
          "base_uri": "https://localhost:8080/"
        },
        "id": "5sjELt_yG_Md",
        "outputId": "cb244e65-d4ac-4536-b3b3-483cb2670549"
      },
      "execution_count": 56,
      "outputs": [
        {
          "output_type": "stream",
          "name": "stdout",
          "text": [
            "40\n",
            "99\n",
            "36\n",
            "26\n",
            "98\n",
            "90\n",
            "80\n",
            "34\n",
            "126\n",
            "133\n"
          ]
        }
      ]
    },
    {
      "cell_type": "code",
      "source": [
        "a = (a*np.random.randint(2, 10, 1) for a in range(100))\n",
        "plt.plot(range(100), [x for x in a])"
      ],
      "metadata": {
        "colab": {
          "base_uri": "https://localhost:8080/",
          "height": 283
        },
        "id": "-5nN0ikYHIbE",
        "outputId": "2701130a-5eb4-4e18-b9ed-2745042d21f3"
      },
      "execution_count": 61,
      "outputs": [
        {
          "output_type": "execute_result",
          "data": {
            "text/plain": [
              "[<matplotlib.lines.Line2D at 0x7f9bbad25190>]"
            ]
          },
          "metadata": {},
          "execution_count": 61
        },
        {
          "output_type": "display_data",
          "data": {
            "text/plain": [
              "<Figure size 432x288 with 1 Axes>"
            ],
            "image/png": "[encoded data removed]"
          },
          "metadata": {
            "needs_background": "light"
          }
        }
      ]
    },
    {
      "cell_type": "code",
      "source": [],
      "metadata": {
        "id": "OJsbHLMDHMQb"
      },
      "execution_count": null,
      "outputs": []
    }
  ]
}