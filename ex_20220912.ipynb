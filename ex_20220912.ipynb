{
  "nbformat": 4,
  "nbformat_minor": 0,
  "metadata": {
    "colab": {
      "provenance": [],
      "authorship_tag": "ABX9TyPO3uP6WA7no4bC+ZtqlAhr",
      "include_colab_link": true
    },
    "kernelspec": {
      "name": "python3",
      "display_name": "Python 3"
    },
    "language_info": {
      "name": "python"
    }
  },
  "cells": [
    {
      "cell_type": "markdown",
      "metadata": {
        "id": "view-in-github",
        "colab_type": "text"
      },
      "source": [
        "<a href=\"https://colab.research.google.com/github/aworklab/everydayPython/blob/main/ex_20220912.ipynb\" target=\"_parent\"><img src=\"https://colab.research.google.com/assets/colab-badge.svg\" alt=\"Open In Colab\"/></a>"
      ]
    },
    {
      "cell_type": "markdown",
      "source": [
        "# 오늘의 목표\n",
        "* sklearn\n",
        "* cutomer analysis\n",
        "* iterator"
      ],
      "metadata": {
        "id": "fcwzYeg69HSH"
      }
    },
    {
      "cell_type": "code",
      "execution_count": 3,
      "metadata": {
        "id": "0LyOklKk9C9V"
      },
      "outputs": [],
      "source": [
        "import pandas as pd \n",
        "import numpy as np \n",
        "import plotnine as gg\n",
        "from plotnine import ggplot, aes\n",
        "\n",
        "from datetime import datetime, timezone, timedelta, time, date\n",
        "import re \n",
        "import os\n",
        "from functools import reduce \n",
        "from collections import defaultdict, ChainMap, Counter\n",
        "\n",
        "import matplotlib.pyplot as plt \n",
        "import seaborn as sns\n",
        "from sklearn.model_selection import train_test_split\n",
        "from sklearn.preprocessing import StandardScaler, RobustScaler\n",
        "from sklearn.linear_model import LinearRegression, LogisticRegression\n",
        "from sklearn.ensemble import RandomForestRegressor, RandomForestClassifier\n",
        "from sklearn.metrics import roc_auc_score, accuracy_score, mean_squared_error\n",
        "import sklearn.datasets as skd"
      ]
    },
    {
      "cell_type": "markdown",
      "source": [
        "# Sklearn"
      ],
      "metadata": {
        "id": "iH0LvZE_9Hkk"
      }
    },
    {
      "cell_type": "code",
      "source": [
        "raw = skd.fetch_california_housing()\n",
        "x = pd.DataFrame(raw['data'], columns = raw['feature_names'])\n",
        "y = raw['target']"
      ],
      "metadata": {
        "id": "fHrGYtWR9GuP"
      },
      "execution_count": 5,
      "outputs": []
    },
    {
      "cell_type": "code",
      "source": [
        "x.head()"
      ],
      "metadata": {
        "colab": {
          "base_uri": "https://localhost:8080/",
          "height": 206
        },
        "id": "43YZMTDqBWKi",
        "outputId": "30c1b8c8-a67e-48db-9b53-ded4cd098822"
      },
      "execution_count": 6,
      "outputs": [
        {
          "output_type": "execute_result",
          "data": {
            "text/plain": [
              "   MedInc  HouseAge  AveRooms  AveBedrms  Population  AveOccup  Latitude  \\\n",
              "0  8.3252      41.0  6.984127   1.023810       322.0  2.555556     37.88   \n",
              "1  8.3014      21.0  6.238137   0.971880      2401.0  2.109842     37.86   \n",
              "2  7.2574      52.0  8.288136   1.073446       496.0  2.802260     37.85   \n",
              "3  5.6431      52.0  5.817352   1.073059       558.0  2.547945     37.85   \n",
              "4  3.8462      52.0  6.281853   1.081081       565.0  2.181467     37.85   \n",
              "\n",
              "   Longitude  \n",
              "0    -122.23  \n",
              "1    -122.22  \n",
              "2    -122.24  \n",
              "3    -122.25  \n",
              "4    -122.25  "
            ],
            "text/html": [
              "\n",
              "  <div id=\"df-badd8f0c-85c3-491c-99d5-43f35623f612\">\n",
              "    <div class=\"colab-df-container\">\n",
              "      <div>\n",
              "<style scoped>\n",
              "    .dataframe tbody tr th:only-of-type {\n",
              "        vertical-align: middle;\n",
              "    }\n",
              "\n",
              "    .dataframe tbody tr th {\n",
              "        vertical-align: top;\n",
              "    }\n",
              "\n",
              "    .dataframe thead th {\n",
              "        text-align: right;\n",
              "    }\n",
              "</style>\n",
              "<table border=\"1\" class=\"dataframe\">\n",
              "  <thead>\n",
              "    <tr style=\"text-align: right;\">\n",
              "      <th></th>\n",
              "      <th>MedInc</th>\n",
              "      <th>HouseAge</th>\n",
              "      <th>AveRooms</th>\n",
              "      <th>AveBedrms</th>\n",
              "      <th>Population</th>\n",
              "      <th>AveOccup</th>\n",
              "      <th>Latitude</th>\n",
              "      <th>Longitude</th>\n",
              "    </tr>\n",
              "  </thead>\n",
              "  <tbody>\n",
              "    <tr>\n",
              "      <th>0</th>\n",
              "      <td>8.3252</td>\n",
              "      <td>41.0</td>\n",
              "      <td>6.984127</td>\n",
              "      <td>1.023810</td>\n",
              "      <td>322.0</td>\n",
              "      <td>2.555556</td>\n",
              "      <td>37.88</td>\n",
              "      <td>-122.23</td>\n",
              "    </tr>\n",
              "    <tr>\n",
              "      <th>1</th>\n",
              "      <td>8.3014</td>\n",
              "      <td>21.0</td>\n",
              "      <td>6.238137</td>\n",
              "      <td>0.971880</td>\n",
              "      <td>2401.0</td>\n",
              "      <td>2.109842</td>\n",
              "      <td>37.86</td>\n",
              "      <td>-122.22</td>\n",
              "    </tr>\n",
              "    <tr>\n",
              "      <th>2</th>\n",
              "      <td>7.2574</td>\n",
              "      <td>52.0</td>\n",
              "      <td>8.288136</td>\n",
              "      <td>1.073446</td>\n",
              "      <td>496.0</td>\n",
              "      <td>2.802260</td>\n",
              "      <td>37.85</td>\n",
              "      <td>-122.24</td>\n",
              "    </tr>\n",
              "    <tr>\n",
              "      <th>3</th>\n",
              "      <td>5.6431</td>\n",
              "      <td>52.0</td>\n",
              "      <td>5.817352</td>\n",
              "      <td>1.073059</td>\n",
              "      <td>558.0</td>\n",
              "      <td>2.547945</td>\n",
              "      <td>37.85</td>\n",
              "      <td>-122.25</td>\n",
              "    </tr>\n",
              "    <tr>\n",
              "      <th>4</th>\n",
              "      <td>3.8462</td>\n",
              "      <td>52.0</td>\n",
              "      <td>6.281853</td>\n",
              "      <td>1.081081</td>\n",
              "      <td>565.0</td>\n",
              "      <td>2.181467</td>\n",
              "      <td>37.85</td>\n",
              "      <td>-122.25</td>\n",
              "    </tr>\n",
              "  </tbody>\n",
              "</table>\n",
              "</div>\n",
              "      <button class=\"colab-df-convert\" onclick=\"convertToInteractive('df-badd8f0c-85c3-491c-99d5-43f35623f612')\"\n",
              "              title=\"Convert this dataframe to an interactive table.\"\n",
              "              style=\"display:none;\">\n",
              "        \n",
              "  <svg xmlns=\"http://www.w3.org/2000/svg\" height=\"24px\"viewBox=\"0 0 24 24\"\n",
              "       width=\"24px\">\n",
              "    <path d=\"M0 0h24v24H0V0z\" fill=\"none\"/>\n",
              "    <path d=\"M18.56 5.44l.94 2.06.94-2.06 2.06-.94-2.06-.94-.94-2.06-.94 2.06-2.06.94zm-11 1L8.5 8.5l.94-2.06 2.06-.94-2.06-.94L8.5 2.5l-.94 2.06-2.06.94zm10 10l.94 2.06.94-2.06 2.06-.94-2.06-.94-.94-2.06-.94 2.06-2.06.94z\"/><path d=\"M17.41 7.96l-1.37-1.37c-.4-.4-.92-.59-1.43-.59-.52 0-1.04.2-1.43.59L10.3 9.45l-7.72 7.72c-.78.78-.78 2.05 0 2.83L4 21.41c.39.39.9.59 1.41.59.51 0 1.02-.2 1.41-.59l7.78-7.78 2.81-2.81c.8-.78.8-2.07 0-2.86zM5.41 20L4 18.59l7.72-7.72 1.47 1.35L5.41 20z\"/>\n",
              "  </svg>\n",
              "      </button>\n",
              "      \n",
              "  <style>\n",
              "    .colab-df-container {\n",
              "      display:flex;\n",
              "      flex-wrap:wrap;\n",
              "      gap: 12px;\n",
              "    }\n",
              "\n",
              "    .colab-df-convert {\n",
              "      background-color: #E8F0FE;\n",
              "      border: none;\n",
              "      border-radius: 50%;\n",
              "      cursor: pointer;\n",
              "      display: none;\n",
              "      fill: #1967D2;\n",
              "      height: 32px;\n",
              "      padding: 0 0 0 0;\n",
              "      width: 32px;\n",
              "    }\n",
              "\n",
              "    .colab-df-convert:hover {\n",
              "      background-color: #E2EBFA;\n",
              "      box-shadow: 0px 1px 2px rgba(60, 64, 67, 0.3), 0px 1px 3px 1px rgba(60, 64, 67, 0.15);\n",
              "      fill: #174EA6;\n",
              "    }\n",
              "\n",
              "    [theme=dark] .colab-df-convert {\n",
              "      background-color: #3B4455;\n",
              "      fill: #D2E3FC;\n",
              "    }\n",
              "\n",
              "    [theme=dark] .colab-df-convert:hover {\n",
              "      background-color: #434B5C;\n",
              "      box-shadow: 0px 1px 3px 1px rgba(0, 0, 0, 0.15);\n",
              "      filter: drop-shadow(0px 1px 2px rgba(0, 0, 0, 0.3));\n",
              "      fill: #FFFFFF;\n",
              "    }\n",
              "  </style>\n",
              "\n",
              "      <script>\n",
              "        const buttonEl =\n",
              "          document.querySelector('#df-badd8f0c-85c3-491c-99d5-43f35623f612 button.colab-df-convert');\n",
              "        buttonEl.style.display =\n",
              "          google.colab.kernel.accessAllowed ? 'block' : 'none';\n",
              "\n",
              "        async function convertToInteractive(key) {\n",
              "          const element = document.querySelector('#df-badd8f0c-85c3-491c-99d5-43f35623f612');\n",
              "          const dataTable =\n",
              "            await google.colab.kernel.invokeFunction('convertToInteractive',\n",
              "                                                     [key], {});\n",
              "          if (!dataTable) return;\n",
              "\n",
              "          const docLinkHtml = 'Like what you see? Visit the ' +\n",
              "            '<a target=\"_blank\" href=https://colab.research.google.com/notebooks/data_table.ipynb>data table notebook</a>'\n",
              "            + ' to learn more about interactive tables.';\n",
              "          element.innerHTML = '';\n",
              "          dataTable['output_type'] = 'display_data';\n",
              "          await google.colab.output.renderOutput(dataTable, element);\n",
              "          const docLink = document.createElement('div');\n",
              "          docLink.innerHTML = docLinkHtml;\n",
              "          element.appendChild(docLink);\n",
              "        }\n",
              "      </script>\n",
              "    </div>\n",
              "  </div>\n",
              "  "
            ]
          },
          "metadata": {},
          "execution_count": 6
        }
      ]
    },
    {
      "cell_type": "code",
      "source": [
        "x_tr, x_te, y_tr, y_te = train_test_split(x, y, train_size= .7)"
      ],
      "metadata": {
        "id": "3qne4ih-Bfyd"
      },
      "execution_count": 9,
      "outputs": []
    },
    {
      "cell_type": "code",
      "source": [
        "fit_lm = LinearRegression().fit(x_tr, y_tr)\n",
        "fit_rf = RandomForestRegressor().fit(x_tr, y_tr)"
      ],
      "metadata": {
        "id": "r0RyzoZNBrYG"
      },
      "execution_count": 12,
      "outputs": []
    },
    {
      "cell_type": "code",
      "source": [
        "pred_lm = fit_lm.predict(x_te)\n",
        "pred_rf = fit_rf.predict(x_te)"
      ],
      "metadata": {
        "id": "q-EM5COaCkVh"
      },
      "execution_count": 14,
      "outputs": []
    },
    {
      "cell_type": "code",
      "source": [
        "mean_squared_error(y_te, pred_lm),mean_squared_error(y_te, pred_rf)"
      ],
      "metadata": {
        "colab": {
          "base_uri": "https://localhost:8080/"
        },
        "id": "NRnNOb07Cywq",
        "outputId": "26e5e51e-903f-4ebb-ecfd-b1626ae0b86c"
      },
      "execution_count": 15,
      "outputs": [
        {
          "output_type": "execute_result",
          "data": {
            "text/plain": [
              "(0.5117612165235563, 0.24823069138309645)"
            ]
          },
          "metadata": {},
          "execution_count": 15
        }
      ]
    },
    {
      "cell_type": "code",
      "source": [
        "plt.figure(figsize=[7,7])\n",
        "plt.plot([0,7], [0,7], 'gray')\n",
        "plt.plot(y_te, pred_lm, '.', alpha = .3, color = 'red')\n",
        "plt.plot(y_te, pred_rf, '.', alpha = .3, color = 'green')"
      ],
      "metadata": {
        "colab": {
          "base_uri": "https://localhost:8080/",
          "height": 447
        },
        "id": "jDDMQ4ZnDB6c",
        "outputId": "f6ead996-84bc-43e6-e25b-9dabde10c8a4"
      },
      "execution_count": 18,
      "outputs": [
        {
          "output_type": "execute_result",
          "data": {
            "text/plain": [
              "[<matplotlib.lines.Line2D at 0x7fe4821eb9d0>]"
            ]
          },
          "metadata": {},
          "execution_count": 18
        },
        {
          "output_type": "display_data",
          "data": {
            "text/plain": [
              "<Figure size 504x504 with 1 Axes>"
            ],
            "image/png": "[encoded data removed]"
          },
          "metadata": {
            "needs_background": "light"
          }
        }
      ]
    },
    {
      "cell_type": "markdown",
      "source": [
        "# customer analysis"
      ],
      "metadata": {
        "id": "9_mlCojd9H3k"
      }
    },
    {
      "cell_type": "code",
      "source": [
        "os.listdir()"
      ],
      "metadata": {
        "colab": {
          "base_uri": "https://localhost:8080/"
        },
        "id": "dG1fJTqu9IH7",
        "outputId": "f54ab061-754b-4d2c-c287-32bd6b295824"
      },
      "execution_count": 19,
      "outputs": [
        {
          "output_type": "execute_result",
          "data": {
            "text/plain": [
              "['.config',\n",
              " 'ecommerce-data.csv',\n",
              " 'KPMG_VI_New_raw_data_update_final.xlsx',\n",
              " 'KPMG_VI_New_raw_data_update_final.csv',\n",
              " 'test.csv',\n",
              " 'online_retail_II.xlsx',\n",
              " 'sample_data']"
            ]
          },
          "metadata": {},
          "execution_count": 19
        }
      ]
    },
    {
      "cell_type": "code",
      "source": [
        "df = pd.read_excel('KPMG_VI_New_raw_data_update_final.xlsx', sheet_name = 'Transactions')\n",
        "df.head()"
      ],
      "metadata": {
        "colab": {
          "base_uri": "https://localhost:8080/",
          "height": 635
        },
        "id": "3nIGlcdSDb9S",
        "outputId": "9ad9e4f4-9a44-49e0-9911-e79146386ca7"
      },
      "execution_count": 21,
      "outputs": [
        {
          "output_type": "execute_result",
          "data": {
            "text/plain": [
              "  Note: The data and information in this document is reflective of a hypothetical situation and client. This document is to be used for KPMG Virtual Internship purposes only.   \\\n",
              "0                                     transaction_id                                                                                                                              \n",
              "1                                                  1                                                                                                                              \n",
              "2                                                  2                                                                                                                              \n",
              "3                                                  3                                                                                                                              \n",
              "4                                                  4                                                                                                                              \n",
              "\n",
              "   Unnamed: 1   Unnamed: 2           Unnamed: 3    Unnamed: 4    Unnamed: 5  \\\n",
              "0  product_id  customer_id     transaction_date  online_order  order_status   \n",
              "1           2         2950  2017-02-25 00:00:00         False      Approved   \n",
              "2           3         3120  2017-05-21 00:00:00          True      Approved   \n",
              "3          37          402  2017-10-16 00:00:00         False      Approved   \n",
              "4          88         3135  2017-08-31 00:00:00         False      Approved   \n",
              "\n",
              "       Unnamed: 6    Unnamed: 7     Unnamed: 8    Unnamed: 9 Unnamed: 10  \\\n",
              "0           brand  product_line  product_class  product_size  list_price   \n",
              "1           Solex      Standard         medium        medium       71.49   \n",
              "2   Trek Bicycles      Standard         medium         large     2091.47   \n",
              "3      OHM Cycles      Standard            low        medium     1793.43   \n",
              "4  Norco Bicycles      Standard         medium        medium     1198.46   \n",
              "\n",
              "     Unnamed: 11              Unnamed: 12  \n",
              "0  standard_cost  product_first_sold_date  \n",
              "1          53.62                    41245  \n",
              "2         388.92                    41701  \n",
              "3         248.82                    36361  \n",
              "4          381.1                    36145  "
            ],
            "text/html": [
              "\n",
              "  <div id=\"df-c741f8d6-d06b-4a78-8601-b092c6067569\">\n",
              "    <div class=\"colab-df-container\">\n",
              "      <div>\n",
              "<style scoped>\n",
              "    .dataframe tbody tr th:only-of-type {\n",
              "        vertical-align: middle;\n",
              "    }\n",
              "\n",
              "    .dataframe tbody tr th {\n",
              "        vertical-align: top;\n",
              "    }\n",
              "\n",
              "    .dataframe thead th {\n",
              "        text-align: right;\n",
              "    }\n",
              "</style>\n",
              "<table border=\"1\" class=\"dataframe\">\n",
              "  <thead>\n",
              "    <tr style=\"text-align: right;\">\n",
              "      <th></th>\n",
              "      <th>Note: The data and information in this document is reflective of a hypothetical situation and client. This document is to be used for KPMG Virtual Internship purposes only.</th>\n",
              "      <th>Unnamed: 1</th>\n",
              "      <th>Unnamed: 2</th>\n",
              "      <th>Unnamed: 3</th>\n",
              "      <th>Unnamed: 4</th>\n",
              "      <th>Unnamed: 5</th>\n",
              "      <th>Unnamed: 6</th>\n",
              "      <th>Unnamed: 7</th>\n",
              "      <th>Unnamed: 8</th>\n",
              "      <th>Unnamed: 9</th>\n",
              "      <th>Unnamed: 10</th>\n",
              "      <th>Unnamed: 11</th>\n",
              "      <th>Unnamed: 12</th>\n",
              "    </tr>\n",
              "  </thead>\n",
              "  <tbody>\n",
              "    <tr>\n",
              "      <th>0</th>\n",
              "      <td>transaction_id</td>\n",
              "      <td>product_id</td>\n",
              "      <td>customer_id</td>\n",
              "      <td>transaction_date</td>\n",
              "      <td>online_order</td>\n",
              "      <td>order_status</td>\n",
              "      <td>brand</td>\n",
              "      <td>product_line</td>\n",
              "      <td>product_class</td>\n",
              "      <td>product_size</td>\n",
              "      <td>list_price</td>\n",
              "      <td>standard_cost</td>\n",
              "      <td>product_first_sold_date</td>\n",
              "    </tr>\n",
              "    <tr>\n",
              "      <th>1</th>\n",
              "      <td>1</td>\n",
              "      <td>2</td>\n",
              "      <td>2950</td>\n",
              "      <td>2017-02-25 00:00:00</td>\n",
              "      <td>False</td>\n",
              "      <td>Approved</td>\n",
              "      <td>Solex</td>\n",
              "      <td>Standard</td>\n",
              "      <td>medium</td>\n",
              "      <td>medium</td>\n",
              "      <td>71.49</td>\n",
              "      <td>53.62</td>\n",
              "      <td>41245</td>\n",
              "    </tr>\n",
              "    <tr>\n",
              "      <th>2</th>\n",
              "      <td>2</td>\n",
              "      <td>3</td>\n",
              "      <td>3120</td>\n",
              "      <td>2017-05-21 00:00:00</td>\n",
              "      <td>True</td>\n",
              "      <td>Approved</td>\n",
              "      <td>Trek Bicycles</td>\n",
              "      <td>Standard</td>\n",
              "      <td>medium</td>\n",
              "      <td>large</td>\n",
              "      <td>2091.47</td>\n",
              "      <td>388.92</td>\n",
              "      <td>41701</td>\n",
              "    </tr>\n",
              "    <tr>\n",
              "      <th>3</th>\n",
              "      <td>3</td>\n",
              "      <td>37</td>\n",
              "      <td>402</td>\n",
              "      <td>2017-10-16 00:00:00</td>\n",
              "      <td>False</td>\n",
              "      <td>Approved</td>\n",
              "      <td>OHM Cycles</td>\n",
              "      <td>Standard</td>\n",
              "      <td>low</td>\n",
              "      <td>medium</td>\n",
              "      <td>1793.43</td>\n",
              "      <td>248.82</td>\n",
              "      <td>36361</td>\n",
              "    </tr>\n",
              "    <tr>\n",
              "      <th>4</th>\n",
              "      <td>4</td>\n",
              "      <td>88</td>\n",
              "      <td>3135</td>\n",
              "      <td>2017-08-31 00:00:00</td>\n",
              "      <td>False</td>\n",
              "      <td>Approved</td>\n",
              "      <td>Norco Bicycles</td>\n",
              "      <td>Standard</td>\n",
              "      <td>medium</td>\n",
              "      <td>medium</td>\n",
              "      <td>1198.46</td>\n",
              "      <td>381.1</td>\n",
              "      <td>36145</td>\n",
              "    </tr>\n",
              "  </tbody>\n",
              "</table>\n",
              "</div>\n",
              "      <button class=\"colab-df-convert\" onclick=\"convertToInteractive('df-c741f8d6-d06b-4a78-8601-b092c6067569')\"\n",
              "              title=\"Convert this dataframe to an interactive table.\"\n",
              "              style=\"display:none;\">\n",
              "        \n",
              "  <svg xmlns=\"http://www.w3.org/2000/svg\" height=\"24px\"viewBox=\"0 0 24 24\"\n",
              "       width=\"24px\">\n",
              "    <path d=\"M0 0h24v24H0V0z\" fill=\"none\"/>\n",
              "    <path d=\"M18.56 5.44l.94 2.06.94-2.06 2.06-.94-2.06-.94-.94-2.06-.94 2.06-2.06.94zm-11 1L8.5 8.5l.94-2.06 2.06-.94-2.06-.94L8.5 2.5l-.94 2.06-2.06.94zm10 10l.94 2.06.94-2.06 2.06-.94-2.06-.94-.94-2.06-.94 2.06-2.06.94z\"/><path d=\"M17.41 7.96l-1.37-1.37c-.4-.4-.92-.59-1.43-.59-.52 0-1.04.2-1.43.59L10.3 9.45l-7.72 7.72c-.78.78-.78 2.05 0 2.83L4 21.41c.39.39.9.59 1.41.59.51 0 1.02-.2 1.41-.59l7.78-7.78 2.81-2.81c.8-.78.8-2.07 0-2.86zM5.41 20L4 18.59l7.72-7.72 1.47 1.35L5.41 20z\"/>\n",
              "  </svg>\n",
              "      </button>\n",
              "      \n",
              "  <style>\n",
              "    .colab-df-container {\n",
              "      display:flex;\n",
              "      flex-wrap:wrap;\n",
              "      gap: 12px;\n",
              "    }\n",
              "\n",
              "    .colab-df-convert {\n",
              "      background-color: #E8F0FE;\n",
              "      border: none;\n",
              "      border-radius: 50%;\n",
              "      cursor: pointer;\n",
              "      display: none;\n",
              "      fill: #1967D2;\n",
              "      height: 32px;\n",
              "      padding: 0 0 0 0;\n",
              "      width: 32px;\n",
              "    }\n",
              "\n",
              "    .colab-df-convert:hover {\n",
              "      background-color: #E2EBFA;\n",
              "      box-shadow: 0px 1px 2px rgba(60, 64, 67, 0.3), 0px 1px 3px 1px rgba(60, 64, 67, 0.15);\n",
              "      fill: #174EA6;\n",
              "    }\n",
              "\n",
              "    [theme=dark] .colab-df-convert {\n",
              "      background-color: #3B4455;\n",
              "      fill: #D2E3FC;\n",
              "    }\n",
              "\n",
              "    [theme=dark] .colab-df-convert:hover {\n",
              "      background-color: #434B5C;\n",
              "      box-shadow: 0px 1px 3px 1px rgba(0, 0, 0, 0.15);\n",
              "      filter: drop-shadow(0px 1px 2px rgba(0, 0, 0, 0.3));\n",
              "      fill: #FFFFFF;\n",
              "    }\n",
              "  </style>\n",
              "\n",
              "      <script>\n",
              "        const buttonEl =\n",
              "          document.querySelector('#df-c741f8d6-d06b-4a78-8601-b092c6067569 button.colab-df-convert');\n",
              "        buttonEl.style.display =\n",
              "          google.colab.kernel.accessAllowed ? 'block' : 'none';\n",
              "\n",
              "        async function convertToInteractive(key) {\n",
              "          const element = document.querySelector('#df-c741f8d6-d06b-4a78-8601-b092c6067569');\n",
              "          const dataTable =\n",
              "            await google.colab.kernel.invokeFunction('convertToInteractive',\n",
              "                                                     [key], {});\n",
              "          if (!dataTable) return;\n",
              "\n",
              "          const docLinkHtml = 'Like what you see? Visit the ' +\n",
              "            '<a target=\"_blank\" href=https://colab.research.google.com/notebooks/data_table.ipynb>data table notebook</a>'\n",
              "            + ' to learn more about interactive tables.';\n",
              "          element.innerHTML = '';\n",
              "          dataTable['output_type'] = 'display_data';\n",
              "          await google.colab.output.renderOutput(dataTable, element);\n",
              "          const docLink = document.createElement('div');\n",
              "          docLink.innerHTML = docLinkHtml;\n",
              "          element.appendChild(docLink);\n",
              "        }\n",
              "      </script>\n",
              "    </div>\n",
              "  </div>\n",
              "  "
            ]
          },
          "metadata": {},
          "execution_count": 21
        }
      ]
    },
    {
      "cell_type": "code",
      "source": [
        "df.columns = df.iloc[0]\n",
        "df.drop([0], axis = 0, inplace = True)\n",
        "df.head()"
      ],
      "metadata": {
        "colab": {
          "base_uri": "https://localhost:8080/",
          "height": 357
        },
        "id": "yzCZTkdFDkS4",
        "outputId": "34e81bf7-2f6c-4ff8-a28e-ce844f2e7628"
      },
      "execution_count": 22,
      "outputs": [
        {
          "output_type": "execute_result",
          "data": {
            "text/plain": [
              "0 transaction_id product_id customer_id     transaction_date online_order  \\\n",
              "1              1          2        2950  2017-02-25 00:00:00        False   \n",
              "2              2          3        3120  2017-05-21 00:00:00         True   \n",
              "3              3         37         402  2017-10-16 00:00:00        False   \n",
              "4              4         88        3135  2017-08-31 00:00:00        False   \n",
              "5              5         78         787  2017-10-01 00:00:00         True   \n",
              "\n",
              "0 order_status           brand product_line product_class product_size  \\\n",
              "1     Approved           Solex     Standard        medium       medium   \n",
              "2     Approved   Trek Bicycles     Standard        medium        large   \n",
              "3     Approved      OHM Cycles     Standard           low       medium   \n",
              "4     Approved  Norco Bicycles     Standard        medium       medium   \n",
              "5     Approved  Giant Bicycles     Standard        medium        large   \n",
              "\n",
              "0 list_price standard_cost product_first_sold_date  \n",
              "1      71.49         53.62                   41245  \n",
              "2    2091.47        388.92                   41701  \n",
              "3    1793.43        248.82                   36361  \n",
              "4    1198.46         381.1                   36145  \n",
              "5     1765.3        709.48                   42226  "
            ],
            "text/html": [
              "\n",
              "  <div id=\"df-a474cdbd-d09f-4aed-a9ff-db63dd26f6b7\">\n",
              "    <div class=\"colab-df-container\">\n",
              "      <div>\n",
              "<style scoped>\n",
              "    .dataframe tbody tr th:only-of-type {\n",
              "        vertical-align: middle;\n",
              "    }\n",
              "\n",
              "    .dataframe tbody tr th {\n",
              "        vertical-align: top;\n",
              "    }\n",
              "\n",
              "    .dataframe thead th {\n",
              "        text-align: right;\n",
              "    }\n",
              "</style>\n",
              "<table border=\"1\" class=\"dataframe\">\n",
              "  <thead>\n",
              "    <tr style=\"text-align: right;\">\n",
              "      <th></th>\n",
              "      <th>transaction_id</th>\n",
              "      <th>product_id</th>\n",
              "      <th>customer_id</th>\n",
              "      <th>transaction_date</th>\n",
              "      <th>online_order</th>\n",
              "      <th>order_status</th>\n",
              "      <th>brand</th>\n",
              "      <th>product_line</th>\n",
              "      <th>product_class</th>\n",
              "      <th>product_size</th>\n",
              "      <th>list_price</th>\n",
              "      <th>standard_cost</th>\n",
              "      <th>product_first_sold_date</th>\n",
              "    </tr>\n",
              "  </thead>\n",
              "  <tbody>\n",
              "    <tr>\n",
              "      <th>1</th>\n",
              "      <td>1</td>\n",
              "      <td>2</td>\n",
              "      <td>2950</td>\n",
              "      <td>2017-02-25 00:00:00</td>\n",
              "      <td>False</td>\n",
              "      <td>Approved</td>\n",
              "      <td>Solex</td>\n",
              "      <td>Standard</td>\n",
              "      <td>medium</td>\n",
              "      <td>medium</td>\n",
              "      <td>71.49</td>\n",
              "      <td>53.62</td>\n",
              "      <td>41245</td>\n",
              "    </tr>\n",
              "    <tr>\n",
              "      <th>2</th>\n",
              "      <td>2</td>\n",
              "      <td>3</td>\n",
              "      <td>3120</td>\n",
              "      <td>2017-05-21 00:00:00</td>\n",
              "      <td>True</td>\n",
              "      <td>Approved</td>\n",
              "      <td>Trek Bicycles</td>\n",
              "      <td>Standard</td>\n",
              "      <td>medium</td>\n",
              "      <td>large</td>\n",
              "      <td>2091.47</td>\n",
              "      <td>388.92</td>\n",
              "      <td>41701</td>\n",
              "    </tr>\n",
              "    <tr>\n",
              "      <th>3</th>\n",
              "      <td>3</td>\n",
              "      <td>37</td>\n",
              "      <td>402</td>\n",
              "      <td>2017-10-16 00:00:00</td>\n",
              "      <td>False</td>\n",
              "      <td>Approved</td>\n",
              "      <td>OHM Cycles</td>\n",
              "      <td>Standard</td>\n",
              "      <td>low</td>\n",
              "      <td>medium</td>\n",
              "      <td>1793.43</td>\n",
              "      <td>248.82</td>\n",
              "      <td>36361</td>\n",
              "    </tr>\n",
              "    <tr>\n",
              "      <th>4</th>\n",
              "      <td>4</td>\n",
              "      <td>88</td>\n",
              "      <td>3135</td>\n",
              "      <td>2017-08-31 00:00:00</td>\n",
              "      <td>False</td>\n",
              "      <td>Approved</td>\n",
              "      <td>Norco Bicycles</td>\n",
              "      <td>Standard</td>\n",
              "      <td>medium</td>\n",
              "      <td>medium</td>\n",
              "      <td>1198.46</td>\n",
              "      <td>381.1</td>\n",
              "      <td>36145</td>\n",
              "    </tr>\n",
              "    <tr>\n",
              "      <th>5</th>\n",
              "      <td>5</td>\n",
              "      <td>78</td>\n",
              "      <td>787</td>\n",
              "      <td>2017-10-01 00:00:00</td>\n",
              "      <td>True</td>\n",
              "      <td>Approved</td>\n",
              "      <td>Giant Bicycles</td>\n",
              "      <td>Standard</td>\n",
              "      <td>medium</td>\n",
              "      <td>large</td>\n",
              "      <td>1765.3</td>\n",
              "      <td>709.48</td>\n",
              "      <td>42226</td>\n",
              "    </tr>\n",
              "  </tbody>\n",
              "</table>\n",
              "</div>\n",
              "      <button class=\"colab-df-convert\" onclick=\"convertToInteractive('df-a474cdbd-d09f-4aed-a9ff-db63dd26f6b7')\"\n",
              "              title=\"Convert this dataframe to an interactive table.\"\n",
              "              style=\"display:none;\">\n",
              "        \n",
              "  <svg xmlns=\"http://www.w3.org/2000/svg\" height=\"24px\"viewBox=\"0 0 24 24\"\n",
              "       width=\"24px\">\n",
              "    <path d=\"M0 0h24v24H0V0z\" fill=\"none\"/>\n",
              "    <path d=\"M18.56 5.44l.94 2.06.94-2.06 2.06-.94-2.06-.94-.94-2.06-.94 2.06-2.06.94zm-11 1L8.5 8.5l.94-2.06 2.06-.94-2.06-.94L8.5 2.5l-.94 2.06-2.06.94zm10 10l.94 2.06.94-2.06 2.06-.94-2.06-.94-.94-2.06-.94 2.06-2.06.94z\"/><path d=\"M17.41 7.96l-1.37-1.37c-.4-.4-.92-.59-1.43-.59-.52 0-1.04.2-1.43.59L10.3 9.45l-7.72 7.72c-.78.78-.78 2.05 0 2.83L4 21.41c.39.39.9.59 1.41.59.51 0 1.02-.2 1.41-.59l7.78-7.78 2.81-2.81c.8-.78.8-2.07 0-2.86zM5.41 20L4 18.59l7.72-7.72 1.47 1.35L5.41 20z\"/>\n",
              "  </svg>\n",
              "      </button>\n",
              "      \n",
              "  <style>\n",
              "    .colab-df-container {\n",
              "      display:flex;\n",
              "      flex-wrap:wrap;\n",
              "      gap: 12px;\n",
              "    }\n",
              "\n",
              "    .colab-df-convert {\n",
              "      background-color: #E8F0FE;\n",
              "      border: none;\n",
              "      border-radius: 50%;\n",
              "      cursor: pointer;\n",
              "      display: none;\n",
              "      fill: #1967D2;\n",
              "      height: 32px;\n",
              "      padding: 0 0 0 0;\n",
              "      width: 32px;\n",
              "    }\n",
              "\n",
              "    .colab-df-convert:hover {\n",
              "      background-color: #E2EBFA;\n",
              "      box-shadow: 0px 1px 2px rgba(60, 64, 67, 0.3), 0px 1px 3px 1px rgba(60, 64, 67, 0.15);\n",
              "      fill: #174EA6;\n",
              "    }\n",
              "\n",
              "    [theme=dark] .colab-df-convert {\n",
              "      background-color: #3B4455;\n",
              "      fill: #D2E3FC;\n",
              "    }\n",
              "\n",
              "    [theme=dark] .colab-df-convert:hover {\n",
              "      background-color: #434B5C;\n",
              "      box-shadow: 0px 1px 3px 1px rgba(0, 0, 0, 0.15);\n",
              "      filter: drop-shadow(0px 1px 2px rgba(0, 0, 0, 0.3));\n",
              "      fill: #FFFFFF;\n",
              "    }\n",
              "  </style>\n",
              "\n",
              "      <script>\n",
              "        const buttonEl =\n",
              "          document.querySelector('#df-a474cdbd-d09f-4aed-a9ff-db63dd26f6b7 button.colab-df-convert');\n",
              "        buttonEl.style.display =\n",
              "          google.colab.kernel.accessAllowed ? 'block' : 'none';\n",
              "\n",
              "        async function convertToInteractive(key) {\n",
              "          const element = document.querySelector('#df-a474cdbd-d09f-4aed-a9ff-db63dd26f6b7');\n",
              "          const dataTable =\n",
              "            await google.colab.kernel.invokeFunction('convertToInteractive',\n",
              "                                                     [key], {});\n",
              "          if (!dataTable) return;\n",
              "\n",
              "          const docLinkHtml = 'Like what you see? Visit the ' +\n",
              "            '<a target=\"_blank\" href=https://colab.research.google.com/notebooks/data_table.ipynb>data table notebook</a>'\n",
              "            + ' to learn more about interactive tables.';\n",
              "          element.innerHTML = '';\n",
              "          dataTable['output_type'] = 'display_data';\n",
              "          await google.colab.output.renderOutput(dataTable, element);\n",
              "          const docLink = document.createElement('div');\n",
              "          docLink.innerHTML = docLinkHtml;\n",
              "          element.appendChild(docLink);\n",
              "        }\n",
              "      </script>\n",
              "    </div>\n",
              "  </div>\n",
              "  "
            ]
          },
          "metadata": {},
          "execution_count": 22
        }
      ]
    },
    {
      "cell_type": "code",
      "source": [
        "df = df[df.order_status == 'Approved']\n",
        "df['date'] = df.transaction_date.to_numpy().astype('datetime64[D]')\n",
        "df['week'] = df['date'] - df['date'].dt.weekday.astype('timedelta64[D]')\n",
        "df['month'] = df.transaction_date.to_numpy().astype('datetime64[M]')\n",
        "df = df.rename(columns = {'customer_id':'id', 'list_price':'rev'}).groupby(['id','date','week','month', 'product_id'])['rev'].sum().reset_index()\n",
        "df.head()"
      ],
      "metadata": {
        "colab": {
          "base_uri": "https://localhost:8080/",
          "height": 206
        },
        "id": "YtgPf-ZsDrPi",
        "outputId": "d00828b9-7fe0-4d5c-fd3e-e9468a924c1f"
      },
      "execution_count": 27,
      "outputs": [
        {
          "output_type": "execute_result",
          "data": {
            "text/plain": [
              "   id       date       week      month  product_id      rev\n",
              "0   1 2017-01-05 2017-01-02 2017-01-01          72    360.4\n",
              "1   1 2017-02-21 2017-02-20 2017-02-01           2    71.49\n",
              "2   1 2017-03-27 2017-03-27 2017-03-01          23   688.63\n",
              "3   1 2017-03-29 2017-03-27 2017-03-01          11  1274.93\n",
              "4   1 2017-04-06 2017-04-03 2017-04-01          38  1577.53"
            ],
            "text/html": [
              "\n",
              "  <div id=\"df-e5aadea2-5e64-4d8a-a1ca-76e4c9a603a1\">\n",
              "    <div class=\"colab-df-container\">\n",
              "      <div>\n",
              "<style scoped>\n",
              "    .dataframe tbody tr th:only-of-type {\n",
              "        vertical-align: middle;\n",
              "    }\n",
              "\n",
              "    .dataframe tbody tr th {\n",
              "        vertical-align: top;\n",
              "    }\n",
              "\n",
              "    .dataframe thead th {\n",
              "        text-align: right;\n",
              "    }\n",
              "</style>\n",
              "<table border=\"1\" class=\"dataframe\">\n",
              "  <thead>\n",
              "    <tr style=\"text-align: right;\">\n",
              "      <th></th>\n",
              "      <th>id</th>\n",
              "      <th>date</th>\n",
              "      <th>week</th>\n",
              "      <th>month</th>\n",
              "      <th>product_id</th>\n",
              "      <th>rev</th>\n",
              "    </tr>\n",
              "  </thead>\n",
              "  <tbody>\n",
              "    <tr>\n",
              "      <th>0</th>\n",
              "      <td>1</td>\n",
              "      <td>2017-01-05</td>\n",
              "      <td>2017-01-02</td>\n",
              "      <td>2017-01-01</td>\n",
              "      <td>72</td>\n",
              "      <td>360.4</td>\n",
              "    </tr>\n",
              "    <tr>\n",
              "      <th>1</th>\n",
              "      <td>1</td>\n",
              "      <td>2017-02-21</td>\n",
              "      <td>2017-02-20</td>\n",
              "      <td>2017-02-01</td>\n",
              "      <td>2</td>\n",
              "      <td>71.49</td>\n",
              "    </tr>\n",
              "    <tr>\n",
              "      <th>2</th>\n",
              "      <td>1</td>\n",
              "      <td>2017-03-27</td>\n",
              "      <td>2017-03-27</td>\n",
              "      <td>2017-03-01</td>\n",
              "      <td>23</td>\n",
              "      <td>688.63</td>\n",
              "    </tr>\n",
              "    <tr>\n",
              "      <th>3</th>\n",
              "      <td>1</td>\n",
              "      <td>2017-03-29</td>\n",
              "      <td>2017-03-27</td>\n",
              "      <td>2017-03-01</td>\n",
              "      <td>11</td>\n",
              "      <td>1274.93</td>\n",
              "    </tr>\n",
              "    <tr>\n",
              "      <th>4</th>\n",
              "      <td>1</td>\n",
              "      <td>2017-04-06</td>\n",
              "      <td>2017-04-03</td>\n",
              "      <td>2017-04-01</td>\n",
              "      <td>38</td>\n",
              "      <td>1577.53</td>\n",
              "    </tr>\n",
              "  </tbody>\n",
              "</table>\n",
              "</div>\n",
              "      <button class=\"colab-df-convert\" onclick=\"convertToInteractive('df-e5aadea2-5e64-4d8a-a1ca-76e4c9a603a1')\"\n",
              "              title=\"Convert this dataframe to an interactive table.\"\n",
              "              style=\"display:none;\">\n",
              "        \n",
              "  <svg xmlns=\"http://www.w3.org/2000/svg\" height=\"24px\"viewBox=\"0 0 24 24\"\n",
              "       width=\"24px\">\n",
              "    <path d=\"M0 0h24v24H0V0z\" fill=\"none\"/>\n",
              "    <path d=\"M18.56 5.44l.94 2.06.94-2.06 2.06-.94-2.06-.94-.94-2.06-.94 2.06-2.06.94zm-11 1L8.5 8.5l.94-2.06 2.06-.94-2.06-.94L8.5 2.5l-.94 2.06-2.06.94zm10 10l.94 2.06.94-2.06 2.06-.94-2.06-.94-.94-2.06-.94 2.06-2.06.94z\"/><path d=\"M17.41 7.96l-1.37-1.37c-.4-.4-.92-.59-1.43-.59-.52 0-1.04.2-1.43.59L10.3 9.45l-7.72 7.72c-.78.78-.78 2.05 0 2.83L4 21.41c.39.39.9.59 1.41.59.51 0 1.02-.2 1.41-.59l7.78-7.78 2.81-2.81c.8-.78.8-2.07 0-2.86zM5.41 20L4 18.59l7.72-7.72 1.47 1.35L5.41 20z\"/>\n",
              "  </svg>\n",
              "      </button>\n",
              "      \n",
              "  <style>\n",
              "    .colab-df-container {\n",
              "      display:flex;\n",
              "      flex-wrap:wrap;\n",
              "      gap: 12px;\n",
              "    }\n",
              "\n",
              "    .colab-df-convert {\n",
              "      background-color: #E8F0FE;\n",
              "      border: none;\n",
              "      border-radius: 50%;\n",
              "      cursor: pointer;\n",
              "      display: none;\n",
              "      fill: #1967D2;\n",
              "      height: 32px;\n",
              "      padding: 0 0 0 0;\n",
              "      width: 32px;\n",
              "    }\n",
              "\n",
              "    .colab-df-convert:hover {\n",
              "      background-color: #E2EBFA;\n",
              "      box-shadow: 0px 1px 2px rgba(60, 64, 67, 0.3), 0px 1px 3px 1px rgba(60, 64, 67, 0.15);\n",
              "      fill: #174EA6;\n",
              "    }\n",
              "\n",
              "    [theme=dark] .colab-df-convert {\n",
              "      background-color: #3B4455;\n",
              "      fill: #D2E3FC;\n",
              "    }\n",
              "\n",
              "    [theme=dark] .colab-df-convert:hover {\n",
              "      background-color: #434B5C;\n",
              "      box-shadow: 0px 1px 3px 1px rgba(0, 0, 0, 0.15);\n",
              "      filter: drop-shadow(0px 1px 2px rgba(0, 0, 0, 0.3));\n",
              "      fill: #FFFFFF;\n",
              "    }\n",
              "  </style>\n",
              "\n",
              "      <script>\n",
              "        const buttonEl =\n",
              "          document.querySelector('#df-e5aadea2-5e64-4d8a-a1ca-76e4c9a603a1 button.colab-df-convert');\n",
              "        buttonEl.style.display =\n",
              "          google.colab.kernel.accessAllowed ? 'block' : 'none';\n",
              "\n",
              "        async function convertToInteractive(key) {\n",
              "          const element = document.querySelector('#df-e5aadea2-5e64-4d8a-a1ca-76e4c9a603a1');\n",
              "          const dataTable =\n",
              "            await google.colab.kernel.invokeFunction('convertToInteractive',\n",
              "                                                     [key], {});\n",
              "          if (!dataTable) return;\n",
              "\n",
              "          const docLinkHtml = 'Like what you see? Visit the ' +\n",
              "            '<a target=\"_blank\" href=https://colab.research.google.com/notebooks/data_table.ipynb>data table notebook</a>'\n",
              "            + ' to learn more about interactive tables.';\n",
              "          element.innerHTML = '';\n",
              "          dataTable['output_type'] = 'display_data';\n",
              "          await google.colab.output.renderOutput(dataTable, element);\n",
              "          const docLink = document.createElement('div');\n",
              "          docLink.innerHTML = docLinkHtml;\n",
              "          element.appendChild(docLink);\n",
              "        }\n",
              "      </script>\n",
              "    </div>\n",
              "  </div>\n",
              "  "
            ]
          },
          "metadata": {},
          "execution_count": 27
        }
      ]
    },
    {
      "cell_type": "code",
      "source": [
        "list_npu = df.groupby(['id'])['date'].min().reset_index().rename(columns = {'date':'npu_date'})\n",
        "df_ = pd.merge(df, list_npu, 'left', 'id')\n",
        "df_['days'] = (df_['date'] - df_['npu_date']).dt.days\n",
        "cnt = df_.groupby(['product_id', 'days'])['id'].count().reset_index().rename(columns = {'id':'pu'})\n",
        "cnt['ratio'] = cnt.groupby(['product_id'])['pu'].apply(lambda x : round(x/x.max()*100,2))\n",
        "cnt['product_id'] = cnt['product_id'].astype(str)\n",
        "cnt = pd.melt(cnt, id_vars = ['product_id','days'], var_name = 'type')\n",
        "cnt.head()"
      ],
      "metadata": {
        "colab": {
          "base_uri": "https://localhost:8080/",
          "height": 206
        },
        "id": "CgYZiynAD45D",
        "outputId": "d64b37c4-3693-470a-ea02-5cf8c582b615"
      },
      "execution_count": 31,
      "outputs": [
        {
          "output_type": "execute_result",
          "data": {
            "text/plain": [
              "  product_id  days type  value\n",
              "0          0     0   pu  244.0\n",
              "1          0     1   pu    5.0\n",
              "2          0     2   pu    3.0\n",
              "3          0     3   pu    5.0\n",
              "4          0     4   pu    7.0"
            ],
            "text/html": [
              "\n",
              "  <div id=\"df-b487af91-66f5-45c6-a703-4a37c90e4d7a\">\n",
              "    <div class=\"colab-df-container\">\n",
              "      <div>\n",
              "<style scoped>\n",
              "    .dataframe tbody tr th:only-of-type {\n",
              "        vertical-align: middle;\n",
              "    }\n",
              "\n",
              "    .dataframe tbody tr th {\n",
              "        vertical-align: top;\n",
              "    }\n",
              "\n",
              "    .dataframe thead th {\n",
              "        text-align: right;\n",
              "    }\n",
              "</style>\n",
              "<table border=\"1\" class=\"dataframe\">\n",
              "  <thead>\n",
              "    <tr style=\"text-align: right;\">\n",
              "      <th></th>\n",
              "      <th>product_id</th>\n",
              "      <th>days</th>\n",
              "      <th>type</th>\n",
              "      <th>value</th>\n",
              "    </tr>\n",
              "  </thead>\n",
              "  <tbody>\n",
              "    <tr>\n",
              "      <th>0</th>\n",
              "      <td>0</td>\n",
              "      <td>0</td>\n",
              "      <td>pu</td>\n",
              "      <td>244.0</td>\n",
              "    </tr>\n",
              "    <tr>\n",
              "      <th>1</th>\n",
              "      <td>0</td>\n",
              "      <td>1</td>\n",
              "      <td>pu</td>\n",
              "      <td>5.0</td>\n",
              "    </tr>\n",
              "    <tr>\n",
              "      <th>2</th>\n",
              "      <td>0</td>\n",
              "      <td>2</td>\n",
              "      <td>pu</td>\n",
              "      <td>3.0</td>\n",
              "    </tr>\n",
              "    <tr>\n",
              "      <th>3</th>\n",
              "      <td>0</td>\n",
              "      <td>3</td>\n",
              "      <td>pu</td>\n",
              "      <td>5.0</td>\n",
              "    </tr>\n",
              "    <tr>\n",
              "      <th>4</th>\n",
              "      <td>0</td>\n",
              "      <td>4</td>\n",
              "      <td>pu</td>\n",
              "      <td>7.0</td>\n",
              "    </tr>\n",
              "  </tbody>\n",
              "</table>\n",
              "</div>\n",
              "      <button class=\"colab-df-convert\" onclick=\"convertToInteractive('df-b487af91-66f5-45c6-a703-4a37c90e4d7a')\"\n",
              "              title=\"Convert this dataframe to an interactive table.\"\n",
              "              style=\"display:none;\">\n",
              "        \n",
              "  <svg xmlns=\"http://www.w3.org/2000/svg\" height=\"24px\"viewBox=\"0 0 24 24\"\n",
              "       width=\"24px\">\n",
              "    <path d=\"M0 0h24v24H0V0z\" fill=\"none\"/>\n",
              "    <path d=\"M18.56 5.44l.94 2.06.94-2.06 2.06-.94-2.06-.94-.94-2.06-.94 2.06-2.06.94zm-11 1L8.5 8.5l.94-2.06 2.06-.94-2.06-.94L8.5 2.5l-.94 2.06-2.06.94zm10 10l.94 2.06.94-2.06 2.06-.94-2.06-.94-.94-2.06-.94 2.06-2.06.94z\"/><path d=\"M17.41 7.96l-1.37-1.37c-.4-.4-.92-.59-1.43-.59-.52 0-1.04.2-1.43.59L10.3 9.45l-7.72 7.72c-.78.78-.78 2.05 0 2.83L4 21.41c.39.39.9.59 1.41.59.51 0 1.02-.2 1.41-.59l7.78-7.78 2.81-2.81c.8-.78.8-2.07 0-2.86zM5.41 20L4 18.59l7.72-7.72 1.47 1.35L5.41 20z\"/>\n",
              "  </svg>\n",
              "      </button>\n",
              "      \n",
              "  <style>\n",
              "    .colab-df-container {\n",
              "      display:flex;\n",
              "      flex-wrap:wrap;\n",
              "      gap: 12px;\n",
              "    }\n",
              "\n",
              "    .colab-df-convert {\n",
              "      background-color: #E8F0FE;\n",
              "      border: none;\n",
              "      border-radius: 50%;\n",
              "      cursor: pointer;\n",
              "      display: none;\n",
              "      fill: #1967D2;\n",
              "      height: 32px;\n",
              "      padding: 0 0 0 0;\n",
              "      width: 32px;\n",
              "    }\n",
              "\n",
              "    .colab-df-convert:hover {\n",
              "      background-color: #E2EBFA;\n",
              "      box-shadow: 0px 1px 2px rgba(60, 64, 67, 0.3), 0px 1px 3px 1px rgba(60, 64, 67, 0.15);\n",
              "      fill: #174EA6;\n",
              "    }\n",
              "\n",
              "    [theme=dark] .colab-df-convert {\n",
              "      background-color: #3B4455;\n",
              "      fill: #D2E3FC;\n",
              "    }\n",
              "\n",
              "    [theme=dark] .colab-df-convert:hover {\n",
              "      background-color: #434B5C;\n",
              "      box-shadow: 0px 1px 3px 1px rgba(0, 0, 0, 0.15);\n",
              "      filter: drop-shadow(0px 1px 2px rgba(0, 0, 0, 0.3));\n",
              "      fill: #FFFFFF;\n",
              "    }\n",
              "  </style>\n",
              "\n",
              "      <script>\n",
              "        const buttonEl =\n",
              "          document.querySelector('#df-b487af91-66f5-45c6-a703-4a37c90e4d7a button.colab-df-convert');\n",
              "        buttonEl.style.display =\n",
              "          google.colab.kernel.accessAllowed ? 'block' : 'none';\n",
              "\n",
              "        async function convertToInteractive(key) {\n",
              "          const element = document.querySelector('#df-b487af91-66f5-45c6-a703-4a37c90e4d7a');\n",
              "          const dataTable =\n",
              "            await google.colab.kernel.invokeFunction('convertToInteractive',\n",
              "                                                     [key], {});\n",
              "          if (!dataTable) return;\n",
              "\n",
              "          const docLinkHtml = 'Like what you see? Visit the ' +\n",
              "            '<a target=\"_blank\" href=https://colab.research.google.com/notebooks/data_table.ipynb>data table notebook</a>'\n",
              "            + ' to learn more about interactive tables.';\n",
              "          element.innerHTML = '';\n",
              "          dataTable['output_type'] = 'display_data';\n",
              "          await google.colab.output.renderOutput(dataTable, element);\n",
              "          const docLink = document.createElement('div');\n",
              "          docLink.innerHTML = docLinkHtml;\n",
              "          element.appendChild(docLink);\n",
              "        }\n",
              "      </script>\n",
              "    </div>\n",
              "  </div>\n",
              "  "
            ]
          },
          "metadata": {},
          "execution_count": 31
        }
      ]
    },
    {
      "cell_type": "code",
      "source": [
        "(\n",
        "    ggplot(cnt, aes('days', 'value', color = 'product_id')) +\n",
        "    gg.geom_line(alpha = .2, linetype = 'dashed') +\n",
        "   # gg.geom_smooth(se = False) +\n",
        "    gg.facet_wrap('~type', scales = 'free_y') +\n",
        "    gg.theme_bw()\n",
        ")"
      ],
      "metadata": {
        "colab": {
          "base_uri": "https://localhost:8080/",
          "height": 497
        },
        "id": "LDrgkKR4FHf3",
        "outputId": "95ee2975-f5e5-46bf-eeb9-65cd08df4b13"
      },
      "execution_count": 35,
      "outputs": [
        {
          "output_type": "stream",
          "name": "stderr",
          "text": [
            "/usr/local/lib/python3.7/dist-packages/plotnine/facets/facet.py:393: PlotnineWarning: If you need more space for the x-axis tick text use ... + theme(subplots_adjust={'wspace': 0.25}). Choose an appropriate value for 'wspace'.\n"
          ]
        },
        {
          "output_type": "display_data",
          "data": {
            "text/plain": [
              "<Figure size 640x480 with 2 Axes>"
            ],
            "image/png": "[encoded data removed]"
          },
          "metadata": {}
        },
        {
          "output_type": "execute_result",
          "data": {
            "text/plain": [
              "<ggplot: (8788706727613)>"
            ]
          },
          "metadata": {},
          "execution_count": 35
        }
      ]
    },
    {
      "cell_type": "markdown",
      "source": [
        "# iterator"
      ],
      "metadata": {
        "id": "uQsLJl7O9EY0"
      }
    },
    {
      "cell_type": "code",
      "source": [
        "mat = [list('ABC'), list('DEF'), list('GHI')]\n",
        "[(r, c, letters) for r, rows in enumerate(mat) for c, letters in enumerate(rows)]"
      ],
      "metadata": {
        "colab": {
          "base_uri": "https://localhost:8080/"
        },
        "id": "LT95OWek998g",
        "outputId": "4ee47e09-4fb8-40bf-c92f-b5089df4a7f1"
      },
      "execution_count": 36,
      "outputs": [
        {
          "output_type": "execute_result",
          "data": {
            "text/plain": [
              "[(0, 0, 'A'),\n",
              " (0, 1, 'B'),\n",
              " (0, 2, 'C'),\n",
              " (1, 0, 'D'),\n",
              " (1, 1, 'E'),\n",
              " (1, 2, 'F'),\n",
              " (2, 0, 'G'),\n",
              " (2, 1, 'H'),\n",
              " (2, 2, 'I')]"
            ]
          },
          "metadata": {},
          "execution_count": 36
        }
      ]
    },
    {
      "cell_type": "code",
      "source": [
        "users = [{'mail': 'gregorythomas@gmail.com', 'name': 'Brett Holland', 'sex': 'M', 'age': 73},\n",
        " {'mail': 'hintoncynthia@hotmail.com', 'name': 'Madison Martinez', 'sex': 'F', 'age': 29},\n",
        " {'mail': 'wwagner@gmail.com', 'name': 'Michael Jenkins', 'sex': 'M', 'age': 51},\n",
        " {'mail': 'daniel79@gmail.com', 'name': 'Karen Rodriguez', 'sex': 'F', 'age': 32},\n",
        " {'mail': 'ujackson@gmail.com', 'name': 'Amber Rhodes', 'sex': 'F', 'age': 42}]\n",
        "users"
      ],
      "metadata": {
        "colab": {
          "base_uri": "https://localhost:8080/"
        },
        "id": "nZQasb1_Fx4f",
        "outputId": "a17a037c-500e-4da2-c9ae-23d42dc076d4"
      },
      "execution_count": 37,
      "outputs": [
        {
          "output_type": "execute_result",
          "data": {
            "text/plain": [
              "[{'mail': 'gregorythomas@gmail.com',\n",
              "  'name': 'Brett Holland',\n",
              "  'sex': 'M',\n",
              "  'age': 73},\n",
              " {'mail': 'hintoncynthia@hotmail.com',\n",
              "  'name': 'Madison Martinez',\n",
              "  'sex': 'F',\n",
              "  'age': 29},\n",
              " {'mail': 'wwagner@gmail.com',\n",
              "  'name': 'Michael Jenkins',\n",
              "  'sex': 'M',\n",
              "  'age': 51},\n",
              " {'mail': 'daniel79@gmail.com',\n",
              "  'name': 'Karen Rodriguez',\n",
              "  'sex': 'F',\n",
              "  'age': 32},\n",
              " {'mail': 'ujackson@gmail.com', 'name': 'Amber Rhodes', 'sex': 'F', 'age': 42}]"
            ]
          },
          "metadata": {},
          "execution_count": 37
        }
      ]
    },
    {
      "cell_type": "code",
      "source": [
        "{key : eval(f'reduce(lambda acc, cur : acc + [cur[\"{key}\"]], users, [])') for key in list(users[0].keys())}"
      ],
      "metadata": {
        "colab": {
          "base_uri": "https://localhost:8080/"
        },
        "id": "76mhcRrYFzfj",
        "outputId": "4f518ac8-65ff-4958-abe4-84a0b5d5ed6b"
      },
      "execution_count": 39,
      "outputs": [
        {
          "output_type": "execute_result",
          "data": {
            "text/plain": [
              "{'mail': ['gregorythomas@gmail.com',\n",
              "  'hintoncynthia@hotmail.com',\n",
              "  'wwagner@gmail.com',\n",
              "  'daniel79@gmail.com',\n",
              "  'ujackson@gmail.com'],\n",
              " 'name': ['Brett Holland',\n",
              "  'Madison Martinez',\n",
              "  'Michael Jenkins',\n",
              "  'Karen Rodriguez',\n",
              "  'Amber Rhodes'],\n",
              " 'sex': ['M', 'F', 'M', 'F', 'F'],\n",
              " 'age': [73, 29, 51, 32, 42]}"
            ]
          },
          "metadata": {},
          "execution_count": 39
        }
      ]
    },
    {
      "cell_type": "code",
      "source": [
        "def add_arthor_with_name(name) :\n",
        "  def add_arthor(func) :\n",
        "    def wrapper(*args, **kwargs) :\n",
        "      return name + '\\n' + func(*args, **kwargs) \n",
        "    return  wrapper\n",
        "  return add_arthor\n",
        "\n",
        "def add_arthor(func) :\n",
        "  def wrapper(*args, **kwargs) :\n",
        "    return 'park' + '\\n' + func(*args, **kwargs)\n",
        "  return wrapper\n",
        "\n",
        "@add_arthor_with_name('kim')\n",
        "def get_title(title) :\n",
        "  return title \n",
        "\n",
        "@add_arthor \n",
        "def get_title2(t1, t2) :\n",
        "  return t1 + ' ' + t2"
      ],
      "metadata": {
        "id": "iW4m3A9FF68u"
      },
      "execution_count": 43,
      "outputs": []
    },
    {
      "cell_type": "code",
      "source": [
        "print(get_title('나를 차갑게 돌아서도'))\n",
        "print(get_title2('내 안의 너', '아니란 걸'))"
      ],
      "metadata": {
        "colab": {
          "base_uri": "https://localhost:8080/"
        },
        "id": "hDdR-mh_Gh5U",
        "outputId": "ead1b726-8eaa-4690-9400-c653e6648225"
      },
      "execution_count": 45,
      "outputs": [
        {
          "output_type": "stream",
          "name": "stdout",
          "text": [
            "kim\n",
            "나를 차갑게 돌아서도\n",
            "park\n",
            "내 안의 너 아니란 걸\n"
          ]
        }
      ]
    },
    {
      "cell_type": "code",
      "source": [],
      "metadata": {
        "id": "QTbOctwzIIzM"
      },
      "execution_count": null,
      "outputs": []
    }
  ]
}