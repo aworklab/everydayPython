{
  "nbformat": 4,
  "nbformat_minor": 0,
  "metadata": {
    "colab": {
      "name": "ex_20220803.ipynb",
      "provenance": [],
      "toc_visible": true,
      "authorship_tag": "ABX9TyPsAr1n705+xXk4VVx6WeOs",
      "include_colab_link": true
    },
    "kernelspec": {
      "name": "python3",
      "display_name": "Python 3"
    },
    "language_info": {
      "name": "python"
    }
  },
  "cells": [
    {
      "cell_type": "markdown",
      "metadata": {
        "id": "view-in-github",
        "colab_type": "text"
      },
      "source": [
        "<a href=\"https://colab.research.google.com/github/aworklab/everydayPython/blob/main/ex_20220803.ipynb\" target=\"_parent\"><img src=\"https://colab.research.google.com/assets/colab-badge.svg\" alt=\"Open In Colab\"/></a>"
      ]
    },
    {
      "cell_type": "markdown",
      "source": [
        "오늘의 목표\n",
        "* iterator"
      ],
      "metadata": {
        "id": "O6DH2HSr_K1o"
      }
    },
    {
      "cell_type": "code",
      "execution_count": 1,
      "metadata": {
        "id": "jE1AmLiu_FUo"
      },
      "outputs": [],
      "source": [
        "import pandas as pd \n",
        "import numpy as np\n",
        "from functools import reduce \n",
        "from collections import Counter, ChainMap, defaultdict"
      ]
    },
    {
      "cell_type": "markdown",
      "source": [
        "# iterator"
      ],
      "metadata": {
        "id": "zw90e2c4_NzE"
      }
    },
    {
      "cell_type": "code",
      "source": [
        "mat = [list('ABC'), list('DEF'), list('GHI')]\n",
        "for r, rows in enumerate(mat) :\n",
        "  for c, letter in enumerate(rows) :\n",
        "    print(f'({r},{c})={letter}')"
      ],
      "metadata": {
        "colab": {
          "base_uri": "https://localhost:8080/"
        },
        "id": "2xQuiEnq_ODR",
        "outputId": "721e2e86-b597-4797-c956-13ef9ded3717"
      },
      "execution_count": 2,
      "outputs": [
        {
          "output_type": "stream",
          "name": "stdout",
          "text": [
            "(0,0)=A\n",
            "(0,1)=B\n",
            "(0,2)=C\n",
            "(1,0)=D\n",
            "(1,1)=E\n",
            "(1,2)=F\n",
            "(2,0)=G\n",
            "(2,1)=H\n",
            "(2,2)=I\n"
          ]
        }
      ]
    },
    {
      "cell_type": "code",
      "source": [
        "portfolio = [\n",
        "    ('GOOG', 100, 490.1),\n",
        "    ('IBM', 50, 91.1),\n",
        "    ('CAT', 150, 83.44),\n",
        "    ('IBM', 100, 45.23),\n",
        "    ('GOOG', 75, 572.45),\n",
        "    ('AA', 50, 23.15)\n",
        "]\n",
        "portfolio"
      ],
      "metadata": {
        "colab": {
          "base_uri": "https://localhost:8080/"
        },
        "id": "rpHTedU2_gSi",
        "outputId": "52e4d740-5ca1-483b-98be-da90178d1514"
      },
      "execution_count": 3,
      "outputs": [
        {
          "output_type": "execute_result",
          "data": {
            "text/plain": [
              "[('GOOG', 100, 490.1),\n",
              " ('IBM', 50, 91.1),\n",
              " ('CAT', 150, 83.44),\n",
              " ('IBM', 100, 45.23),\n",
              " ('GOOG', 75, 572.45),\n",
              " ('AA', 50, 23.15)]"
            ]
          },
          "metadata": {},
          "execution_count": 3
        }
      ]
    },
    {
      "cell_type": "code",
      "source": [
        "a, b, c, d = Counter(), defaultdict(int), defaultdict(int), defaultdict(list)\n",
        "\n",
        "for com, share, price in portfolio : \n",
        "  a[com] += 1\n",
        "  b[com] += 1\n",
        "  c[com] += share\n",
        "  d[com].append((share, price))\n",
        "\n",
        "print(a)\n",
        "print(b)\n",
        "print(c)\n",
        "print(d)"
      ],
      "metadata": {
        "colab": {
          "base_uri": "https://localhost:8080/"
        },
        "id": "LBi3hX0-_h1H",
        "outputId": "d83c5882-f557-41a5-ee15-6c013a8534a3"
      },
      "execution_count": 5,
      "outputs": [
        {
          "output_type": "stream",
          "name": "stdout",
          "text": [
            "Counter({'GOOG': 2, 'IBM': 2, 'CAT': 1, 'AA': 1})\n",
            "defaultdict(<class 'int'>, {'GOOG': 2, 'IBM': 2, 'CAT': 1, 'AA': 1})\n",
            "defaultdict(<class 'int'>, {'GOOG': 175, 'IBM': 150, 'CAT': 150, 'AA': 50})\n",
            "defaultdict(<class 'list'>, {'GOOG': [(100, 490.1), (75, 572.45)], 'IBM': [(50, 91.1), (100, 45.23)], 'CAT': [(150, 83.44)], 'AA': [(50, 23.15)]})\n"
          ]
        }
      ]
    },
    {
      "cell_type": "code",
      "source": [
        "users = [{'mail': 'gregorythomas@gmail.com', 'name': 'Brett Holland', 'sex': 'M', 'age': 73},\n",
        " {'mail': 'hintoncynthia@hotmail.com', 'name': 'Madison Martinez', 'sex': 'F', 'age': 29},\n",
        " {'mail': 'wwagner@gmail.com', 'name': 'Michael Jenkins', 'sex': 'M', 'age': 51},\n",
        " {'mail': 'daniel79@gmail.com', 'name': 'Karen Rodriguez', 'sex': 'F', 'age': 32},\n",
        " {'mail': 'ujackson@gmail.com', 'name': 'Amber Rhodes', 'sex': 'F', 'age': 42}]\n",
        "users"
      ],
      "metadata": {
        "colab": {
          "base_uri": "https://localhost:8080/"
        },
        "id": "74auHsPj_xEN",
        "outputId": "60ae431e-33e8-4953-aae7-9a27ecc41bf6"
      },
      "execution_count": 6,
      "outputs": [
        {
          "output_type": "execute_result",
          "data": {
            "text/plain": [
              "[{'age': 73,\n",
              "  'mail': 'gregorythomas@gmail.com',\n",
              "  'name': 'Brett Holland',\n",
              "  'sex': 'M'},\n",
              " {'age': 29,\n",
              "  'mail': 'hintoncynthia@hotmail.com',\n",
              "  'name': 'Madison Martinez',\n",
              "  'sex': 'F'},\n",
              " {'age': 51,\n",
              "  'mail': 'wwagner@gmail.com',\n",
              "  'name': 'Michael Jenkins',\n",
              "  'sex': 'M'},\n",
              " {'age': 32,\n",
              "  'mail': 'daniel79@gmail.com',\n",
              "  'name': 'Karen Rodriguez',\n",
              "  'sex': 'F'},\n",
              " {'age': 42, 'mail': 'ujackson@gmail.com', 'name': 'Amber Rhodes', 'sex': 'F'}]"
            ]
          },
          "metadata": {},
          "execution_count": 6
        }
      ]
    },
    {
      "cell_type": "code",
      "source": [
        "for key in list(users[0].keys()) :\n",
        "\n",
        "  if key == list(users[0].keys())[0] :\n",
        "\n",
        "    res = eval(f'reduce(lambda acc, cur : acc + [cur[\"{key}\"]],users,[])')\n",
        "\n",
        "  else : \n",
        "    \n",
        "    res = np.c_[res, eval(f'reduce(lambda acc, cur : acc + [cur[\"{key}\"]],users,[])')]\n",
        "\n",
        "res"
      ],
      "metadata": {
        "colab": {
          "base_uri": "https://localhost:8080/"
        },
        "id": "XPJYElqq_3jK",
        "outputId": "2bce638a-be34-49b1-c49d-0d4371390621"
      },
      "execution_count": 10,
      "outputs": [
        {
          "output_type": "execute_result",
          "data": {
            "text/plain": [
              "array([['gregorythomas@gmail.com', 'Brett Holland', 'M', '73'],\n",
              "       ['hintoncynthia@hotmail.com', 'Madison Martinez', 'F', '29'],\n",
              "       ['wwagner@gmail.com', 'Michael Jenkins', 'M', '51'],\n",
              "       ['daniel79@gmail.com', 'Karen Rodriguez', 'F', '32'],\n",
              "       ['ujackson@gmail.com', 'Amber Rhodes', 'F', '42']], dtype='<U25')"
            ]
          },
          "metadata": {},
          "execution_count": 10
        }
      ]
    },
    {
      "cell_type": "code",
      "source": [
        "{key : eval(f'reduce(lambda acc, cur : acc + [cur[\"{key}\"]],users,[])') for key in list(users[0].keys())}"
      ],
      "metadata": {
        "colab": {
          "base_uri": "https://localhost:8080/"
        },
        "id": "CZb4vWqlAEro",
        "outputId": "5f0c6931-8d43-4dd2-ff7a-15e2c9b525e5"
      },
      "execution_count": 13,
      "outputs": [
        {
          "output_type": "execute_result",
          "data": {
            "text/plain": [
              "{'age': [73, 29, 51, 32, 42],\n",
              " 'mail': ['gregorythomas@gmail.com',\n",
              "  'hintoncynthia@hotmail.com',\n",
              "  'wwagner@gmail.com',\n",
              "  'daniel79@gmail.com',\n",
              "  'ujackson@gmail.com'],\n",
              " 'name': ['Brett Holland',\n",
              "  'Madison Martinez',\n",
              "  'Michael Jenkins',\n",
              "  'Karen Rodriguez',\n",
              "  'Amber Rhodes'],\n",
              " 'sex': ['M', 'F', 'M', 'F', 'F']}"
            ]
          },
          "metadata": {},
          "execution_count": 13
        }
      ]
    },
    {
      "cell_type": "code",
      "source": [
        ""
      ],
      "metadata": {
        "id": "gAlP88UoAMGK"
      },
      "execution_count": null,
      "outputs": []
    }
  ]
}