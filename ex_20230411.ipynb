{
  "nbformat": 4,
  "nbformat_minor": 0,
  "metadata": {
    "colab": {
      "provenance": [],
      "authorship_tag": "ABX9TyMrMHnlWLe53Ua2Av7YTzha",
      "include_colab_link": true
    },
    "kernelspec": {
      "name": "python3",
      "display_name": "Python 3"
    },
    "language_info": {
      "name": "python"
    }
  },
  "cells": [
    {
      "cell_type": "markdown",
      "metadata": {
        "id": "view-in-github",
        "colab_type": "text"
      },
      "source": [
        "<a href=\"https://colab.research.google.com/github/aworklab/everydayPython/blob/main/ex_20230411.ipynb\" target=\"_parent\"><img src=\"https://colab.research.google.com/assets/colab-badge.svg\" alt=\"Open In Colab\"/></a>"
      ]
    },
    {
      "cell_type": "markdown",
      "source": [
        "# 오늘의 목표\n",
        "* Customer Analysis\n",
        "* Iterators"
      ],
      "metadata": {
        "id": "gHPm4Oooo_pR"
      }
    },
    {
      "cell_type": "code",
      "execution_count": 2,
      "metadata": {
        "id": "cb226Jw8o85a"
      },
      "outputs": [],
      "source": [
        "import pandas as pd\n",
        "import numpy as np\n",
        "import plotnine as gg\n",
        "from plotnine import ggplot, aes\n",
        "import matplotlib.pyplot as plt\n",
        "import seaborn as sns\n",
        "from datetime import datetime, date, time, timezone, timedelta \n",
        "import os \n",
        "import re\n",
        "from functools import reduce\n",
        "from collections import defaultdict\n",
        "from scipy import stats\n",
        "from scipy.stats import norm"
      ]
    },
    {
      "cell_type": "markdown",
      "source": [
        "# Customer Analysis"
      ],
      "metadata": {
        "id": "BwQXiKDKo_2t"
      }
    },
    {
      "cell_type": "code",
      "source": [
        "os.listdir()"
      ],
      "metadata": {
        "colab": {
          "base_uri": "https://localhost:8080/"
        },
        "id": "vytuaeD7pAEd",
        "outputId": "b2dda211-ced1-419b-f092-7c9d2a3a7848"
      },
      "execution_count": 3,
      "outputs": [
        {
          "output_type": "execute_result",
          "data": {
            "text/plain": [
              "['.config',\n",
              " 'groceries.csv',\n",
              " 'lead_conversion.csv',\n",
              " 'bz_data_analyis.csv',\n",
              " 'scanner_data.csv',\n",
              " 'app_wau.csv',\n",
              " 'mall_customers.csv',\n",
              " '1_customers_dataset.csv',\n",
              " 'test.csv',\n",
              " 'WA_Fn-UseC_-Marketing-Customer-Value-Analysis.csv',\n",
              " 'match_result_test.csv',\n",
              " 'WA_Fn-UseC_-Telco-Customer-Churn.csv',\n",
              " '1_orders_dataset.csv',\n",
              " 'cookie_cats.csv',\n",
              " 'ecommerce-data.csv',\n",
              " 'sales_data_with_stores.csv',\n",
              " 'online_retail.xlsx',\n",
              " 'ab_experiment.csv',\n",
              " 'KPMG_VI_New_raw_data_update_final.xlsx',\n",
              " 'sales.csv',\n",
              " '1_order_payments_dataset.csv',\n",
              " 'sample-sales-data.csv',\n",
              " 'mock_sales_data.csv',\n",
              " 'KPMG_VI_New_raw_data_update_final.csv',\n",
              " 'online_retail_II.xlsx',\n",
              " 'sales_vs_discount.csv',\n",
              " 'sample_data']"
            ]
          },
          "metadata": {},
          "execution_count": 3
        }
      ]
    },
    {
      "cell_type": "code",
      "source": [
        "df = pd.read_csv('ab_experiment.csv')\n",
        "df.occurred_at = df.occurred_at.to_numpy().astype('datetime64[ns]')\n",
        "df['date'] = df.occurred_at.to_numpy().astype('datetime64[D]')\n",
        "df['week'] = df['date'] - df['date'].dt.weekday.astype('timedelta64[D]')\n",
        "df.head()"
      ],
      "metadata": {
        "colab": {
          "base_uri": "https://localhost:8080/",
          "height": 337
        },
        "id": "tAjqqsvWqEBv",
        "outputId": "348abd81-1290-4856-b31b-4194cbc13466"
      },
      "execution_count": 6,
      "outputs": [
        {
          "output_type": "execute_result",
          "data": {
            "text/plain": [
              "   user_id         occurred_at        experiment experiment_group  \\\n",
              "0      4.0 2014-06-05 15:20:16  publisher_update    control_group   \n",
              "1   8198.0 2014-06-11 09:31:32  publisher_update    control_group   \n",
              "2     11.0 2014-06-17 09:31:22  publisher_update    control_group   \n",
              "3   8209.0 2014-06-04 09:31:21  publisher_update       test_group   \n",
              "4     19.0 2014-06-04 09:31:33  publisher_update       test_group   \n",
              "\n",
              "        location           device  user_type       date       week  \n",
              "0          India  lenovo thinkpad        3.0 2014-06-05 2014-06-02  \n",
              "1          Japan  nokia lumia 635        1.0 2014-06-11 2014-06-09  \n",
              "2  United States        iphone 4s        1.0 2014-06-17 2014-06-16  \n",
              "3         Turkey  nokia lumia 635        1.0 2014-06-04 2014-06-02  \n",
              "4        Nigeria         iphone 5        1.0 2014-06-04 2014-06-02  "
            ],
            "text/html": [
              "\n",
              "  <div id=\"df-b05dfad3-9267-447b-a435-3163ddd7a3fa\">\n",
              "    <div class=\"colab-df-container\">\n",
              "      <div>\n",
              "<style scoped>\n",
              "    .dataframe tbody tr th:only-of-type {\n",
              "        vertical-align: middle;\n",
              "    }\n",
              "\n",
              "    .dataframe tbody tr th {\n",
              "        vertical-align: top;\n",
              "    }\n",
              "\n",
              "    .dataframe thead th {\n",
              "        text-align: right;\n",
              "    }\n",
              "</style>\n",
              "<table border=\"1\" class=\"dataframe\">\n",
              "  <thead>\n",
              "    <tr style=\"text-align: right;\">\n",
              "      <th></th>\n",
              "      <th>user_id</th>\n",
              "      <th>occurred_at</th>\n",
              "      <th>experiment</th>\n",
              "      <th>experiment_group</th>\n",
              "      <th>location</th>\n",
              "      <th>device</th>\n",
              "      <th>user_type</th>\n",
              "      <th>date</th>\n",
              "      <th>week</th>\n",
              "    </tr>\n",
              "  </thead>\n",
              "  <tbody>\n",
              "    <tr>\n",
              "      <th>0</th>\n",
              "      <td>4.0</td>\n",
              "      <td>2014-06-05 15:20:16</td>\n",
              "      <td>publisher_update</td>\n",
              "      <td>control_group</td>\n",
              "      <td>India</td>\n",
              "      <td>lenovo thinkpad</td>\n",
              "      <td>3.0</td>\n",
              "      <td>2014-06-05</td>\n",
              "      <td>2014-06-02</td>\n",
              "    </tr>\n",
              "    <tr>\n",
              "      <th>1</th>\n",
              "      <td>8198.0</td>\n",
              "      <td>2014-06-11 09:31:32</td>\n",
              "      <td>publisher_update</td>\n",
              "      <td>control_group</td>\n",
              "      <td>Japan</td>\n",
              "      <td>nokia lumia 635</td>\n",
              "      <td>1.0</td>\n",
              "      <td>2014-06-11</td>\n",
              "      <td>2014-06-09</td>\n",
              "    </tr>\n",
              "    <tr>\n",
              "      <th>2</th>\n",
              "      <td>11.0</td>\n",
              "      <td>2014-06-17 09:31:22</td>\n",
              "      <td>publisher_update</td>\n",
              "      <td>control_group</td>\n",
              "      <td>United States</td>\n",
              "      <td>iphone 4s</td>\n",
              "      <td>1.0</td>\n",
              "      <td>2014-06-17</td>\n",
              "      <td>2014-06-16</td>\n",
              "    </tr>\n",
              "    <tr>\n",
              "      <th>3</th>\n",
              "      <td>8209.0</td>\n",
              "      <td>2014-06-04 09:31:21</td>\n",
              "      <td>publisher_update</td>\n",
              "      <td>test_group</td>\n",
              "      <td>Turkey</td>\n",
              "      <td>nokia lumia 635</td>\n",
              "      <td>1.0</td>\n",
              "      <td>2014-06-04</td>\n",
              "      <td>2014-06-02</td>\n",
              "    </tr>\n",
              "    <tr>\n",
              "      <th>4</th>\n",
              "      <td>19.0</td>\n",
              "      <td>2014-06-04 09:31:33</td>\n",
              "      <td>publisher_update</td>\n",
              "      <td>test_group</td>\n",
              "      <td>Nigeria</td>\n",
              "      <td>iphone 5</td>\n",
              "      <td>1.0</td>\n",
              "      <td>2014-06-04</td>\n",
              "      <td>2014-06-02</td>\n",
              "    </tr>\n",
              "  </tbody>\n",
              "</table>\n",
              "</div>\n",
              "      <button class=\"colab-df-convert\" onclick=\"convertToInteractive('df-b05dfad3-9267-447b-a435-3163ddd7a3fa')\"\n",
              "              title=\"Convert this dataframe to an interactive table.\"\n",
              "              style=\"display:none;\">\n",
              "        \n",
              "  <svg xmlns=\"http://www.w3.org/2000/svg\" height=\"24px\"viewBox=\"0 0 24 24\"\n",
              "       width=\"24px\">\n",
              "    <path d=\"M0 0h24v24H0V0z\" fill=\"none\"/>\n",
              "    <path d=\"M18.56 5.44l.94 2.06.94-2.06 2.06-.94-2.06-.94-.94-2.06-.94 2.06-2.06.94zm-11 1L8.5 8.5l.94-2.06 2.06-.94-2.06-.94L8.5 2.5l-.94 2.06-2.06.94zm10 10l.94 2.06.94-2.06 2.06-.94-2.06-.94-.94-2.06-.94 2.06-2.06.94z\"/><path d=\"M17.41 7.96l-1.37-1.37c-.4-.4-.92-.59-1.43-.59-.52 0-1.04.2-1.43.59L10.3 9.45l-7.72 7.72c-.78.78-.78 2.05 0 2.83L4 21.41c.39.39.9.59 1.41.59.51 0 1.02-.2 1.41-.59l7.78-7.78 2.81-2.81c.8-.78.8-2.07 0-2.86zM5.41 20L4 18.59l7.72-7.72 1.47 1.35L5.41 20z\"/>\n",
              "  </svg>\n",
              "      </button>\n",
              "      \n",
              "  <style>\n",
              "    .colab-df-container {\n",
              "      display:flex;\n",
              "      flex-wrap:wrap;\n",
              "      gap: 12px;\n",
              "    }\n",
              "\n",
              "    .colab-df-convert {\n",
              "      background-color: #E8F0FE;\n",
              "      border: none;\n",
              "      border-radius: 50%;\n",
              "      cursor: pointer;\n",
              "      display: none;\n",
              "      fill: #1967D2;\n",
              "      height: 32px;\n",
              "      padding: 0 0 0 0;\n",
              "      width: 32px;\n",
              "    }\n",
              "\n",
              "    .colab-df-convert:hover {\n",
              "      background-color: #E2EBFA;\n",
              "      box-shadow: 0px 1px 2px rgba(60, 64, 67, 0.3), 0px 1px 3px 1px rgba(60, 64, 67, 0.15);\n",
              "      fill: #174EA6;\n",
              "    }\n",
              "\n",
              "    [theme=dark] .colab-df-convert {\n",
              "      background-color: #3B4455;\n",
              "      fill: #D2E3FC;\n",
              "    }\n",
              "\n",
              "    [theme=dark] .colab-df-convert:hover {\n",
              "      background-color: #434B5C;\n",
              "      box-shadow: 0px 1px 3px 1px rgba(0, 0, 0, 0.15);\n",
              "      filter: drop-shadow(0px 1px 2px rgba(0, 0, 0, 0.3));\n",
              "      fill: #FFFFFF;\n",
              "    }\n",
              "  </style>\n",
              "\n",
              "      <script>\n",
              "        const buttonEl =\n",
              "          document.querySelector('#df-b05dfad3-9267-447b-a435-3163ddd7a3fa button.colab-df-convert');\n",
              "        buttonEl.style.display =\n",
              "          google.colab.kernel.accessAllowed ? 'block' : 'none';\n",
              "\n",
              "        async function convertToInteractive(key) {\n",
              "          const element = document.querySelector('#df-b05dfad3-9267-447b-a435-3163ddd7a3fa');\n",
              "          const dataTable =\n",
              "            await google.colab.kernel.invokeFunction('convertToInteractive',\n",
              "                                                     [key], {});\n",
              "          if (!dataTable) return;\n",
              "\n",
              "          const docLinkHtml = 'Like what you see? Visit the ' +\n",
              "            '<a target=\"_blank\" href=https://colab.research.google.com/notebooks/data_table.ipynb>data table notebook</a>'\n",
              "            + ' to learn more about interactive tables.';\n",
              "          element.innerHTML = '';\n",
              "          dataTable['output_type'] = 'display_data';\n",
              "          await google.colab.output.renderOutput(dataTable, element);\n",
              "          const docLink = document.createElement('div');\n",
              "          docLink.innerHTML = docLinkHtml;\n",
              "          element.appendChild(docLink);\n",
              "        }\n",
              "      </script>\n",
              "    </div>\n",
              "  </div>\n",
              "  "
            ]
          },
          "metadata": {},
          "execution_count": 6
        }
      ]
    },
    {
      "cell_type": "code",
      "source": [
        "cnt = df[df.location == 'United States'][['experiment_group','location','user_type']].value_counts().reset_index(name = 'cnt')\n",
        "cnt"
      ],
      "metadata": {
        "colab": {
          "base_uri": "https://localhost:8080/",
          "height": 237
        },
        "id": "lIQeHn4kqJmK",
        "outputId": "593868a9-221c-4c7c-c004-714919ef9849"
      },
      "execution_count": 11,
      "outputs": [
        {
          "output_type": "execute_result",
          "data": {
            "text/plain": [
              "  experiment_group       location  user_type  cnt\n",
              "0    control_group  United States        3.0  227\n",
              "1    control_group  United States        1.0  140\n",
              "2    control_group  United States        2.0  135\n",
              "3       test_group  United States        1.0  120\n",
              "4       test_group  United States        3.0   76\n",
              "5       test_group  United States        2.0   51"
            ],
            "text/html": [
              "\n",
              "  <div id=\"df-2e0118ba-bbf6-4f3a-9919-4b9a42e4ce54\">\n",
              "    <div class=\"colab-df-container\">\n",
              "      <div>\n",
              "<style scoped>\n",
              "    .dataframe tbody tr th:only-of-type {\n",
              "        vertical-align: middle;\n",
              "    }\n",
              "\n",
              "    .dataframe tbody tr th {\n",
              "        vertical-align: top;\n",
              "    }\n",
              "\n",
              "    .dataframe thead th {\n",
              "        text-align: right;\n",
              "    }\n",
              "</style>\n",
              "<table border=\"1\" class=\"dataframe\">\n",
              "  <thead>\n",
              "    <tr style=\"text-align: right;\">\n",
              "      <th></th>\n",
              "      <th>experiment_group</th>\n",
              "      <th>location</th>\n",
              "      <th>user_type</th>\n",
              "      <th>cnt</th>\n",
              "    </tr>\n",
              "  </thead>\n",
              "  <tbody>\n",
              "    <tr>\n",
              "      <th>0</th>\n",
              "      <td>control_group</td>\n",
              "      <td>United States</td>\n",
              "      <td>3.0</td>\n",
              "      <td>227</td>\n",
              "    </tr>\n",
              "    <tr>\n",
              "      <th>1</th>\n",
              "      <td>control_group</td>\n",
              "      <td>United States</td>\n",
              "      <td>1.0</td>\n",
              "      <td>140</td>\n",
              "    </tr>\n",
              "    <tr>\n",
              "      <th>2</th>\n",
              "      <td>control_group</td>\n",
              "      <td>United States</td>\n",
              "      <td>2.0</td>\n",
              "      <td>135</td>\n",
              "    </tr>\n",
              "    <tr>\n",
              "      <th>3</th>\n",
              "      <td>test_group</td>\n",
              "      <td>United States</td>\n",
              "      <td>1.0</td>\n",
              "      <td>120</td>\n",
              "    </tr>\n",
              "    <tr>\n",
              "      <th>4</th>\n",
              "      <td>test_group</td>\n",
              "      <td>United States</td>\n",
              "      <td>3.0</td>\n",
              "      <td>76</td>\n",
              "    </tr>\n",
              "    <tr>\n",
              "      <th>5</th>\n",
              "      <td>test_group</td>\n",
              "      <td>United States</td>\n",
              "      <td>2.0</td>\n",
              "      <td>51</td>\n",
              "    </tr>\n",
              "  </tbody>\n",
              "</table>\n",
              "</div>\n",
              "      <button class=\"colab-df-convert\" onclick=\"convertToInteractive('df-2e0118ba-bbf6-4f3a-9919-4b9a42e4ce54')\"\n",
              "              title=\"Convert this dataframe to an interactive table.\"\n",
              "              style=\"display:none;\">\n",
              "        \n",
              "  <svg xmlns=\"http://www.w3.org/2000/svg\" height=\"24px\"viewBox=\"0 0 24 24\"\n",
              "       width=\"24px\">\n",
              "    <path d=\"M0 0h24v24H0V0z\" fill=\"none\"/>\n",
              "    <path d=\"M18.56 5.44l.94 2.06.94-2.06 2.06-.94-2.06-.94-.94-2.06-.94 2.06-2.06.94zm-11 1L8.5 8.5l.94-2.06 2.06-.94-2.06-.94L8.5 2.5l-.94 2.06-2.06.94zm10 10l.94 2.06.94-2.06 2.06-.94-2.06-.94-.94-2.06-.94 2.06-2.06.94z\"/><path d=\"M17.41 7.96l-1.37-1.37c-.4-.4-.92-.59-1.43-.59-.52 0-1.04.2-1.43.59L10.3 9.45l-7.72 7.72c-.78.78-.78 2.05 0 2.83L4 21.41c.39.39.9.59 1.41.59.51 0 1.02-.2 1.41-.59l7.78-7.78 2.81-2.81c.8-.78.8-2.07 0-2.86zM5.41 20L4 18.59l7.72-7.72 1.47 1.35L5.41 20z\"/>\n",
              "  </svg>\n",
              "      </button>\n",
              "      \n",
              "  <style>\n",
              "    .colab-df-container {\n",
              "      display:flex;\n",
              "      flex-wrap:wrap;\n",
              "      gap: 12px;\n",
              "    }\n",
              "\n",
              "    .colab-df-convert {\n",
              "      background-color: #E8F0FE;\n",
              "      border: none;\n",
              "      border-radius: 50%;\n",
              "      cursor: pointer;\n",
              "      display: none;\n",
              "      fill: #1967D2;\n",
              "      height: 32px;\n",
              "      padding: 0 0 0 0;\n",
              "      width: 32px;\n",
              "    }\n",
              "\n",
              "    .colab-df-convert:hover {\n",
              "      background-color: #E2EBFA;\n",
              "      box-shadow: 0px 1px 2px rgba(60, 64, 67, 0.3), 0px 1px 3px 1px rgba(60, 64, 67, 0.15);\n",
              "      fill: #174EA6;\n",
              "    }\n",
              "\n",
              "    [theme=dark] .colab-df-convert {\n",
              "      background-color: #3B4455;\n",
              "      fill: #D2E3FC;\n",
              "    }\n",
              "\n",
              "    [theme=dark] .colab-df-convert:hover {\n",
              "      background-color: #434B5C;\n",
              "      box-shadow: 0px 1px 3px 1px rgba(0, 0, 0, 0.15);\n",
              "      filter: drop-shadow(0px 1px 2px rgba(0, 0, 0, 0.3));\n",
              "      fill: #FFFFFF;\n",
              "    }\n",
              "  </style>\n",
              "\n",
              "      <script>\n",
              "        const buttonEl =\n",
              "          document.querySelector('#df-2e0118ba-bbf6-4f3a-9919-4b9a42e4ce54 button.colab-df-convert');\n",
              "        buttonEl.style.display =\n",
              "          google.colab.kernel.accessAllowed ? 'block' : 'none';\n",
              "\n",
              "        async function convertToInteractive(key) {\n",
              "          const element = document.querySelector('#df-2e0118ba-bbf6-4f3a-9919-4b9a42e4ce54');\n",
              "          const dataTable =\n",
              "            await google.colab.kernel.invokeFunction('convertToInteractive',\n",
              "                                                     [key], {});\n",
              "          if (!dataTable) return;\n",
              "\n",
              "          const docLinkHtml = 'Like what you see? Visit the ' +\n",
              "            '<a target=\"_blank\" href=https://colab.research.google.com/notebooks/data_table.ipynb>data table notebook</a>'\n",
              "            + ' to learn more about interactive tables.';\n",
              "          element.innerHTML = '';\n",
              "          dataTable['output_type'] = 'display_data';\n",
              "          await google.colab.output.renderOutput(dataTable, element);\n",
              "          const docLink = document.createElement('div');\n",
              "          docLink.innerHTML = docLinkHtml;\n",
              "          element.appendChild(docLink);\n",
              "        }\n",
              "      </script>\n",
              "    </div>\n",
              "  </div>\n",
              "  "
            ]
          },
          "metadata": {},
          "execution_count": 11
        }
      ]
    },
    {
      "cell_type": "code",
      "source": [
        "sns.barplot(data = cnt, x = 'user_type', y = 'cnt', hue = 'experiment_group')\n",
        "plt.show()"
      ],
      "metadata": {
        "colab": {
          "base_uri": "https://localhost:8080/",
          "height": 449
        },
        "id": "UWyTKBWYqj6c",
        "outputId": "85f0dad9-efd8-4dfb-ece1-d62dc0671928"
      },
      "execution_count": 12,
      "outputs": [
        {
          "output_type": "display_data",
          "data": {
            "text/plain": [
              "<Figure size 640x480 with 1 Axes>"
            ],
            "image/png": "[encoded data removed]"
          },
          "metadata": {}
        }
      ]
    },
    {
      "cell_type": "markdown",
      "source": [
        "# Iterators"
      ],
      "metadata": {
        "id": "C4pO2-f9pAPV"
      }
    },
    {
      "cell_type": "code",
      "source": [
        "users = [{'mail': 'gregorythomas@gmail.com', 'name': 'Brett Holland', 'sex': 'M', 'age': 73},\n",
        " {'mail': 'hintoncynthia@hotmail.com', 'name': 'Madison Martinez', 'sex': 'F', 'age': 29},\n",
        " {'mail': 'wwagner@gmail.com', 'name': 'Michael Jenkins', 'sex': 'M', 'age': 51},\n",
        " {'mail': 'daniel79@gmail.com', 'name': 'Karen Rodriguez', 'sex': 'F', 'age': 32},\n",
        " {'mail': 'ujackson@gmail.com', 'name': 'Amber Rhodes', 'sex': 'F', 'age': 42}]\n",
        "users"
      ],
      "metadata": {
        "colab": {
          "base_uri": "https://localhost:8080/"
        },
        "id": "0hqCZGKDpAbc",
        "outputId": "38522e74-a7df-410b-c1bb-1a84b4836487"
      },
      "execution_count": 13,
      "outputs": [
        {
          "output_type": "execute_result",
          "data": {
            "text/plain": [
              "[{'mail': 'gregorythomas@gmail.com',\n",
              "  'name': 'Brett Holland',\n",
              "  'sex': 'M',\n",
              "  'age': 73},\n",
              " {'mail': 'hintoncynthia@hotmail.com',\n",
              "  'name': 'Madison Martinez',\n",
              "  'sex': 'F',\n",
              "  'age': 29},\n",
              " {'mail': 'wwagner@gmail.com',\n",
              "  'name': 'Michael Jenkins',\n",
              "  'sex': 'M',\n",
              "  'age': 51},\n",
              " {'mail': 'daniel79@gmail.com',\n",
              "  'name': 'Karen Rodriguez',\n",
              "  'sex': 'F',\n",
              "  'age': 32},\n",
              " {'mail': 'ujackson@gmail.com', 'name': 'Amber Rhodes', 'sex': 'F', 'age': 42}]"
            ]
          },
          "metadata": {},
          "execution_count": 13
        }
      ]
    },
    {
      "cell_type": "code",
      "source": [
        "{k : eval(f'reduce(lambda acc, cur : acc + [cur[\"{k}\"]], users, [])') for k in users[0].keys()}"
      ],
      "metadata": {
        "colab": {
          "base_uri": "https://localhost:8080/"
        },
        "id": "yW23WIJDq6hZ",
        "outputId": "3d6853a9-02f1-431b-8c4c-b64a539b35ae"
      },
      "execution_count": 14,
      "outputs": [
        {
          "output_type": "execute_result",
          "data": {
            "text/plain": [
              "{'mail': ['gregorythomas@gmail.com',\n",
              "  'hintoncynthia@hotmail.com',\n",
              "  'wwagner@gmail.com',\n",
              "  'daniel79@gmail.com',\n",
              "  'ujackson@gmail.com'],\n",
              " 'name': ['Brett Holland',\n",
              "  'Madison Martinez',\n",
              "  'Michael Jenkins',\n",
              "  'Karen Rodriguez',\n",
              "  'Amber Rhodes'],\n",
              " 'sex': ['M', 'F', 'M', 'F', 'F'],\n",
              " 'age': [73, 29, 51, 32, 42]}"
            ]
          },
          "metadata": {},
          "execution_count": 14
        }
      ]
    },
    {
      "cell_type": "code",
      "source": [
        "{k : [user[k] for user in users] for k in users[0].keys()}"
      ],
      "metadata": {
        "colab": {
          "base_uri": "https://localhost:8080/"
        },
        "id": "WnqsNbpgrHV8",
        "outputId": "3c4655a1-ef62-418c-dcbb-8c37bb0aa889"
      },
      "execution_count": 15,
      "outputs": [
        {
          "output_type": "execute_result",
          "data": {
            "text/plain": [
              "{'mail': ['gregorythomas@gmail.com',\n",
              "  'hintoncynthia@hotmail.com',\n",
              "  'wwagner@gmail.com',\n",
              "  'daniel79@gmail.com',\n",
              "  'ujackson@gmail.com'],\n",
              " 'name': ['Brett Holland',\n",
              "  'Madison Martinez',\n",
              "  'Michael Jenkins',\n",
              "  'Karen Rodriguez',\n",
              "  'Amber Rhodes'],\n",
              " 'sex': ['M', 'F', 'M', 'F', 'F'],\n",
              " 'age': [73, 29, 51, 32, 42]}"
            ]
          },
          "metadata": {},
          "execution_count": 15
        }
      ]
    },
    {
      "cell_type": "code",
      "source": [],
      "metadata": {
        "id": "CYeOBn-vrNsu"
      },
      "execution_count": null,
      "outputs": []
    }
  ]
}