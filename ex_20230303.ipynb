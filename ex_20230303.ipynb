{
  "nbformat": 4,
  "nbformat_minor": 0,
  "metadata": {
    "colab": {
      "provenance": [],
      "authorship_tag": "ABX9TyMZgH4qfD92FuOoykYR98MP",
      "include_colab_link": true
    },
    "kernelspec": {
      "name": "python3",
      "display_name": "Python 3"
    },
    "language_info": {
      "name": "python"
    }
  },
  "cells": [
    {
      "cell_type": "markdown",
      "metadata": {
        "id": "view-in-github",
        "colab_type": "text"
      },
      "source": [
        "<a href=\"https://colab.research.google.com/github/aworklab/everydayPython/blob/main/ex_20230303.ipynb\" target=\"_parent\"><img src=\"https://colab.research.google.com/assets/colab-badge.svg\" alt=\"Open In Colab\"/></a>"
      ]
    },
    {
      "cell_type": "markdown",
      "source": [
        "# 오늘의 목표\n",
        "* Customer Analysis\n",
        "* Iterators"
      ],
      "metadata": {
        "id": "9PHKjjYlrfmI"
      }
    },
    {
      "cell_type": "code",
      "execution_count": 1,
      "metadata": {
        "id": "FKn0P-xhpgLy"
      },
      "outputs": [],
      "source": [
        "import pandas as pd\n",
        "import numpy as np\n",
        "import plotnine as gg\n",
        "from plotnine import ggplot, aes\n",
        "import matplotlib.pyplot as plt\n",
        "import seaborn as sns\n",
        "from datetime import datetime, date, time, timezone, timedelta \n",
        "import os\n",
        "import re\n",
        "from functools import reduce\n",
        "from collections import defaultdict\n",
        "from scipy import stats \n",
        "from scipy.stats import norm"
      ]
    },
    {
      "cell_type": "markdown",
      "source": [
        "# Customer Analysis"
      ],
      "metadata": {
        "id": "_XLV5XTvrf6j"
      }
    },
    {
      "cell_type": "code",
      "source": [
        "os.listdir()"
      ],
      "metadata": {
        "colab": {
          "base_uri": "https://localhost:8080/"
        },
        "id": "YxjOShwyrgJq",
        "outputId": "96bf2fbe-c447-494b-96b6-2fc6a7dbc34d"
      },
      "execution_count": 2,
      "outputs": [
        {
          "output_type": "execute_result",
          "data": {
            "text/plain": [
              "['.config',\n",
              " 'online_retail_II.xlsx',\n",
              " 'ab_experiment.csv',\n",
              " 'test.csv',\n",
              " 'sales_vs_discount.csv',\n",
              " '1_orders_dataset.csv',\n",
              " 'groceries.csv',\n",
              " 'match_result_test.csv',\n",
              " 'mock_sales_data.csv',\n",
              " 'app_wau.csv',\n",
              " '1_customers_dataset.csv',\n",
              " 'WA_Fn-UseC_-Marketing-Customer-Value-Analysis.csv',\n",
              " 'KPMG_VI_New_raw_data_update_final.csv',\n",
              " 'cookie_cats.csv',\n",
              " 'ecommerce-data.csv',\n",
              " 'sales_data_with_stores.csv',\n",
              " 'scanner_data.csv',\n",
              " 'sample-sales-data.csv',\n",
              " 'WA_Fn-UseC_-Telco-Customer-Churn.csv',\n",
              " '1_order_payments_dataset.csv',\n",
              " 'lead_conversion.csv',\n",
              " 'bz_data_analyis.csv',\n",
              " 'KPMG_VI_New_raw_data_update_final.xlsx',\n",
              " 'online_retail.xlsx',\n",
              " 'sales.csv',\n",
              " 'mall_customers.csv',\n",
              " 'sample_data']"
            ]
          },
          "metadata": {},
          "execution_count": 2
        }
      ]
    },
    {
      "cell_type": "code",
      "source": [
        "df = pd.read_csv('cookie_cats.csv')\n",
        "df.head()"
      ],
      "metadata": {
        "colab": {
          "base_uri": "https://localhost:8080/",
          "height": 206
        },
        "id": "fnIxUKR3tF42",
        "outputId": "d344d0c3-101c-4753-8126-83c8f66e05f1"
      },
      "execution_count": 3,
      "outputs": [
        {
          "output_type": "execute_result",
          "data": {
            "text/plain": [
              "   userid  version  sum_gamerounds  retention_1  retention_7\n",
              "0     116  gate_30               3        False        False\n",
              "1     337  gate_30              38         True        False\n",
              "2     377  gate_40             165         True        False\n",
              "3     483  gate_40               1        False        False\n",
              "4     488  gate_40             179         True         True"
            ],
            "text/html": [
              "\n",
              "  <div id=\"df-8c9746d4-af0e-4641-8256-fe7cc12031f8\">\n",
              "    <div class=\"colab-df-container\">\n",
              "      <div>\n",
              "<style scoped>\n",
              "    .dataframe tbody tr th:only-of-type {\n",
              "        vertical-align: middle;\n",
              "    }\n",
              "\n",
              "    .dataframe tbody tr th {\n",
              "        vertical-align: top;\n",
              "    }\n",
              "\n",
              "    .dataframe thead th {\n",
              "        text-align: right;\n",
              "    }\n",
              "</style>\n",
              "<table border=\"1\" class=\"dataframe\">\n",
              "  <thead>\n",
              "    <tr style=\"text-align: right;\">\n",
              "      <th></th>\n",
              "      <th>userid</th>\n",
              "      <th>version</th>\n",
              "      <th>sum_gamerounds</th>\n",
              "      <th>retention_1</th>\n",
              "      <th>retention_7</th>\n",
              "    </tr>\n",
              "  </thead>\n",
              "  <tbody>\n",
              "    <tr>\n",
              "      <th>0</th>\n",
              "      <td>116</td>\n",
              "      <td>gate_30</td>\n",
              "      <td>3</td>\n",
              "      <td>False</td>\n",
              "      <td>False</td>\n",
              "    </tr>\n",
              "    <tr>\n",
              "      <th>1</th>\n",
              "      <td>337</td>\n",
              "      <td>gate_30</td>\n",
              "      <td>38</td>\n",
              "      <td>True</td>\n",
              "      <td>False</td>\n",
              "    </tr>\n",
              "    <tr>\n",
              "      <th>2</th>\n",
              "      <td>377</td>\n",
              "      <td>gate_40</td>\n",
              "      <td>165</td>\n",
              "      <td>True</td>\n",
              "      <td>False</td>\n",
              "    </tr>\n",
              "    <tr>\n",
              "      <th>3</th>\n",
              "      <td>483</td>\n",
              "      <td>gate_40</td>\n",
              "      <td>1</td>\n",
              "      <td>False</td>\n",
              "      <td>False</td>\n",
              "    </tr>\n",
              "    <tr>\n",
              "      <th>4</th>\n",
              "      <td>488</td>\n",
              "      <td>gate_40</td>\n",
              "      <td>179</td>\n",
              "      <td>True</td>\n",
              "      <td>True</td>\n",
              "    </tr>\n",
              "  </tbody>\n",
              "</table>\n",
              "</div>\n",
              "      <button class=\"colab-df-convert\" onclick=\"convertToInteractive('df-8c9746d4-af0e-4641-8256-fe7cc12031f8')\"\n",
              "              title=\"Convert this dataframe to an interactive table.\"\n",
              "              style=\"display:none;\">\n",
              "        \n",
              "  <svg xmlns=\"http://www.w3.org/2000/svg\" height=\"24px\"viewBox=\"0 0 24 24\"\n",
              "       width=\"24px\">\n",
              "    <path d=\"M0 0h24v24H0V0z\" fill=\"none\"/>\n",
              "    <path d=\"M18.56 5.44l.94 2.06.94-2.06 2.06-.94-2.06-.94-.94-2.06-.94 2.06-2.06.94zm-11 1L8.5 8.5l.94-2.06 2.06-.94-2.06-.94L8.5 2.5l-.94 2.06-2.06.94zm10 10l.94 2.06.94-2.06 2.06-.94-2.06-.94-.94-2.06-.94 2.06-2.06.94z\"/><path d=\"M17.41 7.96l-1.37-1.37c-.4-.4-.92-.59-1.43-.59-.52 0-1.04.2-1.43.59L10.3 9.45l-7.72 7.72c-.78.78-.78 2.05 0 2.83L4 21.41c.39.39.9.59 1.41.59.51 0 1.02-.2 1.41-.59l7.78-7.78 2.81-2.81c.8-.78.8-2.07 0-2.86zM5.41 20L4 18.59l7.72-7.72 1.47 1.35L5.41 20z\"/>\n",
              "  </svg>\n",
              "      </button>\n",
              "      \n",
              "  <style>\n",
              "    .colab-df-container {\n",
              "      display:flex;\n",
              "      flex-wrap:wrap;\n",
              "      gap: 12px;\n",
              "    }\n",
              "\n",
              "    .colab-df-convert {\n",
              "      background-color: #E8F0FE;\n",
              "      border: none;\n",
              "      border-radius: 50%;\n",
              "      cursor: pointer;\n",
              "      display: none;\n",
              "      fill: #1967D2;\n",
              "      height: 32px;\n",
              "      padding: 0 0 0 0;\n",
              "      width: 32px;\n",
              "    }\n",
              "\n",
              "    .colab-df-convert:hover {\n",
              "      background-color: #E2EBFA;\n",
              "      box-shadow: 0px 1px 2px rgba(60, 64, 67, 0.3), 0px 1px 3px 1px rgba(60, 64, 67, 0.15);\n",
              "      fill: #174EA6;\n",
              "    }\n",
              "\n",
              "    [theme=dark] .colab-df-convert {\n",
              "      background-color: #3B4455;\n",
              "      fill: #D2E3FC;\n",
              "    }\n",
              "\n",
              "    [theme=dark] .colab-df-convert:hover {\n",
              "      background-color: #434B5C;\n",
              "      box-shadow: 0px 1px 3px 1px rgba(0, 0, 0, 0.15);\n",
              "      filter: drop-shadow(0px 1px 2px rgba(0, 0, 0, 0.3));\n",
              "      fill: #FFFFFF;\n",
              "    }\n",
              "  </style>\n",
              "\n",
              "      <script>\n",
              "        const buttonEl =\n",
              "          document.querySelector('#df-8c9746d4-af0e-4641-8256-fe7cc12031f8 button.colab-df-convert');\n",
              "        buttonEl.style.display =\n",
              "          google.colab.kernel.accessAllowed ? 'block' : 'none';\n",
              "\n",
              "        async function convertToInteractive(key) {\n",
              "          const element = document.querySelector('#df-8c9746d4-af0e-4641-8256-fe7cc12031f8');\n",
              "          const dataTable =\n",
              "            await google.colab.kernel.invokeFunction('convertToInteractive',\n",
              "                                                     [key], {});\n",
              "          if (!dataTable) return;\n",
              "\n",
              "          const docLinkHtml = 'Like what you see? Visit the ' +\n",
              "            '<a target=\"_blank\" href=https://colab.research.google.com/notebooks/data_table.ipynb>data table notebook</a>'\n",
              "            + ' to learn more about interactive tables.';\n",
              "          element.innerHTML = '';\n",
              "          dataTable['output_type'] = 'display_data';\n",
              "          await google.colab.output.renderOutput(dataTable, element);\n",
              "          const docLink = document.createElement('div');\n",
              "          docLink.innerHTML = docLinkHtml;\n",
              "          element.appendChild(docLink);\n",
              "        }\n",
              "      </script>\n",
              "    </div>\n",
              "  </div>\n",
              "  "
            ]
          },
          "metadata": {},
          "execution_count": 3
        }
      ]
    },
    {
      "cell_type": "code",
      "source": [
        "cnt = pd.melt(df, id_vars = ['userid','version','sum_gamerounds'], var_name = 'retention', value_name = 'result')\n",
        "cnt = cnt.groupby(['version','retention', 'result'])['userid'].count().reset_index(name = 'cnt')\n",
        "cnt = cnt[cnt['result'] == True]\n",
        "cnt"
      ],
      "metadata": {
        "colab": {
          "base_uri": "https://localhost:8080/",
          "height": 174
        },
        "id": "JCAfFmaGtH-0",
        "outputId": "86093045-c3f8-4cee-9193-a7a845d13a5a"
      },
      "execution_count": 4,
      "outputs": [
        {
          "output_type": "execute_result",
          "data": {
            "text/plain": [
              "   version    retention  result    cnt\n",
              "1  gate_30  retention_1    True  20034\n",
              "3  gate_30  retention_7    True   8502\n",
              "5  gate_40  retention_1    True  20119\n",
              "7  gate_40  retention_7    True   8279"
            ],
            "text/html": [
              "\n",
              "  <div id=\"df-d019ccbc-b1ac-4f29-87e6-c58813504984\">\n",
              "    <div class=\"colab-df-container\">\n",
              "      <div>\n",
              "<style scoped>\n",
              "    .dataframe tbody tr th:only-of-type {\n",
              "        vertical-align: middle;\n",
              "    }\n",
              "\n",
              "    .dataframe tbody tr th {\n",
              "        vertical-align: top;\n",
              "    }\n",
              "\n",
              "    .dataframe thead th {\n",
              "        text-align: right;\n",
              "    }\n",
              "</style>\n",
              "<table border=\"1\" class=\"dataframe\">\n",
              "  <thead>\n",
              "    <tr style=\"text-align: right;\">\n",
              "      <th></th>\n",
              "      <th>version</th>\n",
              "      <th>retention</th>\n",
              "      <th>result</th>\n",
              "      <th>cnt</th>\n",
              "    </tr>\n",
              "  </thead>\n",
              "  <tbody>\n",
              "    <tr>\n",
              "      <th>1</th>\n",
              "      <td>gate_30</td>\n",
              "      <td>retention_1</td>\n",
              "      <td>True</td>\n",
              "      <td>20034</td>\n",
              "    </tr>\n",
              "    <tr>\n",
              "      <th>3</th>\n",
              "      <td>gate_30</td>\n",
              "      <td>retention_7</td>\n",
              "      <td>True</td>\n",
              "      <td>8502</td>\n",
              "    </tr>\n",
              "    <tr>\n",
              "      <th>5</th>\n",
              "      <td>gate_40</td>\n",
              "      <td>retention_1</td>\n",
              "      <td>True</td>\n",
              "      <td>20119</td>\n",
              "    </tr>\n",
              "    <tr>\n",
              "      <th>7</th>\n",
              "      <td>gate_40</td>\n",
              "      <td>retention_7</td>\n",
              "      <td>True</td>\n",
              "      <td>8279</td>\n",
              "    </tr>\n",
              "  </tbody>\n",
              "</table>\n",
              "</div>\n",
              "      <button class=\"colab-df-convert\" onclick=\"convertToInteractive('df-d019ccbc-b1ac-4f29-87e6-c58813504984')\"\n",
              "              title=\"Convert this dataframe to an interactive table.\"\n",
              "              style=\"display:none;\">\n",
              "        \n",
              "  <svg xmlns=\"http://www.w3.org/2000/svg\" height=\"24px\"viewBox=\"0 0 24 24\"\n",
              "       width=\"24px\">\n",
              "    <path d=\"M0 0h24v24H0V0z\" fill=\"none\"/>\n",
              "    <path d=\"M18.56 5.44l.94 2.06.94-2.06 2.06-.94-2.06-.94-.94-2.06-.94 2.06-2.06.94zm-11 1L8.5 8.5l.94-2.06 2.06-.94-2.06-.94L8.5 2.5l-.94 2.06-2.06.94zm10 10l.94 2.06.94-2.06 2.06-.94-2.06-.94-.94-2.06-.94 2.06-2.06.94z\"/><path d=\"M17.41 7.96l-1.37-1.37c-.4-.4-.92-.59-1.43-.59-.52 0-1.04.2-1.43.59L10.3 9.45l-7.72 7.72c-.78.78-.78 2.05 0 2.83L4 21.41c.39.39.9.59 1.41.59.51 0 1.02-.2 1.41-.59l7.78-7.78 2.81-2.81c.8-.78.8-2.07 0-2.86zM5.41 20L4 18.59l7.72-7.72 1.47 1.35L5.41 20z\"/>\n",
              "  </svg>\n",
              "      </button>\n",
              "      \n",
              "  <style>\n",
              "    .colab-df-container {\n",
              "      display:flex;\n",
              "      flex-wrap:wrap;\n",
              "      gap: 12px;\n",
              "    }\n",
              "\n",
              "    .colab-df-convert {\n",
              "      background-color: #E8F0FE;\n",
              "      border: none;\n",
              "      border-radius: 50%;\n",
              "      cursor: pointer;\n",
              "      display: none;\n",
              "      fill: #1967D2;\n",
              "      height: 32px;\n",
              "      padding: 0 0 0 0;\n",
              "      width: 32px;\n",
              "    }\n",
              "\n",
              "    .colab-df-convert:hover {\n",
              "      background-color: #E2EBFA;\n",
              "      box-shadow: 0px 1px 2px rgba(60, 64, 67, 0.3), 0px 1px 3px 1px rgba(60, 64, 67, 0.15);\n",
              "      fill: #174EA6;\n",
              "    }\n",
              "\n",
              "    [theme=dark] .colab-df-convert {\n",
              "      background-color: #3B4455;\n",
              "      fill: #D2E3FC;\n",
              "    }\n",
              "\n",
              "    [theme=dark] .colab-df-convert:hover {\n",
              "      background-color: #434B5C;\n",
              "      box-shadow: 0px 1px 3px 1px rgba(0, 0, 0, 0.15);\n",
              "      filter: drop-shadow(0px 1px 2px rgba(0, 0, 0, 0.3));\n",
              "      fill: #FFFFFF;\n",
              "    }\n",
              "  </style>\n",
              "\n",
              "      <script>\n",
              "        const buttonEl =\n",
              "          document.querySelector('#df-d019ccbc-b1ac-4f29-87e6-c58813504984 button.colab-df-convert');\n",
              "        buttonEl.style.display =\n",
              "          google.colab.kernel.accessAllowed ? 'block' : 'none';\n",
              "\n",
              "        async function convertToInteractive(key) {\n",
              "          const element = document.querySelector('#df-d019ccbc-b1ac-4f29-87e6-c58813504984');\n",
              "          const dataTable =\n",
              "            await google.colab.kernel.invokeFunction('convertToInteractive',\n",
              "                                                     [key], {});\n",
              "          if (!dataTable) return;\n",
              "\n",
              "          const docLinkHtml = 'Like what you see? Visit the ' +\n",
              "            '<a target=\"_blank\" href=https://colab.research.google.com/notebooks/data_table.ipynb>data table notebook</a>'\n",
              "            + ' to learn more about interactive tables.';\n",
              "          element.innerHTML = '';\n",
              "          dataTable['output_type'] = 'display_data';\n",
              "          await google.colab.output.renderOutput(dataTable, element);\n",
              "          const docLink = document.createElement('div');\n",
              "          docLink.innerHTML = docLinkHtml;\n",
              "          element.appendChild(docLink);\n",
              "        }\n",
              "      </script>\n",
              "    </div>\n",
              "  </div>\n",
              "  "
            ]
          },
          "metadata": {},
          "execution_count": 4
        }
      ]
    },
    {
      "cell_type": "code",
      "source": [
        "sns.set(rc = {'figure.figsize':[12,6]})\n",
        "sns.barplot(data = cnt, x = 'retention', y = 'cnt', hue = 'version')\n",
        "plt.show()"
      ],
      "metadata": {
        "colab": {
          "base_uri": "https://localhost:8080/",
          "height": 394
        },
        "id": "41IlRvlutg2n",
        "outputId": "3c5f1cea-9ab0-4ccb-d77b-53cbcdf1e6c0"
      },
      "execution_count": 5,
      "outputs": [
        {
          "output_type": "display_data",
          "data": {
            "text/plain": [
              "<Figure size 864x432 with 1 Axes>"
            ],
            "image/png": "[encoded data removed]"
          },
          "metadata": {}
        }
      ]
    },
    {
      "cell_type": "code",
      "source": [
        "sns.set(rc = {'figure.figsize':[12,6]})\n",
        "ax = sns.boxplot(data = df, x = 'sum_gamerounds', y = 'version')\n",
        "ax.set_xscale('log')\n",
        "plt.show()"
      ],
      "metadata": {
        "colab": {
          "base_uri": "https://localhost:8080/",
          "height": 400
        },
        "id": "F3snv7wqttjd",
        "outputId": "a950909e-b64b-4677-d8da-27b8e1b7845d"
      },
      "execution_count": 6,
      "outputs": [
        {
          "output_type": "display_data",
          "data": {
            "text/plain": [
              "<Figure size 864x432 with 1 Axes>"
            ],
            "image/png": "[encoded data removed]"
          },
          "metadata": {}
        }
      ]
    },
    {
      "cell_type": "code",
      "source": [
        "df = df[df['sum_gamerounds'] <= 10000]"
      ],
      "metadata": {
        "id": "lfsa-tU0t2xI"
      },
      "execution_count": 7,
      "outputs": []
    },
    {
      "cell_type": "code",
      "source": [
        "sns.set(rc = {'figure.figsize':[12,6]})\n",
        "ax = sns.boxplot(data = df, x = 'sum_gamerounds', y = 'version')\n",
        "ax.set_xscale('log')\n",
        "plt.show()"
      ],
      "metadata": {
        "colab": {
          "base_uri": "https://localhost:8080/",
          "height": 400
        },
        "id": "nyogcSTIt5Rl",
        "outputId": "a67970a0-f84e-420d-cb1c-3a5987148ae2"
      },
      "execution_count": 8,
      "outputs": [
        {
          "output_type": "display_data",
          "data": {
            "text/plain": [
              "<Figure size 864x432 with 1 Axes>"
            ],
            "image/png": "[encoded data removed]"
          },
          "metadata": {}
        }
      ]
    },
    {
      "cell_type": "code",
      "source": [
        "stats.probplot(df['sum_gamerounds'], dist = 'norm', plot = plt)\n",
        "plt.show()"
      ],
      "metadata": {
        "colab": {
          "base_uri": "https://localhost:8080/",
          "height": 410
        },
        "id": "U_srVbg1t6Fe",
        "outputId": "2c37597b-2d29-438a-ff0f-d9cd752ec480"
      },
      "execution_count": 10,
      "outputs": [
        {
          "output_type": "display_data",
          "data": {
            "text/plain": [
              "<Figure size 864x432 with 1 Axes>"
            ],
            "image/png": "[encoded data removed]"
          },
          "metadata": {}
        }
      ]
    },
    {
      "cell_type": "code",
      "source": [
        "stat, p = stats.chisquare(df['sum_gamerounds'])\n",
        "print(f'{round(stat,2)}\\t{round(p,2)}')"
      ],
      "metadata": {
        "colab": {
          "base_uri": "https://localhost:8080/"
        },
        "id": "Yy24wCKhuXxr",
        "outputId": "97bd5171-6970-4dc7-f793-7d52c883ff75"
      },
      "execution_count": 11,
      "outputs": [
        {
          "output_type": "stream",
          "name": "stdout",
          "text": [
            "18528909.99\t0.0\n"
          ]
        }
      ]
    },
    {
      "cell_type": "code",
      "source": [
        "res = stats.anderson(df['sum_gamerounds'])\n",
        "res2 = zip(res.critical_values, res.significance_level)"
      ],
      "metadata": {
        "id": "qXDiHrZ5umRj"
      },
      "execution_count": 12,
      "outputs": []
    },
    {
      "cell_type": "code",
      "source": [
        "[f'probably Gaussian : Critical value is {crit}, Significance level is {sig}'\n",
        " if crit > sig\n",
        " else f'probably not Gaussian : Critical value is {crit}, Significance level is {sig}'\n",
        " for crit, sig in res2\n",
        "]"
      ],
      "metadata": {
        "colab": {
          "base_uri": "https://localhost:8080/"
        },
        "id": "8Wq_525huufI",
        "outputId": "16a9b108-7503-461c-b7cf-f6c3dda6b31f"
      },
      "execution_count": 13,
      "outputs": [
        {
          "output_type": "execute_result",
          "data": {
            "text/plain": [
              "['probably not Gaussian : Critical value is 0.576, Significance level is 15.0',\n",
              " 'probably not Gaussian : Critical value is 0.656, Significance level is 10.0',\n",
              " 'probably not Gaussian : Critical value is 0.787, Significance level is 5.0',\n",
              " 'probably not Gaussian : Critical value is 0.918, Significance level is 2.5',\n",
              " 'probably Gaussian : Critical value is 1.092, Significance level is 1.0']"
            ]
          },
          "metadata": {},
          "execution_count": 13
        }
      ]
    },
    {
      "cell_type": "code",
      "source": [
        "n = 1000\n",
        "boots = pd.DataFrame(\n",
        "    [df.sample(frac = .1, replace = True).groupby(['version'])['sum_gamerounds'].mean() for i in range(n)]\n",
        ")\n",
        "boots.head()"
      ],
      "metadata": {
        "colab": {
          "base_uri": "https://localhost:8080/",
          "height": 206
        },
        "id": "ftrrMlWwu9JM",
        "outputId": "de69343d-d8a4-4ad5-9bfd-482d959a9912"
      },
      "execution_count": 15,
      "outputs": [
        {
          "output_type": "execute_result",
          "data": {
            "text/plain": [
              "version           gate_30    gate_40\n",
              "sum_gamerounds  49.063606  51.089811\n",
              "sum_gamerounds  52.786161  49.704560\n",
              "sum_gamerounds  51.225343  50.261165\n",
              "sum_gamerounds  51.703422  49.191293\n",
              "sum_gamerounds  53.296246  47.503720"
            ],
            "text/html": [
              "\n",
              "  <div id=\"df-8779886b-7dae-41ff-b461-90d22c1aae71\">\n",
              "    <div class=\"colab-df-container\">\n",
              "      <div>\n",
              "<style scoped>\n",
              "    .dataframe tbody tr th:only-of-type {\n",
              "        vertical-align: middle;\n",
              "    }\n",
              "\n",
              "    .dataframe tbody tr th {\n",
              "        vertical-align: top;\n",
              "    }\n",
              "\n",
              "    .dataframe thead th {\n",
              "        text-align: right;\n",
              "    }\n",
              "</style>\n",
              "<table border=\"1\" class=\"dataframe\">\n",
              "  <thead>\n",
              "    <tr style=\"text-align: right;\">\n",
              "      <th>version</th>\n",
              "      <th>gate_30</th>\n",
              "      <th>gate_40</th>\n",
              "    </tr>\n",
              "  </thead>\n",
              "  <tbody>\n",
              "    <tr>\n",
              "      <th>sum_gamerounds</th>\n",
              "      <td>49.063606</td>\n",
              "      <td>51.089811</td>\n",
              "    </tr>\n",
              "    <tr>\n",
              "      <th>sum_gamerounds</th>\n",
              "      <td>52.786161</td>\n",
              "      <td>49.704560</td>\n",
              "    </tr>\n",
              "    <tr>\n",
              "      <th>sum_gamerounds</th>\n",
              "      <td>51.225343</td>\n",
              "      <td>50.261165</td>\n",
              "    </tr>\n",
              "    <tr>\n",
              "      <th>sum_gamerounds</th>\n",
              "      <td>51.703422</td>\n",
              "      <td>49.191293</td>\n",
              "    </tr>\n",
              "    <tr>\n",
              "      <th>sum_gamerounds</th>\n",
              "      <td>53.296246</td>\n",
              "      <td>47.503720</td>\n",
              "    </tr>\n",
              "  </tbody>\n",
              "</table>\n",
              "</div>\n",
              "      <button class=\"colab-df-convert\" onclick=\"convertToInteractive('df-8779886b-7dae-41ff-b461-90d22c1aae71')\"\n",
              "              title=\"Convert this dataframe to an interactive table.\"\n",
              "              style=\"display:none;\">\n",
              "        \n",
              "  <svg xmlns=\"http://www.w3.org/2000/svg\" height=\"24px\"viewBox=\"0 0 24 24\"\n",
              "       width=\"24px\">\n",
              "    <path d=\"M0 0h24v24H0V0z\" fill=\"none\"/>\n",
              "    <path d=\"M18.56 5.44l.94 2.06.94-2.06 2.06-.94-2.06-.94-.94-2.06-.94 2.06-2.06.94zm-11 1L8.5 8.5l.94-2.06 2.06-.94-2.06-.94L8.5 2.5l-.94 2.06-2.06.94zm10 10l.94 2.06.94-2.06 2.06-.94-2.06-.94-.94-2.06-.94 2.06-2.06.94z\"/><path d=\"M17.41 7.96l-1.37-1.37c-.4-.4-.92-.59-1.43-.59-.52 0-1.04.2-1.43.59L10.3 9.45l-7.72 7.72c-.78.78-.78 2.05 0 2.83L4 21.41c.39.39.9.59 1.41.59.51 0 1.02-.2 1.41-.59l7.78-7.78 2.81-2.81c.8-.78.8-2.07 0-2.86zM5.41 20L4 18.59l7.72-7.72 1.47 1.35L5.41 20z\"/>\n",
              "  </svg>\n",
              "      </button>\n",
              "      \n",
              "  <style>\n",
              "    .colab-df-container {\n",
              "      display:flex;\n",
              "      flex-wrap:wrap;\n",
              "      gap: 12px;\n",
              "    }\n",
              "\n",
              "    .colab-df-convert {\n",
              "      background-color: #E8F0FE;\n",
              "      border: none;\n",
              "      border-radius: 50%;\n",
              "      cursor: pointer;\n",
              "      display: none;\n",
              "      fill: #1967D2;\n",
              "      height: 32px;\n",
              "      padding: 0 0 0 0;\n",
              "      width: 32px;\n",
              "    }\n",
              "\n",
              "    .colab-df-convert:hover {\n",
              "      background-color: #E2EBFA;\n",
              "      box-shadow: 0px 1px 2px rgba(60, 64, 67, 0.3), 0px 1px 3px 1px rgba(60, 64, 67, 0.15);\n",
              "      fill: #174EA6;\n",
              "    }\n",
              "\n",
              "    [theme=dark] .colab-df-convert {\n",
              "      background-color: #3B4455;\n",
              "      fill: #D2E3FC;\n",
              "    }\n",
              "\n",
              "    [theme=dark] .colab-df-convert:hover {\n",
              "      background-color: #434B5C;\n",
              "      box-shadow: 0px 1px 3px 1px rgba(0, 0, 0, 0.15);\n",
              "      filter: drop-shadow(0px 1px 2px rgba(0, 0, 0, 0.3));\n",
              "      fill: #FFFFFF;\n",
              "    }\n",
              "  </style>\n",
              "\n",
              "      <script>\n",
              "        const buttonEl =\n",
              "          document.querySelector('#df-8779886b-7dae-41ff-b461-90d22c1aae71 button.colab-df-convert');\n",
              "        buttonEl.style.display =\n",
              "          google.colab.kernel.accessAllowed ? 'block' : 'none';\n",
              "\n",
              "        async function convertToInteractive(key) {\n",
              "          const element = document.querySelector('#df-8779886b-7dae-41ff-b461-90d22c1aae71');\n",
              "          const dataTable =\n",
              "            await google.colab.kernel.invokeFunction('convertToInteractive',\n",
              "                                                     [key], {});\n",
              "          if (!dataTable) return;\n",
              "\n",
              "          const docLinkHtml = 'Like what you see? Visit the ' +\n",
              "            '<a target=\"_blank\" href=https://colab.research.google.com/notebooks/data_table.ipynb>data table notebook</a>'\n",
              "            + ' to learn more about interactive tables.';\n",
              "          element.innerHTML = '';\n",
              "          dataTable['output_type'] = 'display_data';\n",
              "          await google.colab.output.renderOutput(dataTable, element);\n",
              "          const docLink = document.createElement('div');\n",
              "          docLink.innerHTML = docLinkHtml;\n",
              "          element.appendChild(docLink);\n",
              "        }\n",
              "      </script>\n",
              "    </div>\n",
              "  </div>\n",
              "  "
            ]
          },
          "metadata": {},
          "execution_count": 15
        }
      ]
    },
    {
      "cell_type": "code",
      "source": [
        "boots.plot.kde()"
      ],
      "metadata": {
        "colab": {
          "base_uri": "https://localhost:8080/",
          "height": 396
        },
        "id": "VycyN0v9vNV6",
        "outputId": "b3572675-571b-46cd-8fb2-a79d361e7d2d"
      },
      "execution_count": 16,
      "outputs": [
        {
          "output_type": "execute_result",
          "data": {
            "text/plain": [
              "<AxesSubplot:ylabel='Density'>"
            ]
          },
          "metadata": {},
          "execution_count": 16
        },
        {
          "output_type": "display_data",
          "data": {
            "text/plain": [
              "<Figure size 864x432 with 1 Axes>"
            ],
            "image/png": "[encoded data removed]"
          },
          "metadata": {}
        }
      ]
    },
    {
      "cell_type": "code",
      "source": [
        "diff = boots['gate_30'] - boots['gate_40']\n",
        "len(diff[diff > 0])/n"
      ],
      "metadata": {
        "colab": {
          "base_uri": "https://localhost:8080/"
        },
        "id": "cuT86S_-vR1B",
        "outputId": "0b5d9122-6535-4272-fc32-6c6ef7e433e5"
      },
      "execution_count": 17,
      "outputs": [
        {
          "output_type": "execute_result",
          "data": {
            "text/plain": [
              "0.513"
            ]
          },
          "metadata": {},
          "execution_count": 17
        }
      ]
    },
    {
      "cell_type": "code",
      "source": [
        "z_mean = np.mean(boots['gate_30']) - np.mean(boots['gate_40'])\n",
        "z_sigma = np.sqrt(\n",
        "    np.var(boots['gate_30'])/n + np.var(boots['gate_40'])/n\n",
        ")\n",
        "alpha = .05\n",
        "ci_diff = [z_mean - norm.ppf(1 - alpha/2) * z_sigma, z_mean + norm.ppf(1 - alpha/2) * z_sigma]"
      ],
      "metadata": {
        "id": "a-_-swuPvVr1"
      },
      "execution_count": 18,
      "outputs": []
    },
    {
      "cell_type": "code",
      "source": [
        "print(f'Z MEAN : {z_mean}\\nZ SIGMA : {z_sigma}\\nCI DIFF : {ci_diff[0]} {ci_diff[1]}')"
      ],
      "metadata": {
        "colab": {
          "base_uri": "https://localhost:8080/"
        },
        "id": "Jfo4wsXavl_g",
        "outputId": "373f1253-5d92-4ed8-d550-170a0e64c2c7"
      },
      "execution_count": 19,
      "outputs": [
        {
          "output_type": "stream",
          "name": "stdout",
          "text": [
            "Z MEAN : 0.08754701410642696\n",
            "Z SIGMA : 0.06705725657729926\n",
            "CI DIFF : -0.043882793687141236 0.21897682189999515\n"
          ]
        }
      ]
    },
    {
      "cell_type": "code",
      "source": [
        "plt.hist(diff, bins = 35, color = 'purple')\n",
        "plt.xlabel('difference of bootstrapped game rounds')\n",
        "plt.show()"
      ],
      "metadata": {
        "colab": {
          "base_uri": "https://localhost:8080/",
          "height": 394
        },
        "id": "_6XGTyqKvtkS",
        "outputId": "828968bd-594a-4589-ef7b-860cba631b3d"
      },
      "execution_count": 21,
      "outputs": [
        {
          "output_type": "display_data",
          "data": {
            "text/plain": [
              "<Figure size 864x432 with 1 Axes>"
            ],
            "image/png": "[encoded data removed]"
          },
          "metadata": {}
        }
      ]
    },
    {
      "cell_type": "code",
      "source": [
        "ret_1 = pd.crosstab(df['version'], df['retention_1'])\n",
        "ret_7 = pd.crosstab(df['version'], df['retention_7'])"
      ],
      "metadata": {
        "id": "eTLp5Q8Wv8US"
      },
      "execution_count": 23,
      "outputs": []
    },
    {
      "cell_type": "code",
      "source": [
        "print(ret_1)\n",
        "print('-' * 20)\n",
        "print(ret_7)"
      ],
      "metadata": {
        "colab": {
          "base_uri": "https://localhost:8080/"
        },
        "id": "WHrsvX8PwQ7r",
        "outputId": "76224360-f598-4b95-b7c2-9fe8c732080f"
      },
      "execution_count": 25,
      "outputs": [
        {
          "output_type": "stream",
          "name": "stdout",
          "text": [
            "retention_1  False   True\n",
            "version                  \n",
            "gate_30      24665  20034\n",
            "gate_40      25370  20119\n",
            "--------------------\n",
            "retention_7  False  True\n",
            "version                 \n",
            "gate_30      36198  8501\n",
            "gate_40      37210  8279\n"
          ]
        }
      ]
    },
    {
      "cell_type": "code",
      "source": [
        "def get_chi2(data) :\n",
        "  chi2, p, dof, ex = stats.chi2_contingency(data)\n",
        "  alpha = .05\n",
        "  res1 = f'P{p} > Alpha {alpha}' if p > alpha else f'P{p} < Alpha {alpha}'\n",
        "  res2 = f'Not enough evidence to reject H0' if p > alpha else 'two groups are different'\n",
        "  print(res1)\n",
        "  print(res2)\n",
        "  print(f'Chi2 : {round(chi2,2)}, P : {round(p,2)}, DoF : {round(dof,2)}\\nEX : {ex}')"
      ],
      "metadata": {
        "id": "z0-JDGN2wOW0"
      },
      "execution_count": 30,
      "outputs": []
    },
    {
      "cell_type": "code",
      "source": [
        "get_chi2(ret_1)"
      ],
      "metadata": {
        "colab": {
          "base_uri": "https://localhost:8080/"
        },
        "id": "j-oQpZqQw7Hw",
        "outputId": "f7973e27-903f-4d56-c4c8-95219ae39533"
      },
      "execution_count": 31,
      "outputs": [
        {
          "output_type": "stream",
          "name": "stdout",
          "text": [
            "P0.07500999897705693 > Alpha 0.05\n",
            "Not enough evidence to reject H0\n",
            "Chi2 : 3.17, P : 0.08, DoF : 1\n",
            "EX : [[24798.35970417 19900.64029583]\n",
            " [25236.64029583 20252.35970417]]\n"
          ]
        }
      ]
    },
    {
      "cell_type": "code",
      "source": [
        "get_chi2(ret_7)"
      ],
      "metadata": {
        "colab": {
          "base_uri": "https://localhost:8080/"
        },
        "id": "u_IMHF76w9n9",
        "outputId": "4810dcc8-4331-4c0d-f51b-cef7291545d0"
      },
      "execution_count": 32,
      "outputs": [
        {
          "output_type": "stream",
          "name": "stdout",
          "text": [
            "P0.0016391259678654425 < Alpha 0.05\n",
            "two groups are different\n",
            "Chi2 : 9.92, P : 0.0, DoF : 1\n",
            "EX : [[36382.49203885  8316.50796115]\n",
            " [37025.50796115  8463.49203885]]\n"
          ]
        }
      ]
    },
    {
      "cell_type": "markdown",
      "source": [
        "# Iterators"
      ],
      "metadata": {
        "id": "TrCg5XDBrgVM"
      }
    },
    {
      "cell_type": "code",
      "source": [
        "users = [{'mail': 'gregorythomas@gmail.com', 'name': 'Brett Holland', 'sex': 'M', 'age': 73},\n",
        " {'mail': 'hintoncynthia@hotmail.com', 'name': 'Madison Martinez', 'sex': 'F', 'age': 29},\n",
        " {'mail': 'wwagner@gmail.com', 'name': 'Michael Jenkins', 'sex': 'M', 'age': 51},\n",
        " {'mail': 'daniel79@gmail.com', 'name': 'Karen Rodriguez', 'sex': 'F', 'age': 32},\n",
        " {'mail': 'ujackson@gmail.com', 'name': 'Amber Rhodes', 'sex': 'F', 'age': 42}]\n",
        "users"
      ],
      "metadata": {
        "colab": {
          "base_uri": "https://localhost:8080/"
        },
        "id": "Nb7tLtTtrgt2",
        "outputId": "38d9c642-6fc8-4ecf-856f-64580bca9ff0"
      },
      "execution_count": 33,
      "outputs": [
        {
          "output_type": "execute_result",
          "data": {
            "text/plain": [
              "[{'mail': 'gregorythomas@gmail.com',\n",
              "  'name': 'Brett Holland',\n",
              "  'sex': 'M',\n",
              "  'age': 73},\n",
              " {'mail': 'hintoncynthia@hotmail.com',\n",
              "  'name': 'Madison Martinez',\n",
              "  'sex': 'F',\n",
              "  'age': 29},\n",
              " {'mail': 'wwagner@gmail.com',\n",
              "  'name': 'Michael Jenkins',\n",
              "  'sex': 'M',\n",
              "  'age': 51},\n",
              " {'mail': 'daniel79@gmail.com',\n",
              "  'name': 'Karen Rodriguez',\n",
              "  'sex': 'F',\n",
              "  'age': 32},\n",
              " {'mail': 'ujackson@gmail.com', 'name': 'Amber Rhodes', 'sex': 'F', 'age': 42}]"
            ]
          },
          "metadata": {},
          "execution_count": 33
        }
      ]
    },
    {
      "cell_type": "code",
      "source": [
        "{k : eval(f'reduce(lambda acc, cur : acc + [cur[\"{k}\"]], users, [])') for k in list(users[0].keys())}"
      ],
      "metadata": {
        "colab": {
          "base_uri": "https://localhost:8080/"
        },
        "id": "2VV0brZHxI1e",
        "outputId": "86d3d8e0-6517-4376-fb21-698f5c870657"
      },
      "execution_count": 34,
      "outputs": [
        {
          "output_type": "execute_result",
          "data": {
            "text/plain": [
              "{'mail': ['gregorythomas@gmail.com',\n",
              "  'hintoncynthia@hotmail.com',\n",
              "  'wwagner@gmail.com',\n",
              "  'daniel79@gmail.com',\n",
              "  'ujackson@gmail.com'],\n",
              " 'name': ['Brett Holland',\n",
              "  'Madison Martinez',\n",
              "  'Michael Jenkins',\n",
              "  'Karen Rodriguez',\n",
              "  'Amber Rhodes'],\n",
              " 'sex': ['M', 'F', 'M', 'F', 'F'],\n",
              " 'age': [73, 29, 51, 32, 42]}"
            ]
          },
          "metadata": {},
          "execution_count": 34
        }
      ]
    },
    {
      "cell_type": "code",
      "source": [],
      "metadata": {
        "id": "czGut-poxQFN"
      },
      "execution_count": null,
      "outputs": []
    }
  ]
}