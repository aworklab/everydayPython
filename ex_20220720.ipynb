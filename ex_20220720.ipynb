{
  "nbformat": 4,
  "nbformat_minor": 0,
  "metadata": {
    "colab": {
      "name": "ex_20220720.ipynb",
      "provenance": [],
      "authorship_tag": "ABX9TyOcUUp9mp21C198XURkV0e6",
      "include_colab_link": true
    },
    "kernelspec": {
      "name": "python3",
      "display_name": "Python 3"
    },
    "language_info": {
      "name": "python"
    }
  },
  "cells": [
    {
      "cell_type": "markdown",
      "metadata": {
        "id": "view-in-github",
        "colab_type": "text"
      },
      "source": [
        "<a href=\"https://colab.research.google.com/github/aworklab/everydayPython/blob/main/ex_20220720.ipynb\" target=\"_parent\"><img src=\"https://colab.research.google.com/assets/colab-badge.svg\" alt=\"Open In Colab\"/></a>"
      ]
    },
    {
      "cell_type": "markdown",
      "source": [
        "# 오늘의 목표 \n",
        "\n",
        "* iterator"
      ],
      "metadata": {
        "id": "-LByEw9oxb4P"
      }
    },
    {
      "cell_type": "code",
      "execution_count": 3,
      "metadata": {
        "id": "D6LUnUjaw6i4"
      },
      "outputs": [],
      "source": [
        "import pandas as pd \n",
        "import numpy as np\n",
        "import seaborn as sns\n",
        "from datetime import datetime, date, time, timezone, timedelta\n",
        "import os \n",
        "from functools import reduce\n",
        "from collections import namedtuple, defaultdict, ChainMap, Counter"
      ]
    },
    {
      "cell_type": "markdown",
      "source": [
        "# iterator"
      ],
      "metadata": {
        "id": "toMc3ea3xcE0"
      }
    },
    {
      "cell_type": "code",
      "source": [
        "mat = [list('ABC'), list('EFG'), list('HIJ')]\n",
        "mat"
      ],
      "metadata": {
        "colab": {
          "base_uri": "https://localhost:8080/"
        },
        "id": "uOMcAnVTxcR3",
        "outputId": "8e99cdc2-2adc-420f-a2e7-f48649556a4d"
      },
      "execution_count": 4,
      "outputs": [
        {
          "output_type": "execute_result",
          "data": {
            "text/plain": [
              "[['A', 'B', 'C'], ['E', 'F', 'G'], ['H', 'I', 'J']]"
            ]
          },
          "metadata": {},
          "execution_count": 4
        }
      ]
    },
    {
      "cell_type": "code",
      "source": [
        "for r, rows in enumerate(mat) :\n",
        "  for c, letter in enumerate(rows) :\n",
        "    print(f'({r},{c}) : {letter}')"
      ],
      "metadata": {
        "colab": {
          "base_uri": "https://localhost:8080/"
        },
        "id": "-1c61gMJzSjA",
        "outputId": "1de95d82-ee04-4557-8ddc-402714d043c7"
      },
      "execution_count": 5,
      "outputs": [
        {
          "output_type": "stream",
          "name": "stdout",
          "text": [
            "(0,0) : A\n",
            "(0,1) : B\n",
            "(0,2) : C\n",
            "(1,0) : E\n",
            "(1,1) : F\n",
            "(1,2) : G\n",
            "(2,0) : H\n",
            "(2,1) : I\n",
            "(2,2) : J\n"
          ]
        }
      ]
    },
    {
      "cell_type": "code",
      "source": [
        "users = [{'mail': 'gregorythomas@gmail.com', 'name': 'Brett Holland', 'sex': 'M', 'age': 73},\n",
        " {'mail': 'hintoncynthia@hotmail.com', 'name': 'Madison Martinez', 'sex': 'F', 'age': 29},\n",
        " {'mail': 'wwagner@gmail.com', 'name': 'Michael Jenkins', 'sex': 'M', 'age': 51},\n",
        " {'mail': 'daniel79@gmail.com', 'name': 'Karen Rodriguez', 'sex': 'F', 'age': 32},\n",
        " {'mail': 'ujackson@gmail.com', 'name': 'Amber Rhodes', 'sex': 'F', 'age': 42}]\n",
        "users"
      ],
      "metadata": {
        "colab": {
          "base_uri": "https://localhost:8080/"
        },
        "id": "0DcFyNA5zaZp",
        "outputId": "90246376-bcec-4d66-d131-622b8ef5c029"
      },
      "execution_count": 6,
      "outputs": [
        {
          "output_type": "execute_result",
          "data": {
            "text/plain": [
              "[{'age': 73,\n",
              "  'mail': 'gregorythomas@gmail.com',\n",
              "  'name': 'Brett Holland',\n",
              "  'sex': 'M'},\n",
              " {'age': 29,\n",
              "  'mail': 'hintoncynthia@hotmail.com',\n",
              "  'name': 'Madison Martinez',\n",
              "  'sex': 'F'},\n",
              " {'age': 51,\n",
              "  'mail': 'wwagner@gmail.com',\n",
              "  'name': 'Michael Jenkins',\n",
              "  'sex': 'M'},\n",
              " {'age': 32,\n",
              "  'mail': 'daniel79@gmail.com',\n",
              "  'name': 'Karen Rodriguez',\n",
              "  'sex': 'F'},\n",
              " {'age': 42, 'mail': 'ujackson@gmail.com', 'name': 'Amber Rhodes', 'sex': 'F'}]"
            ]
          },
          "metadata": {},
          "execution_count": 6
        }
      ]
    },
    {
      "cell_type": "code",
      "source": [
        "list_keys = list(users[0].keys())\n",
        "\n",
        "for key in list_keys :\n",
        "  if key == list_keys[0] :\n",
        "    res = eval(f'reduce(lambda acc, cur : acc + [cur[\"{key}\"]], users, [])')\n",
        "  else :\n",
        "    res = np.c_[res, eval(f'reduce(lambda acc, cur : acc + [cur[\"{key}\"]], users, [])')]\n",
        "\n",
        "res"
      ],
      "metadata": {
        "colab": {
          "base_uri": "https://localhost:8080/"
        },
        "id": "BInuly6z1Qgv",
        "outputId": "e57a39d6-1aa3-4285-906e-ef39a5890d10"
      },
      "execution_count": 9,
      "outputs": [
        {
          "output_type": "execute_result",
          "data": {
            "text/plain": [
              "array([['gregorythomas@gmail.com', 'Brett Holland', 'M', '73'],\n",
              "       ['hintoncynthia@hotmail.com', 'Madison Martinez', 'F', '29'],\n",
              "       ['wwagner@gmail.com', 'Michael Jenkins', 'M', '51'],\n",
              "       ['daniel79@gmail.com', 'Karen Rodriguez', 'F', '32'],\n",
              "       ['ujackson@gmail.com', 'Amber Rhodes', 'F', '42']], dtype='<U25')"
            ]
          },
          "metadata": {},
          "execution_count": 9
        }
      ]
    },
    {
      "cell_type": "code",
      "source": [
        "a = np.random.randint(1,10, 100)\n",
        "Counter(a)"
      ],
      "metadata": {
        "colab": {
          "base_uri": "https://localhost:8080/"
        },
        "id": "YNXSG1PP1jrb",
        "outputId": "d67f7259-c712-4b6b-e426-b36e46fed2f9"
      },
      "execution_count": 10,
      "outputs": [
        {
          "output_type": "execute_result",
          "data": {
            "text/plain": [
              "Counter({1: 6, 2: 12, 3: 15, 4: 8, 5: 11, 6: 17, 7: 7, 8: 8, 9: 16})"
            ]
          },
          "metadata": {},
          "execution_count": 10
        }
      ]
    },
    {
      "cell_type": "code",
      "source": [
        "portfolio = [\n",
        "    ('GOOG', 100, 490.1),\n",
        "    ('IBM', 50, 91.1),\n",
        "    ('CAT', 150, 83.44),\n",
        "    ('IBM', 100, 45.23),\n",
        "    ('GOOG', 75, 572.45),\n",
        "    ('AA', 50, 23.15)\n",
        "]\n",
        "portfolio"
      ],
      "metadata": {
        "colab": {
          "base_uri": "https://localhost:8080/"
        },
        "id": "A7Da_lBw1vlk",
        "outputId": "3bb10405-318d-4a91-f7d5-d2235b35f93e"
      },
      "execution_count": 11,
      "outputs": [
        {
          "output_type": "execute_result",
          "data": {
            "text/plain": [
              "[('GOOG', 100, 490.1),\n",
              " ('IBM', 50, 91.1),\n",
              " ('CAT', 150, 83.44),\n",
              " ('IBM', 100, 45.23),\n",
              " ('GOOG', 75, 572.45),\n",
              " ('AA', 50, 23.15)]"
            ]
          },
          "metadata": {},
          "execution_count": 11
        }
      ]
    },
    {
      "cell_type": "code",
      "source": [
        "res = Counter()\n",
        "\n",
        "for com, share, price in portfolio :\n",
        "  res[com] += share\n",
        "\n",
        "res"
      ],
      "metadata": {
        "colab": {
          "base_uri": "https://localhost:8080/"
        },
        "id": "DCvFafv21xSU",
        "outputId": "4b3d2284-4916-4d43-a34c-f317221cf41b"
      },
      "execution_count": 12,
      "outputs": [
        {
          "output_type": "execute_result",
          "data": {
            "text/plain": [
              "Counter({'AA': 50, 'CAT': 150, 'GOOG': 175, 'IBM': 150})"
            ]
          },
          "metadata": {},
          "execution_count": 12
        }
      ]
    },
    {
      "cell_type": "code",
      "source": [
        "res = defaultdict(list) \n",
        "\n",
        "for com, share, price in portfolio : \n",
        "  res[com].append((share, price))\n",
        "  \n",
        "res"
      ],
      "metadata": {
        "colab": {
          "base_uri": "https://localhost:8080/"
        },
        "id": "1sh3tRIJ15EC",
        "outputId": "c2466056-d527-4c1b-bd03-b413aeec1ee5"
      },
      "execution_count": 14,
      "outputs": [
        {
          "output_type": "execute_result",
          "data": {
            "text/plain": [
              "defaultdict(list,\n",
              "            {'AA': [(50, 23.15)],\n",
              "             'CAT': [(150, 83.44)],\n",
              "             'GOOG': [(100, 490.1), (75, 572.45)],\n",
              "             'IBM': [(50, 91.1), (100, 45.23)]})"
            ]
          },
          "metadata": {},
          "execution_count": 14
        }
      ]
    },
    {
      "cell_type": "code",
      "source": [
        ""
      ],
      "metadata": {
        "id": "KkDKeAIC2Cdo"
      },
      "execution_count": null,
      "outputs": []
    }
  ]
}